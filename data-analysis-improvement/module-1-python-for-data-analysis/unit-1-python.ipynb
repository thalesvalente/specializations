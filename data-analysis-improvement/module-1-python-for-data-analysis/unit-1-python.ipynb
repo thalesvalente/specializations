{
 "cells": [
  {
   "cell_type": "markdown",
   "metadata": {},
   "source": [
    "# 1. Pilares do pensamento computacional"
   ]
  },
  {
   "cell_type": "markdown",
   "metadata": {},
   "source": [
    "- Decomposição\n",
    "    - a decomposição consiste em dividir um problema complexo em partes menores e mais gerenciáveis. \n",
    "    - cada subproblema pode ser resolvido individualmente, facilitando a resolução do problema original. \n",
    "        - Por exemplo, poderíamos precisar calcular o percentual do PIB de cada estado no total do país. Esse problema poderia ser divido da seguinte forma: \n",
    "            - somar o PIB de todos os estados para obter o PIB total; \n",
    "            - para cada estado, dividir o PIB do estado pelo PIB total; e \n",
    "            - multiplicar o resultado por 100 para obter o percentual.\n",
    "\n",
    "- Reconhecimento de padrões\n",
    "    - o reconhecimento de padrões envolve a identificação de semelhanças ou padrões entre problemas, ou em um mesmo problema. \n",
    "    - a utilização de soluções anteriores pode auxiliar na resolução de novos problemas, simplificando o processo. \n",
    "        - Por exemplo, para todos os estados, podemos aplicar a seguinte expressão: \n",
    "\n",
    "$$percent_{pib} = \\frac{(pib_{estado})*100}{pib_{total}}$$\n",
    "\n",
    "- Abstração\n",
    "    - a abstração refere-se à remoção de detalhes específicos para se concentrar nas características essenciais de um problema ou sistema. \n",
    "    - isso permite criar representações simplificadas que são mais fáceis de manipular e entender. \n",
    "    - além disso, com a abstração, poderíamos observar que se tratava apenas de um cálculo de percentual e usar uma funcionalidade já existente na linguagem e/ou ferramenta usada.\n",
    "\n",
    "- Algoritmos\n",
    "    - os algoritmos são as sequências de passos ou instruções que irão resolver o problema em si. \n",
    "    - observe, a seguir, a apresentação em alto nível dos passos para calcular o percentual do PIB por estado e como poderíamos escrever essas etapas usando a linguagem de programação Python e a biblioteca Pandas. \n",
    "    - não se preocupe em entender em detalhes os códigos, foque apenas no conceito de algoritmo e observe que podemos realizar todos os passos com poucas linhas de código.\n",
    "\n",
    "Para finalizar esta seção, leia esta definição de algoritmo:\n",
    "\n",
    "> \"Um algoritmo é um método finito, escrito em um vocabulário fixo, regido por instruções precisas, que se movem em passos discretos, 1, 2, 3, ..., cuja execução não requer insight, esperteza, intuição, inteligência ou clareza e que mais cedo ou mais tarde chega a um fim\" (BERLINSKI, 2002, p.21).\"\n",
    "\n",
    "Esse conceito captura uma importante característica desse pilar do pensamento computacional: a inteligência está na construção do algoritmo, e não na sua execução. Portanto, é uma forma de representar e compartilhar o conhecimento que se tem sobre um determinado problema, podendo ser executado por um computador e entendido por qualquer pessoa que compreenda essa linguagem."
   ]
  },
  {
   "cell_type": "markdown",
   "metadata": {},
   "source": [
    "**Análise Percentual do PIB por Estado**\n",
    "- **Passo 1:** Coletar os dados de entrada"
   ]
  },
  {
   "cell_type": "code",
   "execution_count": null,
   "metadata": {},
   "outputs": [],
   "source": [
    "import pandas as pd\n",
    "df = pd.read_excel('https://drive?id=1hw-SPd8EMBgsaXUKu3FpOhWe4NANgu30')"
   ]
  },
  {
   "cell_type": "markdown",
   "metadata": {},
   "source": [
    "- **Passo 2:** Calcular o PIB total"
   ]
  },
  {
   "cell_type": "code",
   "execution_count": null,
   "metadata": {},
   "outputs": [],
   "source": [
    "pib_total = df['PIB'].sum()"
   ]
  },
  {
   "cell_type": "markdown",
   "metadata": {},
   "source": [
    "- **Passo 3:** Calcular o percentual do PIB para cada estado"
   ]
  },
  {
   "cell_type": "code",
   "execution_count": null,
   "metadata": {},
   "outputs": [],
   "source": [
    "df['PIB Percentual'] = (df['PIB'] / pib_total) * 100"
   ]
  },
  {
   "cell_type": "markdown",
   "metadata": {},
   "source": [
    "- **Passo 4:** Retornar os percentuais"
   ]
  },
  {
   "cell_type": "code",
   "execution_count": null,
   "metadata": {},
   "outputs": [],
   "source": [
    "df.set_index('Estado')['PIB Percentual'].sort_values(ascending=False)\n"
   ]
  },
  {
   "cell_type": "markdown",
   "metadata": {},
   "source": [
    "# 2. Linguagem Python e ambiente de desenvolvimento"
   ]
  },
  {
   "cell_type": "markdown",
   "metadata": {},
   "source": [
    "Python é uma linguagem de programação de alto nível, interpretada e de propósito geral. Criada por Guido van Rossum e lançada pela primeira vez em 1991, Python se destaca por sua sintaxe clara e legível, que facilita tanto o aprendizado quanto a escrita de códigos (LUTZ, 2013). Sua filosofia de design enfatiza a legibilidade do código e permite que os programadores expressem conceitos em menos linhas de código em comparação com outras linguagens, como C++ ou Java.\n",
    "\n",
    "Python é amplamente utilizado em várias áreas, incluindo desenvolvimento web, automação, análise de dados, aprendizado de máquina, inteligência artificial, desenvolvimento de jogos e mais. Sua vasta biblioteca padrão e a disponibilidade de inúmeros pacotes e frameworks de terceiros tornam-na uma ferramenta poderosa para desenvolvedores.\n"
   ]
  },
  {
   "cell_type": "markdown",
   "metadata": {},
   "source": [
    "Enquanto desenvolvedores de software geralmente utilizam IDEs (Integrated Development Environments), ou Ambientes de Desenvolvimento Integrados, muitos analistas de dados preferem utilizar Jupyter Notebooks, que é um ambiente interativo de computação que permite aos usuários criarem e compartilharem documentos que contêm código executável, visualizações e texto narrativo. Originalmente desenvolvido como parte do projeto IPython, o Jupyter tornou-se um projeto independente e agora suporta várias linguagens de programação por meio de um sistema de extensões conhecido como kernels.\n",
    "\n",
    "<div style=\"display: flex; align-items: center;\">\n",
    "  <div style=\"flex: 0.5;\">\n",
    "    <img src=\"jupyter.png\" style=\"width: 200%; max-width: 500px;\"/> <!-- Ajuste a largura máxima conforme necessário -->\n",
    "  </div>\n",
    "  <div style=\"flex: 10; margin-left: 100px;\"> <!-- Aumente o flex para dar mais espaço ao texto e adicione margin-left para espaço -->\n",
    "    Python é uma linguagem de programação de alto nível, interpretada e de propósito geral. Criada por Guido van Rossum e lançada pela primeira vez em 1991, Python se destaca por sua sintaxe clara e legível, que facilita tanto o aprendizado quanto a escrita de códigos (LUTZ, 2013). Sua filosofia de design enfatiza a legibilidade do código e permite que os programadores expressem conceitos em menos linhas de código em comparação com outras linguagens, como C++ ou Java.\n",
    "\n",
    "Python é amplamente utilizado em várias áreas, incluindo desenvolvimento web, automação, análise de dados, aprendizado de máquina, inteligência artificial, desenvolvimento de jogos e mais. Sua vasta biblioteca padrão e a disponibilidade de inúmeros pacotes e frameworks de terceiros tornam-na uma ferramenta poderosa para desenvolvedores.\n",
    "\n",
    "  </div>\n",
    "</div>"
   ]
  },
  {
   "cell_type": "markdown",
   "metadata": {},
   "source": [
    "Jupyter Notebooks promovem o conceito de Literate Programming, ou Programação Literária, um paradigma de programação introduzido por Donald Knuth em 1984. \n",
    "Knuth descreveu a Programação Literária como a combinação de \"linguagem de programação\" e \"linguagem natural\" para criar um documento coeso que pode ser lido como um ensaio explicativo. Esse documento contém fragmentos de código que são compilados e executados, mas também inclui explicações detalhadas, introdução a conceitos e outros comentários que ajudam a contextualizar o código. Desse modo, um notebook permite combinar código executável, visualizações e texto explicativo em um único documento interativo. Isso torna os notebooks uma escolha ideal para cientistas de dados, pesquisadores e educadores que desejam compartilhar suas análises de forma transparente e reprodutível.\n",
    "\n",
    "\n",
    "A ideia central é que um programa deve ser escrito de forma que seja compreensível tanto para humanos quanto para computadores. Isso é alcançado integrando o código com a documentação, as explicações e os comentários em um formato narrativo. A Programação Literária facilita a leitura e compreensão do código, tornando-o mais acessível e fácil de manter. \n",
    "\n",
    "<div style=\"display: flex; align-items: center;\">\n",
    "  <div style=\"flex: 3.5;\">\n",
    "    <img src=\"anaconda-navigator.png\" style=\"width: 400%; max-width: 500px;\"/> <!-- Ajuste a largura máxima conforme necessário -->\n",
    "  </div>\n",
    "  <div style=\"flex: 10; margin-left: 100px;\"> <!-- Aumente o flex para dar mais espaço ao texto e adicione margin-left para espaço -->\n",
    "  \n",
    "  Para utilizar esse ambiente, será necessária a instalação de diversas ferramentas e bibliotecas. Contudo, esse processo poderá ser facilitado mediante uma distribuição voltada para a ciência de dados e o aprendizado de máquina denominada Anaconda. Essa distribuição facilita a instalação e o gerenciamento de bibliotecas e dependências, o que é especialmente útil em projetos complexos. Alguns componentes e benefícios do Anaconda incluem:\n",
    "\n",
    "  - Conda: um poderoso gerenciador de pacotes e ambientes que facilita a instalação de bibliotecas específicas e a criação de ambientes isolados.\n",
    "\n",
    "  - Jupyter Notebook: Ferramenta interativa para desenvolvimento de código, que permite combinar código, texto, visualizações e recursos multimídia em um único documento.\n",
    "\n",
    "  - Anaconda Navigator: interface gráfica que facilita a gestão de pacotes, ambientes e aplicações.\n",
    "  </div>\n",
    "</div>\n"
   ]
  },
  {
   "cell_type": "markdown",
   "metadata": {},
   "source": [
    "### SAIBA MAIS"
   ]
  },
  {
   "cell_type": "markdown",
   "metadata": {},
   "source": [
    "DataCamp\n",
    "Você também pode ler um excelente tutorial elaborado pela DataCamp.\n",
    "Anaconda\n",
    "Para mais informações sobre como baixar e instalar o Anaconda, você pode visitar o site oficial."
   ]
  },
  {
   "cell_type": "markdown",
   "metadata": {},
   "source": [
    "## 2.1 Google Colaboratory"
   ]
  },
  {
   "cell_type": "markdown",
   "metadata": {},
   "source": [
    "<div style=\"display: flex; align-items: center;\">\n",
    "  <div style=\"flex: 3.5;\">\n",
    "    <img src=\"google-colaboratory.png\" style=\"width: 400%; max-width: 500px;\"/> <!-- Ajuste a largura máxima conforme necessário -->\n",
    "  </div>\n",
    "  <div style=\"flex: 10; margin-left: 100px;\"> <!-- Aumente o flex para dar mais espaço ao texto e adicione margin-left para espaço -->\n",
    "  \n",
    "  Uma alternativa para iniciar em análise de dados sem ter que instalar essas ferramentas e bibliotecas é o **Google Colab** ou **Colaboratory**. Esse é um ambiente de desenvolvimento interativo fornecido pelo Google que permite escrever e executar código Python diretamente no navegador, sem a necessidade de instalar nada no seu computador. Ele já vem instalado com as bibliotecas mais utilizadas para análise de dados e permite a instalação de novas bibliotecas quando necessárias. Para utilizá-lo, é preciso ter uma conta Google e conexão com a Internet. \n",
    "A Figura lateral apresenta um Jupyter Notebook aberto no Google Colab.\n",
    "\n",
    "Neste momento, iremos optar pelo Google Colab, ou Colaboratory, por já vir com as principais bibliotecas instaladas e permitir o fácil compartilhamento dos notebooks. Para começar a usar o Google Colab, siga os seguintes passos:\n",
    "\n",
    "  - Para começar a usar o Google Colab, você precisa de uma conta Google. Com ela, você irá acessar o site:\n",
    "\n",
    "  </div>\n",
    "</div>\n",
    "\n",
    "<div style=\"display: flex; align-items: center;\">\n",
    "  <div style=\"flex: 3.5;\">\n",
    "    <img src=\"google-colaboratory-passos-1.png\" style=\"width: 400%; max-width: 500px;\"/> <!-- Ajuste a largura máxima conforme necessário -->\n",
    "  </div>\n",
    "  <div style=\"flex: 10; margin-left: 100px;\"> <!-- Aumente o flex para dar mais espaço ao texto e adicione margin-left para espaço -->\n",
    "  \n",
    "  - Para começar a usar o Google Colab, você precisa de uma conta Google. Com ela, você irá acessar o site, Na página inicial do Google Colab, clicar em \"Novo Notebook\" para criar um ambiente de trabalho e executar o passo-a-passo ilustrado na figura lateral\n",
    "  \n",
    "  </div>\n",
    "</div>\n",
    "\n",
    "  </div>\n",
    "</div>\n",
    "\n",
    "<div style=\"display: flex; align-items: center;\">\n",
    "  <div style=\"flex: 3.5;\">\n",
    "    <img src=\"google-colaboratory-passos-2.png\" style=\"width: 400%; max-width: 500px;\"/> <!-- Ajuste a largura máxima conforme necessário -->\n",
    "  </div>\n",
    "  <div style=\"flex: 10; margin-left: 100px;\"> <!-- Aumente o flex para dar mais espaço ao texto e adicione margin-left para espaço -->\n",
    "  \n",
    "  - Após a criação do Notebook, clique no título do Notebook (inicialmente \"Untitled\") no topo da página para renomeá-lo conforme sua necessidade. Por exemplo, escreva ‘Primeiro Notebook’:\n",
    "  \n",
    "  </div>\n",
    "</div>\n"
   ]
  },
  {
   "cell_type": "markdown",
   "metadata": {},
   "source": [
    "<div style=\"display: flex; align-items: center;\">\n",
    "  <div style=\"flex: 3.5;\">\n",
    "    <img src=\"google-colaboratory-passos-3.png\" style=\"width: 400%; max-width: 500px;\"/> <!-- Ajuste a largura máxima conforme necessário -->\n",
    "  </div>\n",
    "  <div style=\"flex: 10; margin-left: 100px;\"> <!-- Aumente o flex para dar mais espaço ao texto e adicione margin-left para espaço -->\n",
    "  \n",
    "  - A partir desse primeiro notebook, você já será capaz de escrever código em Python, como os que serão apresentados neste texto. A interface gráfica do notebook apresenta alguns elementos que estão destacados na Figura 8, passe o mouse sobre os pontos azuis para conhecer\n",
    "  \n",
    "  </div>\n",
    "</div>"
   ]
  },
  {
   "cell_type": "markdown",
   "metadata": {},
   "source": [
    "## 2.2 Tipos de dados e operações"
   ]
  },
  {
   "cell_type": "markdown",
   "metadata": {},
   "source": [
    "\n",
    "<div style=\"display: flex; align-items: center;\">\n",
    "  <div style=\"flex: 1.5;\">\n",
    "    <img src=\"componentes-sistema.png\" style=\"width: 200%; max-width: 300px;\"/> <!-- Ajuste a largura máxima conforme necessário -->\n",
    "  </div>\n",
    "  <div style=\"flex: 10; margin-left: 100px;\"> <!-- Aumente o flex para dar mais espaço ao texto e adicione margin-left para espaço -->\n",
    "  \n",
    "  Em computação, \"dados\" referem-se a qualquer conjunto de valores ou informações que podem ser processados por um computador. Esses dados podem representar uma variedade de coisas, incluindo texto, números, imagens, áudio, vídeo, sinais, medições e qualquer outra informação que possa ser digitalizada e utilizada para fins de cálculo, análise ou armazenamento. Em computação, estamos sempre processando dados de entrada que irão gerar novos dados de saída, como na Figura 9. Observe que a saída de dados de um processo poderá ser a entrada para outro processo.\n",
    "\n",
    "  - Como exemplo, considere que você está recebendo um salário de R$2.500 e lhe foi prometido um aumento de 15% caso você conclua um curso sobre ciência de dados. Você rapidamente poderia colocar na calculadora do seu celular. Mas, será que poderíamos fazer um script que calculasse o valor final para qualquer valor inicial e percentagem? Quais seriam os passos? Como descrito anteriormente, primeiro precisamos definir quais serão as entradas de dados. Nesse caso, teríamos o salário atual e a percentagem de aumento, que, no exemplo anterior, eram os valores 2500 e 15. Porém, para escrever nossos algoritmos, não podemos pensar em valores específicos, como 2500 e 15, temos que abstrair esses valores. Isso permitirá focar nas relações que são verdadeiras independentemente de um valor específico.\n",
    "  \n",
    "  </div>\n",
    "</div>"
   ]
  },
  {
   "cell_type": "markdown",
   "metadata": {},
   "source": [
    "<div style=\"display: flex; align-items: center;\">\n",
    "  <div style=\"flex: 1.5;\">\n",
    "    <img src=\"pitagoras.png\" style=\"width: 200%; max-width: 300px;\"/> <!-- Ajuste a largura máxima conforme necessário -->\n",
    "  </div>\n",
    "  <div style=\"flex: 10; margin-left: 100px;\"> <!-- Aumente o flex para dar mais espaço ao texto e adicione margin-left para espaço -->\n",
    "  \n",
    "  - Você sabia que séculos atrás os matemáticos já usavam variáveis para descrever as propriedades e relações entre os números? Como exemplo, temos a famosa relação entre os lados de um triângulo retângulo descrita na figura ao lado.\n",
    "  \n",
    "  </div>\n",
    "</div>"
   ]
  },
  {
   "cell_type": "markdown",
   "metadata": {},
   "source": [
    "É importante destacar que existem algumas ressalvas relacionadas ao nome de variáveis em linguagens de programação, como a restrição no uso de espaços e acentos. Então, a fórmula para o novo salário após um aumento, dado o salário atual e a percentagem de aumento, pode ser descrita da seguinte maneira:\n",
    "\n",
    "$$\n",
    "novo\\_salario = salario\\_atual \\times \\left(1 + \\frac{percentagem\\_aumento}{100}\\right)\n",
    "$$"
   ]
  },
  {
   "cell_type": "markdown",
   "metadata": {},
   "source": [
    "**Comando de atribuição (=)**  \n",
    "\n",
    "Para associar valores para as variáveis de entrada: $salario_{atual}$ e $porcentagem_{aumento}$. Para a manipulação de dados, estaremos sempre aplicando operações e atribuindo resultados para variáveis. A sintaxe básica do comando de atribuição é bem simples:\n",
    "> = valor\n",
    "\n",
    "Para o nosso exemplo, podemos atribuir o valor `2500` para a variável $salario_{atual}$  \n",
    "$$salario_{atual} = 2500$$  \n",
    "\n",
    "E depois realizar o mesmo com a variável $porcentagem_{aumento}$:\n",
    "$$porcentagem_{aumento} = 15$$\n",
    "\n",
    "Nesse exemplo simples, o processamento será o cálculo do novo_salario, que terá como atribuição a expressão da fórmula que apresentamos anteriormente. Para esse cálculo, iremos usar operadores aritméticos e parênteses de modo similar ao que aprendemos nas aulas de matemática. "
   ]
  },
  {
   "cell_type": "markdown",
   "metadata": {},
   "source": [
    "**Operadores aritméticos**  \n",
    "\n",
    "Existem algumas diferenças nos símbolos de multiplicação e divisão, como demonstrado na seguinte tabela abaixo:\n",
    "\n",
    "| Operador | Descrição               | Exemplo                   |\n",
    "|----------|-------------------------|---------------------------|\n",
    "| +        | Adição                  | `a = 5 + 3` (a será 8)    |\n",
    "| -        | Subtração               | `b = 7 - 2` (b será 5)    |\n",
    "| *        | Multiplicação           | `c = 4 * 6` (c será 24)   |\n",
    "| /        | Divisão                 | `d = 10 / 2` (d será 5.0) |\n",
    "| //       | Divisão inteira         | `e = 10 // 3` (e será 3)  |\n",
    "| %        | Módulo (resto da divisão)| `f = 10 % 3` (f será 1)   |\n",
    "| **       | Exponenciação           | `g = 2 ** 3` (g será 8)   |\n"
   ]
  },
  {
   "cell_type": "markdown",
   "metadata": {},
   "source": [
    "\n",
    "O algoritmo anterior foi capaz de demonstrar os componentes de entrada, o processamento e a saída de dados. Contudo, para simplificação, foram atribuídos valores constantes para as variáveis de entrada salario_atual e porcentagem_aumento. Em problemas reais, as entradas de dados são fornecidas por meio de arquivos, acesso à internet ou por um usuário. No caso de análise de dados, o mais comum serão arquivos de dados, como a planilha que estamos usando como exemplo.\n",
    "\n",
    "Em algumas situações, pode ser necessário receber a entrada de dados do usuário através do teclado. Para isso, temos a função input() que exibe uma mensagem (argumento opcional) e aguarda o usuário digitar algo. O que é digitado pelo usuário retorna e pode ser atribuído a uma variável (como fizemos com entrada, no exemplo anterior). O programa completo, com entrada de dados via função input(), ficaria como explicitado a seguir:\n",
    "\n",
    "```python\n",
    "# entrada \n",
    "salario_atual = input(\"Entre com salário atual: \") \n",
    "porcentagem_aumento = input(\"Entre com o percentual de aumento: \") \n",
    "# processamento \n",
    " novo_salario = salario_atual * ( 1 + porcentagem_aumento / 100)\n",
    "# saída \n",
    "print (novo_salario)\n",
    "```"
   ]
  },
  {
   "cell_type": "code",
   "execution_count": 1,
   "metadata": {},
   "outputs": [
    {
     "ename": "TypeError",
     "evalue": "unsupported operand type(s) for /: 'str' and 'int'",
     "output_type": "error",
     "traceback": [
      "\u001b[1;31m---------------------------------------------------------------------------\u001b[0m",
      "\u001b[1;31mTypeError\u001b[0m                                 Traceback (most recent call last)",
      "Cell \u001b[1;32mIn[1], line 5\u001b[0m\n\u001b[0;32m      3\u001b[0m porcentagem_aumento \u001b[38;5;241m=\u001b[39m \u001b[38;5;28minput\u001b[39m(\u001b[38;5;124m\"\u001b[39m\u001b[38;5;124mEntre com o percentual de aumento: \u001b[39m\u001b[38;5;124m\"\u001b[39m) \n\u001b[0;32m      4\u001b[0m \u001b[38;5;66;03m# processamento \u001b[39;00m\n\u001b[1;32m----> 5\u001b[0m novo_salario \u001b[38;5;241m=\u001b[39m salario_atual \u001b[38;5;241m*\u001b[39m ( \u001b[38;5;241m1\u001b[39m \u001b[38;5;241m+\u001b[39m \u001b[43mporcentagem_aumento\u001b[49m\u001b[43m \u001b[49m\u001b[38;5;241;43m/\u001b[39;49m\u001b[43m \u001b[49m\u001b[38;5;241;43m100\u001b[39;49m)\n\u001b[0;32m      6\u001b[0m \u001b[38;5;66;03m# saída \u001b[39;00m\n\u001b[0;32m      7\u001b[0m \u001b[38;5;28mprint\u001b[39m (novo_salario)\n",
      "\u001b[1;31mTypeError\u001b[0m: unsupported operand type(s) for /: 'str' and 'int'"
     ]
    }
   ],
   "source": [
    "# entrada \n",
    "salario_atual = input(\"Entre com salário atual: \") \n",
    "porcentagem_aumento = input(\"Entre com o percentual de aumento: \") \n",
    "# processamento \n",
    "novo_salario = salario_atual * ( 1 + porcentagem_aumento / 100)\n",
    "# saída \n",
    "print (novo_salario)"
   ]
  },
  {
   "cell_type": "markdown",
   "metadata": {},
   "source": [
    "Ao tentar executar esse código no Google Colab (ou em qualquer outro ambiente), teremos um erro. O que significa esse `str` e esse `int`? O que essa mensagem quer nos dizer? O que seria `TypeError`? Para sermos capazes de responder essas perguntas, precisamos entender o que são valores e tipos de dados.\n",
    "- Um dado (ou um valor) é a unidade básica trabalhada por nossos scripts, como um texto ou um número.   \n",
    "\n",
    "Os dados que vimos até aqui foram 2500, 15 e “Entre com o salário atual”. Esses dados pertencem a diferentes tipos, enquanto os dois primeiros são números, o terceiro é uma string. Isso mesmo, em linguagens de programação, os textos são chamados de strings e delimitados por aspas (simples ou duplas).\n",
    "\n",
    "A linguagem Python permite que saibamos os tipos dos valores associados às variáveis através do comando type:\n"
   ]
  },
  {
   "cell_type": "code",
   "execution_count": 2,
   "metadata": {},
   "outputs": [
    {
     "name": "stdout",
     "output_type": "stream",
     "text": [
      "<class 'int'>\n",
      "<class 'str'>\n"
     ]
    }
   ],
   "source": [
    "print(type(2500))\n",
    "print(type(\"Entre com o salário atual\"))"
   ]
  },
  {
   "cell_type": "markdown",
   "metadata": {},
   "source": [
    "Observe que, para a string, ele imprimiu `str`; mas, para o número, ele imprimiu `int`. Será que existem diferentes tipos de números? Qual seria o tipo do número 2500, 89?\n",
    "Antes de testar, precisamos lembrar que as linguagens de programação seguem geralmente o padrão americano para representar números. Nesse caso, a separação de decimal é ponto em vez de vírgula:"
   ]
  },
  {
   "cell_type": "code",
   "execution_count": null,
   "metadata": {},
   "outputs": [],
   "source": [
    "print(type(2500.89))"
   ]
  },
  {
   "cell_type": "markdown",
   "metadata": {},
   "source": [
    "Observe que realmente existem diferentes tipos de número, enquanto o tipo int representa um número inteiro, o tipo float representa os números reais. A tabela a seguir, sumariza os tipos básicos:\n",
    "\n",
    "| Tipo de Dado | Descrição                        | Exemplo               |\n",
    "|--------------|----------------------------------|-----------------------|\n",
    "| int          | Números inteiros                 | `x = 10`              |\n",
    "| float        | Números de ponto flutuante       | `y = 3.14`            |\n",
    "| str          | Sequências de caracteres         | `texto = \"Olá, mundo!\"`|\n",
    "| bool         | Valores booleanos (Verdadeiro/Falso) | `verdadeiro = True`    |\n"
   ]
  },
  {
   "cell_type": "markdown",
   "metadata": {},
   "source": [
    "Agora podemos entender melhor o erro anterior. A função `input()` sempre retorna uma string, logo, o valor das variáveis salario_atual e porcentagem_aumento eram strings. Desse modo, a linguagem não permitiu realizar operações aritméticas entre um valor inteiro e strings, causando um erro de tipo `(TypeError)`.\n",
    "\n",
    "\n",
    "A soma (ou a divisão, como nesse caso) entre uma `string` e um `número inteiro` não é uma operação válida ou definida. Para solucionar esse problema, a linguagem fornece operações que permitem converter dados de um tipo em outro. Por exemplo, podemos converter a saída `string` da função `input()` para um valor numérico usando funções como `int()` ou `float()`. \n",
    "\n",
    "Antes de realizar a conversão, podemos aproveitar para falar sobre precedência na avaliação de expressões. Como aprendemos nas aulas de matemática, os valores entre parênteses são avaliados primeiro. Entre as operações, a multiplicação e a divisão têm precedência sobre a soma e a subtração. Por isso, no nosso exemplo, o primeiro erro identificado foi na divisão entre a string “15” e o inteiro 100. Veja que a mensagem de erro está mostrando que a operação de divisão entre uma string e um inteiro não é suportada.\n",
    "\n",
    "Reescrevendo o nosso script que calcula o valor do novo salário, iremos converter as entradas para float, para não restringir nossas entradas a valores inteiros. O código final ficaria da seguinte forma:"
   ]
  },
  {
   "cell_type": "code",
   "execution_count": 3,
   "metadata": {},
   "outputs": [
    {
     "name": "stdout",
     "output_type": "stream",
     "text": [
      "110.00000000000001\n"
     ]
    }
   ],
   "source": [
    "salario_atual = float( input(\"Entre com salário atual: \") ) \n",
    "porcentagem_aumento = float(input(\"Entre com o percentual de aumento: \")) \n",
    "novo_salario = salario_atual * ( 1 + porcentagem_aumento / 100)\n",
    "print (novo_salario)"
   ]
  },
  {
   "cell_type": "markdown",
   "metadata": {},
   "source": [
    "A tabela a seguir descreve as funções de conversão entre outros tipos, inclusive para o tipo booleano sobre o qual já iremos falar.\n",
    "\n",
    "| Função   | Descrição                        | Exemplo               |\n",
    "|----------|----------------------------------|-----------------------|\n",
    "| int()    | Converte para inteiro            | `x = int(3.14)`       |\n",
    "| float()  | Converte para ponto flutuante    | `y = float(\"3.14\")`   |\n",
    "| str()    | Converte para string             | `texto = str(123)`    |\n",
    "| bool()   | Converte para booleano           | `verdadeiro = bool(1)`|\n"
   ]
  },
  {
   "cell_type": "markdown",
   "metadata": {},
   "source": [
    "No exemplo do cálculo do novo salário, foi necessária a utilização de operações aritméticas. Além dessas operações, em programação, é comum haver a necessidade de comparar grandezas. Por exemplo:\n",
    "- Se um dado número é maior ou menor que outro, o resultado dessa comparação será “sim” ou “não”.\n",
    "- O resultado dessa comparação será “sim” ou “não”, mas na programação é usado um tipo de dado chamado de lógico ou booleano. Ao invés de “sim” ou “não”, os valores lógicos são True (\"verdadeiro\" em inglês) e False (\"falso\" em inglês).\n",
    "\n",
    "Você percebeu que o operador de igualdade é representado por dois sinais de igual (`==`), enquanto o operador de atribuição é representado por apenas um sinal de igual (`=`)? Observe que se tentarmos usar o operador de atribuição no lugar do operador relacional, teremos um erro\n",
    "\n",
    "\n",
    "A tabela a seguir sumariza os operadores relacionais em Python, com descrições e exemplos:\n",
    "\n",
    "| Operador | Descrição            | Exemplo | Resultado |\n",
    "|----------|-----------------------|---------|-----------|\n",
    "| ==       | Igualdade             | 5 == 5  | True      |\n",
    "| !=       | Diferente             | 5 != 3  | True      |\n",
    "| >        | Maior que             | 5 > 3   | True      |\n",
    "| <        | Menor que             | 3 < 5   | True      |\n",
    "| >=       | Maior ou igual que    | 5 >= 5  | True      |\n",
    "| <=       | Menor ou igual que    | 3 <= 5  | True      |\n"
   ]
  },
  {
   "cell_type": "markdown",
   "metadata": {},
   "source": [
    "Uma expressão que usa operadores relacionais resulta em um valor booleano, logo é denominada de expressão booleana (ou lógica). Os operadores relacionais, como os aritméticos, são binários, uma vez que são aplicados a dois operandos. Como no exemplo anterior, o operador de igualdade foi aplicado a dois operandos (42 e 42) e produziu um valor booleano verdadeiro (True), posto que os operandos eram iguais. \n",
    "Para comparar mais de dois valores, precisamos combinar os valores booleanos usando um dos três operadores lógicos:\n",
    "| Operador | Descrição                                           | Exemplo     | Resultado |\n",
    "|----------|-----------------------------------------------------|-------------|-----------|\n",
    "| and      | Retorna True, se ambas as expressões forem verdadeiras. | True and False | False     |\n",
    "| or       | Retorna True, se pelo menos uma expressão for verdadeira. | True or False  | True      |\n",
    "| not      | Inverte o valor lógico de uma expressão.            | not True    | False     |\n"
   ]
  },
  {
   "cell_type": "markdown",
   "metadata": {},
   "source": [
    "Considere um algoritmo que verifica a validade de um triângulo dadas as dimensões do seus lados. Para um triângulo ser válido, a soma de dois lados quaisquer deve ser sempre maior que o terceiro lado.\n",
    "Como transcrever isso em uma expressão booleana?\n",
    "\n",
    "Da mesma forma que fizemos anteriormente, vamos abstrair os três lados por meio de três variáveis (a, b e c). Então, a soma de a com b deve ser maior que c; a soma de a com c deve ser maior que b; e a soma de b com c maior que a. Isso poderia ser descrito com a expressão do script a seguir:"
   ]
  },
  {
   "cell_type": "code",
   "execution_count": 4,
   "metadata": {},
   "outputs": [
    {
     "name": "stdout",
     "output_type": "stream",
     "text": [
      "é um triângulo válido?  True\n"
     ]
    }
   ],
   "source": [
    "a = 10\n",
    "b = 10 \n",
    "c = 10 \n",
    "triangulo_valido = a + b > c and a + c > b and b + c > a \n",
    "print(\"é um triângulo válido? \", triangulo_valido)"
   ]
  },
  {
   "cell_type": "markdown",
   "metadata": {},
   "source": [
    "\n",
    "\n",
    "<div style=\"display: flex; align-items: center;\">\n",
    "  <div style=\"flex: 3.5;\">\n",
    "    <img src=\"traingulo.png\" style=\"width: 400%; max-width: 500px;\"/> <!-- Ajuste a largura máxima conforme necessário -->\n",
    "  </div>\n",
    "  <div style=\"flex: 10; margin-left: 100px;\"> <!-- Aumente o flex para dar mais espaço ao texto e adicione margin-left para espaço -->\n",
    "  \n",
    "  Nesse exemplo, serão impressos os valores em inglês: True ou False. Adicionalmente, talvez você lembre que esse seria um exemplo de um triângulo equilátero, uma vez que os três lados são iguais. \n",
    "Temos também o triângulo com 2 lados iguais (isóceles) e todos os lados diferentes (escaleno)\n",
    "  Com essas expressões identificadas, poderíamos incluir essa verificação ao exemplo anterior.\n",
    "Para identificar se é um triângulo **equilátero**, basta verificar se todos os lados são iguais:\n",
    "```python\n",
    "a == b and b == c\n",
    "```\n",
    "No caso do **isósceles**, precisamos verificar se um dos quaisquer pares de lado são iguais:\n",
    "```python\n",
    "a == b or a == c or b == c\n",
    "```\n",
    "\n",
    "Já no **escaleno**, precisamos verificar se todos os pares possíveis são diferentes:\n",
    "```python\n",
    "a != b and a != c and b != c\n",
    "```\n",
    "  </div>\n",
    "</div>"
   ]
  },
  {
   "cell_type": "markdown",
   "metadata": {},
   "source": [
    "Observe que, no exemplo, todas as linhas de código serão sempre executadas. Mesmo quando não é um triângulo válido, os testes serão executados. Além disso, mesmo quando é identificado que se trata de um triângulo equilátero, o script continuará testando os outros dois tipos. \n"
   ]
  },
  {
   "cell_type": "code",
   "execution_count": 5,
   "metadata": {},
   "outputs": [
    {
     "name": "stdout",
     "output_type": "stream",
     "text": [
      "É um triângulo válido?  True\n",
      "É um triângulo equilátero?  False\n",
      "É um triângulo isósceles?  False\n",
      "É um triângulo escaleno?  True\n"
     ]
    }
   ],
   "source": [
    "a = 10\n",
    "b = 8\n",
    "c = 7\n",
    "\n",
    "triangulo_valido = a + b > c and a + c > b and b + c > a\n",
    "print(\"É um triângulo válido? \", triangulo_valido)\n",
    "\n",
    "eh_equilaterio = triangulo_valido and (a == b == c)\n",
    "print(\"É um triângulo equilátero? \", eh_equilaterio)\n",
    "\n",
    "eh_isosceles = triangulo_valido and ((a == b or a == c or b == c) and not (a == b == c))\n",
    "print(\"É um triângulo isósceles? \", eh_isosceles)\n",
    "\n",
    "eh_escaleno = triangulo_valido and (a != b and a != c and b != c)\n",
    "print(\"É um triângulo escaleno? \", eh_escaleno)"
   ]
  },
  {
   "cell_type": "markdown",
   "metadata": {},
   "source": [
    "## 2.3 Abstraindo expressões e comandos"
   ]
  },
  {
   "cell_type": "markdown",
   "metadata": {},
   "source": [
    "Anteriormente, usamos a definição de triângulos para exemplificar o uso de expressões lógicas e operadores relacionais. Vimos que a seguinte expressão definiria um triângulo válido:\n",
    "\n",
    "> a + b > c and a + c > b and b + c > a\n",
    "\n",
    "Ao olhar essa expressão isoladamente, daqui a alguns meses, poucos de nós iremos lembrar o que ela definia. Por isso, seria melhor nomearmos essa expressão criando uma abstração, assim, ela poderia ser aplicada a outras variáveis e valores.\n",
    "\n",
    "Linguagens de programação, como Python, permitem que criemos nossas próprias abstrações. Podemos abstrair expressões complexas e sequências de comandos por meio de funções que possuam um nome e opcionalmente alguns parâmetros de entrada, como na seguinte estrutura:\n",
    "``` python\n",
    "def NOME( PARÂMETROS ): \n",
    "       COMANDOS\n",
    "```\n",
    "Agora que sabemos as regras e convenções para os identificadores, poderemos criar a função que irá abstrair a expressão que identifica se um dado triângulo é válido:"
   ]
  },
  {
   "cell_type": "code",
   "execution_count": 7,
   "metadata": {},
   "outputs": [],
   "source": [
    "def triangulo_valido(a, b, c):\n",
    "    resultado = a + b > c and a + c > b and b + c > a\n",
    "    return resultado"
   ]
  },
  {
   "cell_type": "markdown",
   "metadata": {},
   "source": [
    "No caso do isósceles, precisamos verificar se um dos quaisquer pares de lado são iguais:"
   ]
  },
  {
   "cell_type": "code",
   "execution_count": 10,
   "metadata": {},
   "outputs": [
    {
     "name": "stdout",
     "output_type": "stream",
     "text": [
      "True\n",
      "True\n",
      "True\n"
     ]
    }
   ],
   "source": [
    "print(triangulo_valido(10, 10, 10)) # True (equilátero)\n",
    "print(triangulo_valido(10, 8, 10)) # True (isosceles)\n",
    "print(triangulo_valido(10, 7, 8)) # True (escaleno)"
   ]
  },
  {
   "cell_type": "markdown",
   "metadata": {},
   "source": [
    "Ou podemos criar variáveis e então passá-las como parâmetros:"
   ]
  },
  {
   "cell_type": "code",
   "execution_count": 9,
   "metadata": {},
   "outputs": [
    {
     "name": "stdout",
     "output_type": "stream",
     "text": [
      "True\n"
     ]
    }
   ],
   "source": [
    "lado_a = 10\n",
    "lado_b = 10\n",
    "lado_c = 8\n",
    "print(triangulo_valido(lado_a,lado_b, lado_c))"
   ]
  },
  {
   "cell_type": "markdown",
   "metadata": {},
   "source": [
    "Funções são construções relativamente simples e, com um pouco de prática, você conseguirá identificar partes de um programa ou script que poderão ser “encapsuladas” como uma função.   \n",
    "- Encapsulamento é uma palavra que você irá encontrar nos livros de programação e computação. \n",
    "    - Ela se refere à prática de esconder detalhes específicos de implementação e expor apenas o que é necessário para usar uma função. \n",
    "    - Isso ajuda a manter o código organizado e fácil de usar. Como se fosse uma caixa, ou um controle remoto, que expõe alguns botões que executam determinadas operações. \n",
    "    - Quando usamos a função triângulo válido, não precisamos mais nos preocupar com a sua estrutura interna, da mesma forma que não precisamos saber como um controle remoto funciona.\n",
    "\n",
    "link: https://docs.python.org/pt-br/3.10/tutorial/controlflow.html#defining-functions\n"
   ]
  },
  {
   "cell_type": "markdown",
   "metadata": {},
   "source": [
    "## 2.4 Estruturas de Dados"
   ]
  },
  {
   "cell_type": "markdown",
   "metadata": {},
   "source": [
    "Como vimos anteriormente, os tipos de dados básicos incluem: int, float, bool e str. Esses tipos podem ser agrupados através de estruturas de dados, que atuam como contêineres ou coleções, que estão apresentados na seguinte tabela:\n",
    "\n",
    "| Tipo de Dado | Descrição                            | Exemplo                    |\n",
    "|--------------|--------------------------------------|----------------------------|\n",
    "| tuple        | Sequência imutável de elementos      | `tupla = (1, 2, 3)`        |\n",
    "| list         | Sequência mutável de elementos       | `lista = [1, 2, 3, 4]`     |\n",
    "| dict         | Coleção de pares chave-valor         | `dicionario = {'chave': 'valor'}` |\n",
    "| set          | Coleção não ordenada de elementos únicos | `conjunto = {1, 2, 3}`      |\n",
    "\n",
    "\n",
    "Dentre essas coleções, é usual iniciar a explicação pelas listas, por serem as mais utilizadas. Contudo, aqui vamos começar com as `tuplas`, que são `coleções e de elementos`, tornando-as úteis para representar dados que `não devem ser modificados ao longo do tempo` e que representam uma unidade. Por exemplo, os lados de um triângulo poderiam estar agrupados em uma tupla:"
   ]
  },
  {
   "cell_type": "code",
   "execution_count": 12,
   "metadata": {},
   "outputs": [],
   "source": [
    "ex_triangulo_equilatero = (10,10,10)\n",
    "ex_triangulo_isosceles = (10, 8, 10)\n",
    "ex_triangulo_escaleno = (10, 7, 8)"
   ]
  },
  {
   "cell_type": "markdown",
   "metadata": {},
   "source": [
    "\n",
    "Nesse exemplo, cada triângulo é uma tupla com a dimensão de cada lado. Depois de criada a tupla, podemos acessar os valores individuais através de seu índice especificado entre colchetes []. "
   ]
  },
  {
   "cell_type": "code",
   "execution_count": 13,
   "metadata": {},
   "outputs": [],
   "source": [
    "a = ex_triangulo_escaleno[0] # primeiro elemento\n",
    "b = ex_triangulo_escaleno[1] # segundo elemento\n",
    "c = ex_triangulo_escaleno[2] # terceiro elemento"
   ]
  },
  {
   "cell_type": "markdown",
   "metadata": {},
   "source": [
    "Observe que os índices começam em 0. Além do acesso por índices, no Python, podemos realizar o desempacotamento de tuplas, que permite que você atribua os valores da tupla a variáveis individuais em uma única linha de código. Esse método é muito útil quando você sabe exatamente quantos elementos existem na tupla."
   ]
  },
  {
   "cell_type": "code",
   "execution_count": 14,
   "metadata": {},
   "outputs": [],
   "source": [
    "a, b, c = ex_triangulo_escaleno"
   ]
  },
  {
   "cell_type": "markdown",
   "metadata": {},
   "source": [
    "Voltando ao exemplo da função que verifica a validade de um triângulo, poderíamos passar uma tupla como parâmetro de entrada da função ao invés dos lados isoladamente:"
   ]
  },
  {
   "cell_type": "code",
   "execution_count": 16,
   "metadata": {},
   "outputs": [
    {
     "name": "stdout",
     "output_type": "stream",
     "text": [
      "True\n"
     ]
    }
   ],
   "source": [
    "def triangulo_valido(triangulo):\n",
    "    a, b, c = triangulo  # Desempacotando a tupla\n",
    "    resultado = a + b > c and a + c > b and b + c > a\n",
    "    return resultado\n",
    "\n",
    "triangulo_1 = (10, 10, 10)\n",
    "print(triangulo_valido(triangulo_1))"
   ]
  },
  {
   "cell_type": "markdown",
   "metadata": {},
   "source": [
    "Com base na característica de ordenação, faz sentido falarmos em um primeiro, segundo e terceiro elemento, conforme vimos no exemplo anterior. A imutabilidade não permite que os valores de uma tupla sejam modificados depois da sua criação:"
   ]
  },
  {
   "cell_type": "code",
   "execution_count": 15,
   "metadata": {},
   "outputs": [
    {
     "ename": "TypeError",
     "evalue": "'tuple' object does not support item assignment",
     "output_type": "error",
     "traceback": [
      "\u001b[1;31m---------------------------------------------------------------------------\u001b[0m",
      "\u001b[1;31mTypeError\u001b[0m                                 Traceback (most recent call last)",
      "Cell \u001b[1;32mIn[15], line 2\u001b[0m\n\u001b[0;32m      1\u001b[0m triangulo_1 \u001b[38;5;241m=\u001b[39m (\u001b[38;5;241m10\u001b[39m, \u001b[38;5;241m10\u001b[39m, \u001b[38;5;241m10\u001b[39m)\n\u001b[1;32m----> 2\u001b[0m triangulo_1[\u001b[38;5;241m1\u001b[39m] \u001b[38;5;241m=\u001b[39m \u001b[38;5;241m30\u001b[39m\n",
      "\u001b[1;31mTypeError\u001b[0m: 'tuple' object does not support item assignment"
     ]
    }
   ],
   "source": [
    "triangulo_1 = (10, 10, 10)\n",
    "triangulo_1[1] = 30"
   ]
  },
  {
   "cell_type": "markdown",
   "metadata": {},
   "source": [
    "Além disso, não existem operações que permitam adicionar ou remover elementos como é possível nas listas, que também são ordenadas, porém mutáveis. Uma lista pode ser criada usando colchetes [] e separando os itens por vírgulas. Os itens podem ser de diferentes tipos de dados (inteiros, floats, strings, listas etc.). Veja um exemplo de uma lista com nomes de frutas:"
   ]
  },
  {
   "cell_type": "code",
   "execution_count": 17,
   "metadata": {},
   "outputs": [],
   "source": [
    "frutas = ['maçã', 'banana', 'cereja', 'damasco']"
   ]
  },
  {
   "cell_type": "markdown",
   "metadata": {},
   "source": [
    "\n",
    "As listas podem ser acessadas de modo similar às tuplas, com índice iniciando em 0. Contudo, diferentemente das tuplas, as listas são mutáveis. Logo, é possível modificar os valores, além de acessá-los:"
   ]
  },
  {
   "cell_type": "code",
   "execution_count": 18,
   "metadata": {},
   "outputs": [
    {
     "name": "stdout",
     "output_type": "stream",
     "text": [
      "damasco\n",
      "['maçã', 'banana', 'cereja', 'laranja']\n"
     ]
    }
   ],
   "source": [
    "print(frutas[3]) # damasco\n",
    "frutas[3] = 'laranja'\n",
    "print(frutas) # ['maçã', 'banana', 'cereja', 'laranja']"
   ]
  },
  {
   "cell_type": "markdown",
   "metadata": {},
   "source": [
    "Também podemos remover e adicionar novos elementos a uma lista. Observe que a função `append` adiciona um novo item ao final da lista."
   ]
  },
  {
   "cell_type": "code",
   "execution_count": 19,
   "metadata": {},
   "outputs": [
    {
     "name": "stdout",
     "output_type": "stream",
     "text": [
      "['maçã', 'banana', 'laranja']\n",
      "['maçã', 'banana', 'laranja', 'caqui']\n"
     ]
    }
   ],
   "source": [
    "frutas.remove(\"cereja\")\n",
    "print(frutas) # ['maçã', 'banana', 'laranja']\n",
    "frutas.append('caqui')\n",
    "print(frutas) # ['maçã', 'banana', 'laranja', 'caqui']\n"
   ]
  },
  {
   "cell_type": "markdown",
   "metadata": {},
   "source": [
    "Assumindo uma lista com os seguintes itens ['maçã', 'banana', 'cereja', 'laranja'], poderíamos remover cereja pelo índice:"
   ]
  },
  {
   "cell_type": "code",
   "execution_count": null,
   "metadata": {},
   "outputs": [],
   "source": [
    "print(frutas) # ['maçã', 'banana', 'cereja', 'laranja']\n",
    "elemento_removido = frutas.pop(2) # retorna cereja\n",
    "print(frutas) # ['maçã', 'banana', 'laranja']"
   ]
  },
  {
   "cell_type": "markdown",
   "metadata": {},
   "source": [
    "Além de adicionar um elemento, podemos combinar duas listas através da operação de concatenação, que usa o mesmo símbolo de adição ‘+’:"
   ]
  },
  {
   "cell_type": "code",
   "execution_count": null,
   "metadata": {},
   "outputs": [],
   "source": [
    "frutas1 = [\"maçã\", \"banana\"]\n",
    "frutas2 = [\"morango\", \"uva\"]\n",
    "print (frutas1+frutas2) #['maçã', 'banana','morango', 'uva']"
   ]
  },
  {
   "cell_type": "markdown",
   "metadata": {},
   "source": [
    "Em relação ao acesso, é possível acessar mais de um elemento com o recurso denominado fatiamento. O fatiamento (ou slicing) em Python é uma técnica poderosa que permite acessar subsequências, como listas, strings e tuplas. A sintaxe básica para o fatiamento está descrita abaixo. \n",
    "\n",
    "> SEQUENCIA [INICIO: FIM: PASSO]\n",
    "\n",
    "- Início: o índice inicial (inclusivo) do fatiamento (se omitido, assume o valor 0).\n",
    "- Fim: o índice final (exclusivo) do fatiamento (se omitido, vai até o final da sequência).\n",
    "- Passo: o intervalo entre elementos selecionados (se omitido, assume o valor 1).\n"
   ]
  },
  {
   "cell_type": "markdown",
   "metadata": {},
   "source": [
    "Por exemplo, usando o exemplo das frutas, Podemos selecionar o segundo, o terceiro e o quarto valor:"
   ]
  },
  {
   "cell_type": "code",
   "execution_count": null,
   "metadata": {},
   "outputs": [],
   "source": [
    "frutas = [\"maçã\", \"banana\", \"cereja\", \"damasco\", \"kiwi\"]\n",
    "print(frutas[1:4])  # ['banana', 'cereja', 'damasco']"
   ]
  },
  {
   "cell_type": "markdown",
   "metadata": {},
   "source": [
    "Quando usamos um índice final no fatiamento, como em sequencia[início:fim], o elemento no índice fim não é incluído no resultado. Esse comportamento é conhecido como fatiamento exclusivo. Por isso, o elemento de índice 4 não foi incluído. Se quiséssemos selecionar todos os valores a partir do segundo elemento, poderíamos omitir o fim:"
   ]
  },
  {
   "cell_type": "code",
   "execution_count": null,
   "metadata": {},
   "outputs": [],
   "source": [
    "print(frutas[1:])  # ['banana', 'cereja', 'damasco', 'kiwi']"
   ]
  },
  {
   "cell_type": "markdown",
   "metadata": {},
   "source": [
    "Podemos selecionar elementos de 2 em 2, definindo o passo:"
   ]
  },
  {
   "cell_type": "code",
   "execution_count": null,
   "metadata": {},
   "outputs": [],
   "source": [
    "print(frutas[0:4:2])  # ['maçã', 'cereja']"
   ]
  },
  {
   "cell_type": "markdown",
   "metadata": {},
   "source": [
    "Por fim, o operador `in` é usado para verificar a existência de um elemento dentro de uma sequência, como uma lista. Ele retorna um valor `booleano` (`True` ou `False`), dependendo de o elemento estar presente na lista ou não. Por exemplo:\n",
    "\n",
    "Obs: saiba mais sobre listas clicando aqui https://panda.ime.usp.br/panda/static/pensepy/09-Listas/listas.html"
   ]
  },
  {
   "cell_type": "code",
   "execution_count": null,
   "metadata": {},
   "outputs": [],
   "source": [
    "frutas = ['maçã', 'banana', 'laranja']\n",
    "print ('banana' in frutas) # True"
   ]
  },
  {
   "cell_type": "markdown",
   "metadata": {},
   "source": [
    "Outra estrutura muito relevante para a representação de dados são os dicionários que armazenam pares de chave e valor. Um dicionário é definido usando chaves {}, e os pares chave-valor são separados por dois pontos :. Usando o exemplo da planilha com dados por estado, cada linha dela poderia ser representada por um dicionário:"
   ]
  },
  {
   "cell_type": "code",
   "execution_count": null,
   "metadata": {},
   "outputs": [],
   "source": [
    "ma = {\n",
    "    'Estado': 'Maranhão',\n",
    "    'Região': 'Nordeste',\n",
    "    'População': 6800605,\n",
    "    'PIB': 124981000000\n",
    "}"
   ]
  },
  {
   "cell_type": "markdown",
   "metadata": {},
   "source": [
    "Com a definição anterior, poderíamos acessar os valores utilizando a sintaxe dicionario[chave] da seguinte forma:"
   ]
  },
  {
   "cell_type": "code",
   "execution_count": null,
   "metadata": {},
   "outputs": [],
   "source": [
    "print(ma['Região'])  # Nordeste\n",
    "print(ma['População'])  # 6800605"
   ]
  },
  {
   "cell_type": "markdown",
   "metadata": {},
   "source": [
    "Voltando ao exemplo da planilha, poderíamos representar os mesmos dados como uma lista de dicionários. Como demonstração, no exemplo a seguir, foram definidos apenas dois estados."
   ]
  },
  {
   "cell_type": "code",
   "execution_count": null,
   "metadata": {},
   "outputs": [],
   "source": [
    "estados = [\n",
    "  {'Estado': 'Maranhão', 'Região': 'Nordeste',\n",
    "  'População': 6800605, 'PIB': 124981000000},\n",
    "  {'Estado': 'Mato Grosso', 'Região': 'Centro-Oeste',\n",
    "  'População': 3784239, 'PIB': 233390000000}\n",
    "]"
   ]
  },
  {
   "cell_type": "markdown",
   "metadata": {},
   "source": [
    "Observe o uso de dicionários e listas para representar um dado. Nesta unidade, iremos fazer uma breve introdução à biblioteca Pandas, que é uma ferramenta poderosa para a manipulação e análise de dados em Python. Os seus recursos são suportados principalmente pelo uso dos DataFrames, que poderiam ser criados a partir de listas de dicionários."
   ]
  },
  {
   "cell_type": "code",
   "execution_count": 20,
   "metadata": {},
   "outputs": [
    {
     "data": {
      "text/html": [
       "<div>\n",
       "<style scoped>\n",
       "    .dataframe tbody tr th:only-of-type {\n",
       "        vertical-align: middle;\n",
       "    }\n",
       "\n",
       "    .dataframe tbody tr th {\n",
       "        vertical-align: top;\n",
       "    }\n",
       "\n",
       "    .dataframe thead th {\n",
       "        text-align: right;\n",
       "    }\n",
       "</style>\n",
       "<table border=\"1\" class=\"dataframe\">\n",
       "  <thead>\n",
       "    <tr style=\"text-align: right;\">\n",
       "      <th></th>\n",
       "      <th>Estado</th>\n",
       "      <th>Região</th>\n",
       "      <th>População</th>\n",
       "      <th>PIB</th>\n",
       "    </tr>\n",
       "  </thead>\n",
       "  <tbody>\n",
       "    <tr>\n",
       "      <th>0</th>\n",
       "      <td>Maranhão</td>\n",
       "      <td>Nordeste</td>\n",
       "      <td>6800605</td>\n",
       "      <td>124981000000</td>\n",
       "    </tr>\n",
       "    <tr>\n",
       "      <th>1</th>\n",
       "      <td>Mato Grosso</td>\n",
       "      <td>Centro-Oeste</td>\n",
       "      <td>3784239</td>\n",
       "      <td>233390000000</td>\n",
       "    </tr>\n",
       "  </tbody>\n",
       "</table>\n",
       "</div>"
      ],
      "text/plain": [
       "        Estado        Região  População           PIB\n",
       "0     Maranhão      Nordeste    6800605  124981000000\n",
       "1  Mato Grosso  Centro-Oeste    3784239  233390000000"
      ]
     },
     "execution_count": 20,
     "metadata": {},
     "output_type": "execute_result"
    }
   ],
   "source": [
    "import pandas as pd\n",
    "\n",
    "estados = [\n",
    "    {'Estado': 'Maranhão', 'Região': 'Nordeste', 'População': 6800605, 'PIB': 124981000000},\n",
    "    {'Estado': 'Mato Grosso', 'Região': 'Centro-Oeste', 'População': 3784239, 'PIB': 233390000000}\n",
    "]\n",
    "\n",
    "df_estados = pd.DataFrame(estados)\n",
    "df_estados"
   ]
  },
  {
   "cell_type": "markdown",
   "metadata": {},
   "source": [
    "Listas, tuplas e dicionários serão as coleções que iremos utilizar com maior frequência na análise de dados. Porém, os conjuntos (sets) podem nos ajudar em alguns problemas. Diferentemente das listas e tuplas, os conjuntos são coleções não ordenadas de elementos únicos. Eles não permitem elementos duplicados e não mantêm a ordem dos elementos. Algumas operações básicas com conjuntos incluem:"
   ]
  },
  {
   "cell_type": "code",
   "execution_count": 21,
   "metadata": {},
   "outputs": [
    {
     "name": "stdout",
     "output_type": "stream",
     "text": [
      "Conjunto inicial: {1, 2, 3}\n",
      "Após adicionar 4: {1, 2, 3, 4}\n",
      "Após remover 2: {1, 3, 4}\n",
      "União de set1 e set2: {1, 2, 3, 4, 5, 6}\n",
      "Interseção de set1 e set2: {3, 4}\n",
      "Diferença de set1 e set2: {1, 2}\n"
     ]
    }
   ],
   "source": [
    "# Criação de conjuntos\n",
    "meu_set = {1, 2, 3}  # criação\n",
    "print(\"Conjunto inicial:\", meu_set)\n",
    "\n",
    "# Adiciona elemento\n",
    "meu_set.add(4)\n",
    "print(\"Após adicionar 4:\", meu_set)\n",
    "\n",
    "# Remove elemento\n",
    "meu_set.remove(2)\n",
    "print(\"Após remover 2:\", meu_set)\n",
    "\n",
    "# Definindo outros conjuntos para operações de união, interseção e diferença\n",
    "set1 = {1, 2, 3, 4}\n",
    "set2 = {3, 4, 5, 6}\n",
    "\n",
    "# União dos conjuntos set1 e set2\n",
    "uniao = set1.union(set2)\n",
    "print(\"União de set1 e set2:\", uniao)\n",
    "\n",
    "# Interseção dos conjuntos set1 e set2\n",
    "intersecao = set1.intersection(set2)\n",
    "print(\"Interseção de set1 e set2:\", intersecao)\n",
    "\n",
    "# Diferença dos conjuntos set1 e set2\n",
    "diferenca = set1.difference(set2)\n",
    "print(\"Diferença de set1 e set2:\", diferenca)\n"
   ]
  },
  {
   "cell_type": "markdown",
   "metadata": {},
   "source": [
    "Os conjuntos são úteis para operações matemáticas, como união e interseção, e para remover duplicatas de uma lista."
   ]
  },
  {
   "cell_type": "markdown",
   "metadata": {},
   "source": [
    "## 2.5 Operações sobre strings"
   ]
  },
  {
   "cell_type": "markdown",
   "metadata": {},
   "source": [
    "Agora que você já conhece as operações sobre listas e tuplas, podemos aproveitar esse conhecimento para introduzir as operações sobre strings. Em Python, uma string é uma sequência de caracteres, semelhante a coleções como listas e tuplas. Assim como uma lista, uma string pode ser vazia ou conter vários caracteres.\n",
    "\n",
    "> Fique atento: Strings se comportam de modo semelhante ao de outras coleções, como as listas, contudo, strings não são listas de caracteres.\n",
    "\n",
    "Assim como podemos juntar duas listas usando o operador de concatenação +, também podemos concatenar duas strings.\n"
   ]
  },
  {
   "cell_type": "code",
   "execution_count": null,
   "metadata": {},
   "outputs": [],
   "source": [
    "str1 = \"Olá,\"\n",
    "str2 = \" mundo!\"\n",
    "print(str1 + str2)  # Olá, mundo!\n"
   ]
  },
  {
   "cell_type": "markdown",
   "metadata": {},
   "source": [
    "Assim como listas têm métodos, como: `.append()` e `.pop()`; strings têm métodos, como: `.upper()`, `.lower()`, `.strip()`, `.replace()`."
   ]
  },
  {
   "cell_type": "code",
   "execution_count": null,
   "metadata": {},
   "outputs": [],
   "source": [
    "mensagem = \" Olá, Mundo! \"\n",
    "print(mensagem.strip())  # Remove espaços: \"Olá, Mundo!\"\n",
    "print(mensagem.lower())  # olá, mundo!\n",
    "print(mensagem.replace(\"Mundo\", \"Universo\"))  # Olá, Universo!\n"
   ]
  },
  {
   "cell_type": "markdown",
   "metadata": {},
   "source": [
    "Ainda, como nas listas, podemos verificar a presença de substrings em uma string usando o operador in."
   ]
  },
  {
   "cell_type": "code",
   "execution_count": null,
   "metadata": {},
   "outputs": [],
   "source": [
    "frase = \"Python é uma linguagem poderosa.\"\n",
    "print(\"Python\" in frase)  # True\n"
   ]
  },
  {
   "cell_type": "markdown",
   "metadata": {},
   "source": [
    "Por fim, a função `split()` é utilizada para dividir uma string em uma lista de substrings com base em um separador especificado. Ela é uma maneira conveniente de quebrar uma string em partes menores, nas quais um determinado padrão (o separador) é encontrado. Por exemplo:\n"
   ]
  },
  {
   "cell_type": "code",
   "execution_count": null,
   "metadata": {},
   "outputs": [],
   "source": [
    "numeros = \"1, 2, 3, 4, 5\"\n",
    "lista_numeros = numeros.split(\", \")\n",
    "print(lista_numeros)  # ['1', '2', '3', '4', '5']\n"
   ]
  },
  {
   "cell_type": "markdown",
   "metadata": {},
   "source": [
    "## 2.6 Controlando o fluxo de execução"
   ]
  },
  {
   "cell_type": "markdown",
   "metadata": {},
   "source": [
    "Os scripts que escrevemos até aqui eram sempre sequenciais, ou seja, todas as linhas de código eram sempre executadas. Códigos sequenciais serão suficientes para realizar muitas análises de dados com Python, uma vez que suas bibliotecas de alto nível já abstraem muitos comandos. A maioria das tarefas envolverá carregamento e transformação de dados. Por isso, nesta unidade, iremos ser bem sucintos em relação ao controle de fluxo. Contudo, em alguns casos, vamos precisar controlar o fluxo de execução, ou seja, definir quais partes do código serão executadas e quantas vezes.\n",
    "\n",
    "Vimos anteriormente que o script do exemplo dos triângulos continuava verificando o tipo de triângulo mesmo quando os lados não representavam um triângulo válido. Depois, quando ele verificava que se tratava de um triângulo equilátero, ele continuava executando os testes para os outros dois tipos desnecessariamente. Para problemas como esse, precisamos usar um comando de decisão, também chamado de comando de seleção.\n",
    "\n",
    "A forma mais simples de seleção é o comando if, com a seguinte sintaxe:\n",
    "```python\n",
    "if EXPRESSÃO BOOLEANA:\n",
    "    COMANDOS_1  # executados se condição tem valor True\n",
    "else:\n",
    "    COMANDOS_2  # executados se condição tem valor False\n",
    "```"
   ]
  },
  {
   "cell_type": "markdown",
   "metadata": {},
   "source": [
    "Observe, que o primeiro if já verifica se o triângulo é válido, caso contrário (else) o algoritmo já irá imprimir: “Não é um triangulo válido”. Os testes para os tipos de triângulo só serão executados quando forem válidos. Talvez você já tenha utilizado ou visto um fluxograma, que é outra maneira de descrever um algoritmo. O fluxograma da figura ao lado descreve os testes que verificam o tipo de um triângulo.  \n",
    "\n",
    "<div style=\"display: flex; align-items: center;\">\n",
    "  <div style=\"flex: 3.5;\">\n",
    "    <img src=\"fluxo-triangulo.png\" style=\"width: 500%; max-width: 500px;\"/> <!-- Ajuste a largura máxima conforme necessário -->\n",
    "  </div>\n",
    "  <div style=\"flex: 10; margin-left: 100px;\"> <!-- Aumente o flex para dar mais espaço ao texto e adicione margin-left para espaço -->\n",
    "  \n",
    "  - Como exemplo, considere que você está recebendo um salário de R$2.500 e lhe foi prometido um aumento de 15% caso você conclua um curso sobre ciência de dados. Você rapidamente poderia colocar na calculadora do seu celular. Mas, será que poderíamos fazer um script que calculasse o valor final para qualquer valor inicial e percentagem? Quais seriam os passos? Como descrito anteriormente, primeiro precisamos definir quais serão as entradas de dados. Nesse caso, teríamos o salário atual e a percentagem de aumento, que, no exemplo anterior, eram os valores 2500 e 15. Porém, para escrever nossos algoritmos, não podemos pensar em valores específicos, como 2500 e 15, temos que abstrair esses valores. Isso permitirá focar nas relações que são verdadeiras independentemente de um valor específico.\n",
    "  \n",
    "\n",
    "  \n",
    "  </div>\n",
    "</div>\n",
    "Fonte: Adaptado de https://www.alliferschool.com/2020/05/sequencia-didatica-triangulos.html.\n",
    "\n",
    "1. Início\n",
    "2. Os três lados têm medidas iguais?\n",
    "   - Sim: É triângulo equilátero e triângulo isósceles.\n",
    "   - Não: Verifique se dois lados têm medidas iguais.\n",
    "3. Dois lados têm medidas iguais?\n",
    "   - Sim: É triângulo isósceles.\n",
    "   - Não: É triângulo escaleno.\n",
    "4. Fim\n",
    "\n",
    "\n"
   ]
  },
  {
   "cell_type": "code",
   "execution_count": 22,
   "metadata": {},
   "outputs": [
    {
     "name": "stdout",
     "output_type": "stream",
     "text": [
      "Triângulo equilátero e triângulo isósceles.\n",
      "Triângulo isósceles.\n",
      "Triângulo escaleno.\n"
     ]
    }
   ],
   "source": [
    "def tipo_triangulo(a, b, c):\n",
    "    if a == b == c:\n",
    "        return \"Triângulo equilátero e triângulo isósceles.\"\n",
    "    elif a == b or a == c or b == c:\n",
    "        return \"Triângulo isósceles.\"\n",
    "    else:\n",
    "        return \"Triângulo escaleno.\"\n",
    "\n",
    "# Exemplos de uso\n",
    "print(tipo_triangulo(10, 10, 10))  # Triângulo equilátero e triângulo isósceles.\n",
    "print(tipo_triangulo(10, 10, 5))   # Triângulo isósceles.\n",
    "print(tipo_triangulo(10, 5, 7))    # Triângulo escaleno.\n"
   ]
  },
  {
   "cell_type": "markdown",
   "metadata": {},
   "source": [
    "Além de selecionar (ou decidir) quais partes de um script serão executadas, podemos definir quantas vezes elas serão executadas. Por exemplo, o comando `while` é usado para repetir um bloco de código enquanto uma expressão lógica for verdadeira. Ele é útil quando não se sabe previamente quantas vezes um bloco de código deve ser repetido, posto que essa repetição depende de uma condição que pode mudar ao longo do tempo.\n",
    "\n",
    "Para entender como esse comando funciona, vamos ilustrar com o algoritmo babilônico, também conhecido como método de Herão, que é um dos métodos mais antigos para calcular a raiz quadrada de um número. O algoritmo babilônico, para encontrar a raiz quadrada de um número n, funciona da seguinte forma:\n",
    "\n",
    "- Comece com uma estimativa inicial $x$. Pode ser qualquer valor positivo; geralmente, $x=\\frac{n}{2}$ é uma boa escolha. \n",
    "- Melhore a estimativa usando a fórmula: $x =(x + \\frac{n}{x})$\n",
    "- Repita o passo 2 até que a diferença entre a nova estimativa e a estimativa anterior seja menor que um valor de tolerância pré-definido (indicando que a estimativa não está mudando significativamente).\n",
    "\n",
    "Observem que não sabemos quantas vezes será necessário repetir o passo 2, logo é um bom exemplo de quando precisaríamos usar o while."
   ]
  },
  {
   "cell_type": "code",
   "execution_count": 23,
   "metadata": {},
   "outputs": [
    {
     "name": "stdout",
     "output_type": "stream",
     "text": [
      "A raiz quadrada de 25 é aproximadamente 5.0\n"
     ]
    }
   ],
   "source": [
    "def raiz_quadrada(n, tolerancia=1e-10): \n",
    "       estimativa = n / 2.0 \n",
    "       diferenca = tolerancia + 1 # Qualquer valor maior que a tolerância \n",
    "       while diferenca > tolerancia: \n",
    "            # Calcule uma nova estimativa \n",
    "            nova_estimativa = (estimativa + n / estimativa) / 2 \n",
    "            # Atualize a diferença \n",
    "            diferenca = abs(nova_estimativa - estimativa) \n",
    "            # Atualize a estimativa para o próximo ciclo \n",
    "            estimativa = nova_estimativa \n",
    "       return nova_estimativa\n",
    "           # Exemplo de uso\n",
    "numero = 25 \n",
    "resultado = raiz_quadrada(numero) \n",
    "print(f\"A raiz quadrada de {numero} é aproximadamente {resultado}\")"
   ]
  },
  {
   "cell_type": "markdown",
   "metadata": {},
   "source": [
    "Além do comando while, o comando for é outra estrutura que permite a repetição de trechos de código e geralmente é usado para iterar uma sequência (como uma lista, uma tupla, um dicionário, um conjunto ou uma string). A estrutura básica é a seguinte:\n",
    "\n",
    "```python\n",
    "for elemento in sequência:\n",
    "    # bloco de código a ser executado repetidamente\n",
    "```\n",
    "Por exemplo, poderíamos aplicar a função tipo_triangulo criada anteriormente para cada triângulo de uma dada lista:"
   ]
  },
  {
   "cell_type": "code",
   "execution_count": null,
   "metadata": {},
   "outputs": [],
   "source": [
    "triangulos = [(10, 10, 10), (10, 8, 10), (10, 7, 8), (20, 5, 2)]\n",
    "for triangulo in triangulos:\n",
    "    print(tipo_triangulo(triangulo))"
   ]
  },
  {
   "cell_type": "markdown",
   "metadata": {},
   "source": [
    "Outra aplicação comum para o comando for, é quando precisamos executar uma quantidade de vezes pré-determinada. Nesses casos, usamos a função `range()` que gera uma sequência de números. Aqui está um resumo de como `range()` funciona:\n",
    "\n",
    "> range(stop)  \n",
    "- Gera números de 0 até stop – 1.\n",
    "> range(start, stop)  \n",
    "- Gera números de start até stop - 1.\n",
    "> range(start, stop, step)  \n",
    "- Gera números de start até stop - 1, pulando de step em step.\n",
    "\n",
    "Então, quando precisamos executar n vezes, basta usar `range(n)`, que será gerada uma sequência de `0` a `n-1`. Por exemplo, o seguinte código irá imprimir de `0` até `4`:"
   ]
  },
  {
   "cell_type": "code",
   "execution_count": 24,
   "metadata": {},
   "outputs": [
    {
     "name": "stdout",
     "output_type": "stream",
     "text": [
      "0\n",
      "1\n",
      "2\n",
      "3\n",
      "4\n"
     ]
    }
   ],
   "source": [
    "for i in range(5):\n",
    "    print(i)"
   ]
  },
  {
   "cell_type": "markdown",
   "metadata": {},
   "source": [
    "# Resumo"
   ]
  },
  {
   "cell_type": "markdown",
   "metadata": {},
   "source": [
    "- Nesta unidade, fomos apresentados ao conceito de **scripts** e, através de exemplos, entendemos como eles podem nos tornar mais produtivos, comparado com o uso de aplicativos de interfaces gráficas.\n",
    "\n",
    "- Conhecemos os quatro pilares do **pensamento computacional** e como eles são importantes na elaboração de scripts pelos cientistas de dados.\n",
    "\n",
    "- Fomos apresentados à **linguagem de programação Python** e ao seu ecossistema para ciência de dados, como o Jupyter Notebook, que promove o conceito de **Literate Programming**, ou Programação Literária, que foi um paradigma de programação introduzido por Donald Knuth em 1984, mas que se tornou mais popular entre os cientistas de dados apenas nos últimos anos.\n",
    "\n",
    "- Conhecemos o **Google Colab**, ou Colaboratory, que é um **ambiente de desenvolvimento interativo** fornecido pelo Google que permite escrever e executar código Python diretamente no navegador, sem a necessidade de instalar nada no seu computador.\n",
    "\n",
    "\n",
    "- Aprendemos o conceito de **tipos de dados** e a sua importância para os cientistas de dados saberem quais operações podem ser aplicadas e quando é preciso realizar transformações e conversões nos tipos dados\n",
    "- Aprendemos a **abstrair expressões** e comandos com a criação de **funções parametrizadas**.\n",
    "- Fomos apresentados às estruturas de dados básicas da linguagem, como **listas, tuplas, conjuntos e dicionários**.\n",
    "- Aprendemos como controlar **fluxo de execução** para que os nossos scripts possam decidir em tempo de execução quais linhas e a quantidade de vezes que elas serão executadas.\n",
    "\n",
    "Até a próxima!\n"
   ]
  },
  {
   "cell_type": "markdown",
   "metadata": {},
   "source": [
    "# Referências"
   ]
  },
  {
   "cell_type": "markdown",
   "metadata": {},
   "source": [
    "BERLINSKI, D. **Advento do Algoritmo**. Rio de Janeiro, RJ: Globo, 2002.  \n",
    "LUTZ, Mark. **Learning python: Powerful object-oriented programming**. \" O'Reilly Media, Inc.\", 2013.  \n",
    "WING, Jeannette M. Computational thinking. **Communications of the ACM**, v. 49, n. 3, p. 33-35, 2006.  \n"
   ]
  }
 ],
 "metadata": {
  "kernelspec": {
   "display_name": "moda",
   "language": "python",
   "name": "python3"
  },
  "language_info": {
   "codemirror_mode": {
    "name": "ipython",
    "version": 3
   },
   "file_extension": ".py",
   "mimetype": "text/x-python",
   "name": "python",
   "nbconvert_exporter": "python",
   "pygments_lexer": "ipython3",
   "version": "3.9.17"
  }
 },
 "nbformat": 4,
 "nbformat_minor": 2
}
