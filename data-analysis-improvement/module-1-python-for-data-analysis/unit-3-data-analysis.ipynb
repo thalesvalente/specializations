{
 "cells": [
  {
   "cell_type": "markdown",
   "metadata": {},
   "source": [
    "<a href=\"https://github.com/thalesvalente/specializations/blob/main/data-analysis-improvement/module-1-python-for-data-analysis/unit-3-data-analysis.ipynb\" target=\"_parent\"><img src=\"https://colab.research.google.com/assets/colab-badge.svg\" alt=\"Open In Colab\"/></a>"
   ]
  },
  {
   "cell_type": "markdown",
   "metadata": {},
   "source": [
    "# 1. Python para Ciência de Dados"
   ]
  },
  {
   "cell_type": "markdown",
   "metadata": {},
   "source": [
    "Olá, estudante!\n",
    "\n",
    "Você está quase concluindo esta primeira etapa rumo à sua transformação em cientista de dados. Você começou explorando um novo modo de pensar, possibilitando a evolução dos cliques para os scripts. Por meio de exemplos, você viu como essa mudança de mentalidade pode abrir inúmeras possibilidades e aumentar significativamente sua produtividade. Embora a habilidade de escrever códigos não seja obrigatória para se tornar um cientista de dados, o caminho se torna muito mais desafiador sem essa competência. Na primeira unidade, você teve a oportunidade de experimentar como as linguagens de programação podem ser mais produtivas em comparação ao uso de interfaces gráficas.\n",
    "\n",
    "Na segunda unidade, você foi apresentado a algumas bibliotecas essenciais no ecossistema Python, como NumPy e Pandas, explorou diversas funcionalidades delas com exemplos práticos e aprendeu a ler e visualizar dados por meio de tabelas e gráficos.\n",
    "\n",
    "Para consolidar o que você aprendeu nas unidades anteriores, nesta vamos trabalhar com um estudo de caso que trará uma visão prática do processo de carregamento e análise de dados reais — que poderão ser utilizados no seu dia a dia como analista de dados. Ao contrário dos dados bem comportados, que são frequentemente usados em livros e cursos para tratar de conceitos fundamentais, aqui serão apresentados dados mais desafiadores e realistas.\n",
    "\n",
    "Bons estudos!"
   ]
  },
  {
   "cell_type": "markdown",
   "metadata": {},
   "source": [
    "2. Contexto "
   ]
  },
  {
   "cell_type": "markdown",
   "metadata": {},
   "source": [
    "Imagine que você seja um discente, docente ou técnico administrativo da Universidade Federal do Maranhão e, por isso, tem interesse em explorar os dados disponíveis no Portal de Dados Abertos dessa instituição: [Portal de Dados Abertos]\n",
    "Esses portais têm sido criados em diversas universidades brasileiras em resposta ao Decreto n. 8777 de maio de 2016, que definiu que todos os órgãos e entidades da administração pública federal precisariam publicar seus dados em formato aberto. Eles precisam ser disponibilizados para o público de maneira acessível, utilizável e distribuível, sem restrições de direitos autorais, patentes ou outros mecanismos de controle, além de estar em formatos que podem ser facilmente processados por computadores. [Decreto 8777/16]\n",
    "\n",
    "Você terá acesso a diversos dados e informações, inclusive o dicionário de dados, que traz algumas informações sobre os dados, como por exemplo, quais campos (colunas) existem, seus tipos e sua descrição, como ilustrado na tabela a seguir:\n",
    "\n",
    "| Campo     | Tipo | Descrição                          | Obrigatório? |\n",
    "|-----------|------|------------------------------------|--------------|\n",
    "| Nome      | Texto| Nome do docente                    | Sim          |\n",
    "| Unidade   | Texto| Nome do setor de trabalho do docente | Sim        |\n",
    "| Sexo      | Texto| Sexo do docente                    | Sim          |\n",
    "| Titulação | Texto| Titulação do docente               | Sim          |\n",
    "\n",
    "Qual é a quantidade de docentes e técnicos administrativos por unidade, sexo e titulação? A partir dos dados, seremos capazes de responder perguntas, como essa. Vamos analisar esses dados?\n"
   ]
  },
  {
   "cell_type": "markdown",
   "metadata": {},
   "source": [
    "Inicie a análise dos dados criando um Notebook no Google Colab, renomeando-o como Python em Ação. O primeiro passo é criar uma célula de texto. Nas células de texto, utilizamos uma linguagem de marcação usada para formatar texto denominada de Markdown. Para adicionar títulos em Markdown, usaremos o símbolo de cerquilha (#). O número de cerquilhas indica o nível do título, variando de 1 a 6. Neste caso, estaremos criando um título de nível 1. \n",
    "\n",
    "- **Passos**\n",
    "    - Neste exemplo, utilize como título o nome desta unidade: `# Python em Ação`\n",
    "    - Em seguida, podemos criar uma célula com um subtítulo (nível 2), referente a esta seção: `## Analisando os dados sobre os servidores da UFMA`\n",
    "    - Para a análise, utilize a biblioteca `Pandas`, introduzida na Unidade 2. Com ela, é possível limpar, manipular, analisar e visualizar os dados. Então, vamos  adicione-a à sua primeira célula de código, por meio da qual você irá importar a biblioteca Pandas e apelide-a de pd.\n",
    "    - Volte ao portal de dados abertos, selecione a  URL  dos dados mais recentes, que neste caso são de 2020. Esse conjunto de dados inclui informações sobre os docentes que já faziam parte da instituição até a data de geração dos dados. Crie uma célula na qual vamos definir uma variável para armazenar essa URL."
   ]
  },
  {
   "cell_type": "markdown",
   "metadata": {},
   "source": [
    "Observe que os dados estão disponíveis no formato `CSV` (Comma-Separated Values). Esse é um formato de arquivo usado para armazenar dados tabulares, como em uma planilha ou banco de dados, em texto simples. A biblioteca Pandas disponibiliza a função `read_csv( )` para carregar dados nesse formato.\n",
    "\n",
    "A função `read_csv( )` considera, por padrão, que o arquivo lido tem a vírgula como separador. Quando isso não acontece, é necessário especificar qual caractere deve ser usado na função. Você pode voltar à célula que apresentou o erro e adicionar o parâmetro `sep`, ou seja, o separador. Então, podemos tentar visualizar as 5 primeiras linhas usando o método `.head( )`:"
   ]
  },
  {
   "cell_type": "code",
   "execution_count": 11,
   "metadata": {},
   "outputs": [
    {
     "data": {
      "text/html": [
       "<div>\n",
       "<style scoped>\n",
       "    .dataframe tbody tr th:only-of-type {\n",
       "        vertical-align: middle;\n",
       "    }\n",
       "\n",
       "    .dataframe tbody tr th {\n",
       "        vertical-align: top;\n",
       "    }\n",
       "\n",
       "    .dataframe thead th {\n",
       "        text-align: right;\n",
       "    }\n",
       "</style>\n",
       "<table border=\"1\" class=\"dataframe\">\n",
       "  <thead>\n",
       "    <tr style=\"text-align: right;\">\n",
       "      <th></th>\n",
       "      <th>nome</th>\n",
       "      <th>unidade</th>\n",
       "      <th>sexo</th>\n",
       "      <th>titulacao</th>\n",
       "      <th>Unnamed: 4</th>\n",
       "    </tr>\n",
       "  </thead>\n",
       "  <tbody>\n",
       "    <tr>\n",
       "      <th>0</th>\n",
       "      <td>ALANA DAS CHAGAS FERREIRA AGUIAR</td>\n",
       "      <td>DEPARTAMENTO DE BIOLOGIA/CCBS</td>\n",
       "      <td>F</td>\n",
       "      <td>DOUTORADO</td>\n",
       "      <td>NaN</td>\n",
       "    </tr>\n",
       "    <tr>\n",
       "      <th>1</th>\n",
       "      <td>FREDERICO FERNANDO SOUZA SILVA</td>\n",
       "      <td>DEPARTAMENTO DE ARTES VISUAIS/CCH</td>\n",
       "      <td>M</td>\n",
       "      <td>DOUTORADO</td>\n",
       "      <td>NaN</td>\n",
       "    </tr>\n",
       "    <tr>\n",
       "      <th>2</th>\n",
       "      <td>ANDREA MARQUES DA SILVA PIRES</td>\n",
       "      <td>DEPARTAMENTO DE PATOLOGIA/CCBS</td>\n",
       "      <td>F</td>\n",
       "      <td>DOUTORADO</td>\n",
       "      <td>NaN</td>\n",
       "    </tr>\n",
       "    <tr>\n",
       "      <th>3</th>\n",
       "      <td>SARA FITERMAN LIMA</td>\n",
       "      <td>COORDENACAO DO CURSO DE MEDICINA PINHEIRO/CCHNST</td>\n",
       "      <td>F</td>\n",
       "      <td>DOUTORADO</td>\n",
       "      <td>NaN</td>\n",
       "    </tr>\n",
       "    <tr>\n",
       "      <th>4</th>\n",
       "      <td>ABIMAELSON SANTOS PEREIRA</td>\n",
       "      <td>DEPARTAMENTO DE ARTES CENICAS/CCH</td>\n",
       "      <td>M</td>\n",
       "      <td>MESTRADO</td>\n",
       "      <td>NaN</td>\n",
       "    </tr>\n",
       "  </tbody>\n",
       "</table>\n",
       "</div>"
      ],
      "text/plain": [
       "                               nome  \\\n",
       "0  ALANA DAS CHAGAS FERREIRA AGUIAR   \n",
       "1    FREDERICO FERNANDO SOUZA SILVA   \n",
       "2     ANDREA MARQUES DA SILVA PIRES   \n",
       "3                SARA FITERMAN LIMA   \n",
       "4         ABIMAELSON SANTOS PEREIRA   \n",
       "\n",
       "                                            unidade sexo  titulacao  \\\n",
       "0                     DEPARTAMENTO DE BIOLOGIA/CCBS    F  DOUTORADO   \n",
       "1                 DEPARTAMENTO DE ARTES VISUAIS/CCH    M  DOUTORADO   \n",
       "2                    DEPARTAMENTO DE PATOLOGIA/CCBS    F  DOUTORADO   \n",
       "3  COORDENACAO DO CURSO DE MEDICINA PINHEIRO/CCHNST    F  DOUTORADO   \n",
       "4                 DEPARTAMENTO DE ARTES CENICAS/CCH    M   MESTRADO   \n",
       "\n",
       "   Unnamed: 4  \n",
       "0         NaN  \n",
       "1         NaN  \n",
       "2         NaN  \n",
       "3         NaN  \n",
       "4         NaN  "
      ]
     },
     "execution_count": 11,
     "metadata": {},
     "output_type": "execute_result"
    }
   ],
   "source": [
    "import pandas as pd\n",
    "\n",
    "url_2020 = 'http://dadosabertos.ufma.br/dataset/334d89c8-629f-49c5-aa06-171e35c1d33b/resource/55a2d103-d73b-449e-85bc-655df7dfc45a/download/docentes_-_2020.csv'\n",
    "df = pd.read_csv(url_2020, sep=\";\")\n",
    "df.head()"
   ]
  },
  {
   "cell_type": "markdown",
   "metadata": {},
   "source": [
    "Você poderá observar que existe um ponto e vírgula `;` no final de cada linha. Isso significa que ao encontrar esse separador, a função `read_csv( )` entendeu que existiria mais uma coluna. \n",
    "\n",
    "Como não havia dados, a função criou uma coluna sem nome `(Unnamed)` e os valores da coluna foram interpretados como `NaN` (Not a Number).\n",
    "- `NaN` é um valor especial usado para representar valores que são indefinidos ou não representáveis como números.\n",
    "\n",
    "Podemos resolver esse problema de duas maneiras:\n",
    "1. Removendo a coluna através do método `.drop()`:\n",
    "2. Ao invés de remover a coluna, evitar que a função `read_csv()` crie essa coluna. Para isso, basta explicitar quais colunas queremos que sejam carregadas, através do parâmetro `usecols`. Para este parâmetro, podemos passar uma lista com os nomes das colunas que desejamos:\n"
   ]
  },
  {
   "cell_type": "code",
   "execution_count": 12,
   "metadata": {},
   "outputs": [
    {
     "data": {
      "text/html": [
       "<div>\n",
       "<style scoped>\n",
       "    .dataframe tbody tr th:only-of-type {\n",
       "        vertical-align: middle;\n",
       "    }\n",
       "\n",
       "    .dataframe tbody tr th {\n",
       "        vertical-align: top;\n",
       "    }\n",
       "\n",
       "    .dataframe thead th {\n",
       "        text-align: right;\n",
       "    }\n",
       "</style>\n",
       "<table border=\"1\" class=\"dataframe\">\n",
       "  <thead>\n",
       "    <tr style=\"text-align: right;\">\n",
       "      <th></th>\n",
       "      <th>nome</th>\n",
       "      <th>unidade</th>\n",
       "      <th>sexo</th>\n",
       "      <th>titulacao</th>\n",
       "    </tr>\n",
       "  </thead>\n",
       "  <tbody>\n",
       "    <tr>\n",
       "      <th>0</th>\n",
       "      <td>ALANA DAS CHAGAS FERREIRA AGUIAR</td>\n",
       "      <td>DEPARTAMENTO DE BIOLOGIA/CCBS</td>\n",
       "      <td>F</td>\n",
       "      <td>DOUTORADO</td>\n",
       "    </tr>\n",
       "    <tr>\n",
       "      <th>1</th>\n",
       "      <td>FREDERICO FERNANDO SOUZA SILVA</td>\n",
       "      <td>DEPARTAMENTO DE ARTES VISUAIS/CCH</td>\n",
       "      <td>M</td>\n",
       "      <td>DOUTORADO</td>\n",
       "    </tr>\n",
       "    <tr>\n",
       "      <th>2</th>\n",
       "      <td>ANDREA MARQUES DA SILVA PIRES</td>\n",
       "      <td>DEPARTAMENTO DE PATOLOGIA/CCBS</td>\n",
       "      <td>F</td>\n",
       "      <td>DOUTORADO</td>\n",
       "    </tr>\n",
       "    <tr>\n",
       "      <th>3</th>\n",
       "      <td>SARA FITERMAN LIMA</td>\n",
       "      <td>COORDENACAO DO CURSO DE MEDICINA PINHEIRO/CCHNST</td>\n",
       "      <td>F</td>\n",
       "      <td>DOUTORADO</td>\n",
       "    </tr>\n",
       "    <tr>\n",
       "      <th>4</th>\n",
       "      <td>ABIMAELSON SANTOS PEREIRA</td>\n",
       "      <td>DEPARTAMENTO DE ARTES CENICAS/CCH</td>\n",
       "      <td>M</td>\n",
       "      <td>MESTRADO</td>\n",
       "    </tr>\n",
       "  </tbody>\n",
       "</table>\n",
       "</div>"
      ],
      "text/plain": [
       "                               nome  \\\n",
       "0  ALANA DAS CHAGAS FERREIRA AGUIAR   \n",
       "1    FREDERICO FERNANDO SOUZA SILVA   \n",
       "2     ANDREA MARQUES DA SILVA PIRES   \n",
       "3                SARA FITERMAN LIMA   \n",
       "4         ABIMAELSON SANTOS PEREIRA   \n",
       "\n",
       "                                            unidade sexo  titulacao  \n",
       "0                     DEPARTAMENTO DE BIOLOGIA/CCBS    F  DOUTORADO  \n",
       "1                 DEPARTAMENTO DE ARTES VISUAIS/CCH    M  DOUTORADO  \n",
       "2                    DEPARTAMENTO DE PATOLOGIA/CCBS    F  DOUTORADO  \n",
       "3  COORDENACAO DO CURSO DE MEDICINA PINHEIRO/CCHNST    F  DOUTORADO  \n",
       "4                 DEPARTAMENTO DE ARTES CENICAS/CCH    M   MESTRADO  "
      ]
     },
     "execution_count": 12,
     "metadata": {},
     "output_type": "execute_result"
    }
   ],
   "source": [
    "# Método 1 para remoção da coluna NaN\n",
    "df.drop(\"Unnamed: 4\", axis=1, inplace=True)\n",
    "df.head()\n",
    "# Método 2 para remoção da coluna NaN\n",
    "# colunas = ['nome', 'unidade', 'sexo', 'titulacao']\n",
    "# df = pd.read_csv(url_2020, sep=\";\", usecols=colunas)"
   ]
  },
  {
   "cell_type": "markdown",
   "metadata": {},
   "source": [
    "A partir disso, é possível perceber que a segunda opção tem a vantagem de não carregar dados desnecessários para a memória do computador. Como você observou, pelo dicionário de dados, todos os campos são do tipo texto (string), porém, é sempre importante garantir que os tipos foram interpretados corretamente no carregamento dos dados. Para isso, usaremos o método `info()`. Observe o resultado:"
   ]
  },
  {
   "cell_type": "code",
   "execution_count": 13,
   "metadata": {},
   "outputs": [
    {
     "name": "stdout",
     "output_type": "stream",
     "text": [
      "<class 'pandas.core.frame.DataFrame'>\n",
      "RangeIndex: 1863 entries, 0 to 1862\n",
      "Data columns (total 4 columns):\n",
      " #   Column     Non-Null Count  Dtype \n",
      "---  ------     --------------  ----- \n",
      " 0   nome       1863 non-null   object\n",
      " 1   unidade    1863 non-null   object\n",
      " 2   sexo       1863 non-null   object\n",
      " 3   titulacao  1863 non-null   object\n",
      "dtypes: object(4)\n",
      "memory usage: 58.3+ KB\n"
     ]
    }
   ],
   "source": [
    "df.info()"
   ]
  },
  {
   "cell_type": "markdown",
   "metadata": {},
   "source": [
    "A biblioteca `Pandas` utiliza as estruturas de dados da biblioteca `NumPy`, logo, os mesmos tipos de dados (`Dtype`) e os textos (`strings`) são carregados como object, c como é possível observar na saída do método `info()`.  Nesse caso, os dados foram carregados com os tipos esperados, portanto, você pode seguir com as análises;\n",
    "\n",
    "Primeiro, analise a quantidade de docentes por unidade, listando as 10 unidades que possuem a maior quantidade de docentes. De modo geral, você vai precisar escrever o seguinte algoritmo:\n",
    "    - Para cada unidade, contar os docentes que est'ao vinculados a ela;\n",
    "    - Ordenar as unidades pela quantidade de docentes de modo decrescente (,aior para o menor valor);\n",
    "    - Apresentar as 10 primeiras unidades com a quantidade de docentes\n",
    "\n",
    "Com a biblioteca Pandas, esses passos podem ser definidos em uma única linha. Observe que os passos estão sendo executados utilizando o encadeamento de métodos apresentado na Unidade 2."
   ]
  },
  {
   "cell_type": "code",
   "execution_count": 14,
   "metadata": {},
   "outputs": [
    {
     "data": {
      "text/plain": [
       "unidade\n",
       "COLEGIO UNIVERSITARIO                                81\n",
       "COORDENACAO DO CURSO DE MEDICINA IMPERATRIZ/CCSST    60\n",
       "COORDENACAO DO CURSO DE MEDICINA PINHEIRO/CCHNST     57\n",
       "DEPARTAMENTO DE LETRAS/CCH                           47\n",
       "DEPARTAMENTO DE MEDICINA I/CCBS                      45\n",
       "DEPARTAMENTO DE DIREITO/CCSO                         44\n",
       "COORDENACAO DO CURSO DE CIENCIA E TECNOLOGIA/CCET    41\n",
       "DEPARTAMENTO DE EDUCACAO II/CCSO                     40\n",
       "DEPARTAMENTO DE COMUNICACAO SOCIAL/CCSO              40\n",
       "DEPARTAMENTO DE CIENCIAS FISIOLOGICAS/CCBS           40\n",
       "Name: count, dtype: int64"
      ]
     },
     "execution_count": 14,
     "metadata": {},
     "output_type": "execute_result"
    }
   ],
   "source": [
    "df.unidade.value_counts().sort_values(ascending=False).head(10)"
   ]
  },
  {
   "cell_type": "markdown",
   "metadata": {},
   "source": [
    "A grande quantidade de unidades dificulta a visualização por meio de um gráfico em linhas. Neste caso, um gráfico de barras pode facilitar a leitura dos dados. Para isso, você precisará seguir os seguintes passos:\n",
    "\n",
    "- Para cada titulação, contar os docentes que estão vinculados a ela;\n",
    "- Para cada titulação, calcular o seu percentual no total;\n",
    "- Criar um gráfico de barras com esse percentual por titulação.\n",
    "- Novamente, todos esses passos podem ser realizados em uma única linha de código."
   ]
  },
  {
   "cell_type": "code",
   "execution_count": 15,
   "metadata": {},
   "outputs": [
    {
     "data": {
      "text/plain": [
       "<Axes: xlabel='titulacao'>"
      ]
     },
     "execution_count": 15,
     "metadata": {},
     "output_type": "execute_result"
    },
    {
     "data": {
      "image/png": "[encoded data removed]",
      "text/plain": [
       "<Figure size 640x480 with 1 Axes>"
      ]
     },
     "metadata": {},
     "output_type": "display_data"
    }
   ],
   "source": [
    "df['titulacao'].value_counts(normalize=True).plot(kind='bar')"
   ]
  },
  {
   "cell_type": "markdown",
   "metadata": {},
   "source": [
    "Observe que no gráfico aparece a titulação “pós-doutorado”, contudo, esse não é um título acadêmico; a maior titulação existente é o “doutorado”. Esse é um exemplo de erro no dado, algo com que será necessário lidar no dia a dia. Primeiramente, podemos investigar melhor e verificar quantos docentes possuem esse valor na titulação. "
   ]
  },
  {
   "cell_type": "code",
   "execution_count": 17,
   "metadata": {},
   "outputs": [
    {
     "data": {
      "text/html": [
       "<div>\n",
       "<style scoped>\n",
       "    .dataframe tbody tr th:only-of-type {\n",
       "        vertical-align: middle;\n",
       "    }\n",
       "\n",
       "    .dataframe tbody tr th {\n",
       "        vertical-align: top;\n",
       "    }\n",
       "\n",
       "    .dataframe thead th {\n",
       "        text-align: right;\n",
       "    }\n",
       "</style>\n",
       "<table border=\"1\" class=\"dataframe\">\n",
       "  <thead>\n",
       "    <tr style=\"text-align: right;\">\n",
       "      <th></th>\n",
       "      <th>nome</th>\n",
       "      <th>unidade</th>\n",
       "      <th>sexo</th>\n",
       "      <th>titulacao</th>\n",
       "    </tr>\n",
       "  </thead>\n",
       "  <tbody>\n",
       "    <tr>\n",
       "      <th>245</th>\n",
       "      <td>EMILIE GENEVIEVE AUDIGIER</td>\n",
       "      <td>DEPARTAMENTO DE LETRAS/CCH</td>\n",
       "      <td>F</td>\n",
       "      <td>PÓS-DOUTORADO</td>\n",
       "    </tr>\n",
       "  </tbody>\n",
       "</table>\n",
       "</div>"
      ],
      "text/plain": [
       "                          nome                     unidade sexo      titulacao\n",
       "245  EMILIE GENEVIEVE AUDIGIER  DEPARTAMENTO DE LETRAS/CCH    F  PÓS-DOUTORADO"
      ]
     },
     "execution_count": 17,
     "metadata": {},
     "output_type": "execute_result"
    }
   ],
   "source": [
    "df[df['titulacao'] == 'PÓS-DOUTORADO']"
   ]
  },
  {
   "cell_type": "markdown",
   "metadata": {},
   "source": [
    "Como essa consulta retornou apenas uma docente e já que sabemos que a titulação máxima é “doutorado”, logo podemos corrigir a informação dessa docente (245), mudando sua titulação para 'DOUTORADO'. Então podemos agora visualizar o gráfico novamente."
   ]
  },
  {
   "cell_type": "code",
   "execution_count": 18,
   "metadata": {},
   "outputs": [
    {
     "data": {
      "text/plain": [
       "<Axes: xlabel='titulacao'>"
      ]
     },
     "execution_count": 18,
     "metadata": {},
     "output_type": "execute_result"
    },
    {
     "data": {
      "image/png": "[encoded data removed]",
      "text/plain": [
       "<Figure size 640x480 with 1 Axes>"
      ]
     },
     "metadata": {},
     "output_type": "display_data"
    }
   ],
   "source": [
    "df.loc[245].titulacao = 'DOUTORADO'\n",
    "df['titulacao'].value_counts(normalize=True).plot(kind='bar')"
   ]
  },
  {
   "cell_type": "markdown",
   "metadata": {},
   "source": [
    "Adicionalmente, podemos analisar a quantidade de docentes por sexo e titulação. Nesse caso, vamos analisar duas informações em conjunto para ter uma melhor visão. Pode ser que tenhamos mais docentes do sexo masculino do que feminino ou que os docentes do sexo feminino possuam maior titulação.\n",
    "- Obs: Para problemas como esse, existe uma variação do gráfico de barras tradicional: o gráfico de barras empilhadas. Esse método permite visualizar a composição de diferentes categorias dentro de cada barra, contendo várias séries empilhadas umas sobre as outras, em vez de conter apenas uma série de dados por barra. Cada segmento da barra representa uma parte da totalidade, ajudando a mostrar tanto os totais quanto a contribuição de cada categoria para esses totais.\n",
    "\n",
    "Novamente, temos dados categóricos e iremos realizar contagens. A diferença é que iremos contar as combinações de 'sexo' e 'titulacao'. Em alto nível, temos os seguintes passos\n",
    "1. Para cada sexo e titulação, contar a quantidade de docentes; \n",
    "2. Gerar o gráfico de barras empilhadas.  \n",
    "  \n",
    "Para criar um gráfico de barras empilhadas, utilizamos o método `plot` do Pandas com `kind='bar'` e `stacked=True`. Contudo, a saída do value_counts não está no formato adequado para o gráfico de barras empilhadas, por isso será necessário utilizarmos o `unstack` para organizar os dados previamente."
   ]
  },
  {
   "cell_type": "code",
   "execution_count": 19,
   "metadata": {},
   "outputs": [
    {
     "data": {
      "text/plain": [
       "<Axes: xlabel='sexo'>"
      ]
     },
     "execution_count": 19,
     "metadata": {},
     "output_type": "execute_result"
    },
    {
     "data": {
      "image/png": "[encoded data removed]",
      "text/plain": [
       "<Figure size 640x480 with 1 Axes>"
      ]
     },
     "metadata": {},
     "output_type": "display_data"
    }
   ],
   "source": [
    "df.value_counts(['sexo', 'titulacao']).unstack().plot(kind='bar', stacked=True)"
   ]
  },
  {
   "cell_type": "markdown",
   "metadata": {},
   "source": [
    "**Lembre-se de que um dos pilares do pensamento computacional é o reconhecimento de padrões e que já contamos a quantidade de docentes por unidade.**\n",
    "Então, vamos listar as 10 unidades com mais docentes do sexo masculino e repetir o procedimento para o sexo feminino. A diferença agora é que iremos filtrar os docentes pelo sexo, seguindo os seguintes passos:\n",
    "\n",
    "1. Filtrar os docentes do sexo masculino (e/ou feminino);\n",
    "2. Para cada unidade, contar os docentes que estão vinculados a ela;\n",
    "3. Ordenar as unidades pela quantidade de docentes de modo decrescente (do maior para o menor valor);\n",
    "4. Apresentar as 10 primeiras unidades com a quantidade de docentes.  \n",
    "  \n",
    "Neste exemplo, iremos salvar alguns resultados intermediários. Para os passos 1 e 2, iremos salvar em duas variáveis, uma irá armazenar os dados dos docentes do sexo masculino; e a outra os do sexo feminino:\n"
   ]
  },
  {
   "cell_type": "code",
   "execution_count": 20,
   "metadata": {},
   "outputs": [],
   "source": [
    "docentes_masculino = df.query(\"sexo=='M'\").unidade.value_counts()\n",
    "docentes_feminino = df.query(\"sexo=='F'\").unidade.value_counts()"
   ]
  },
  {
   "cell_type": "markdown",
   "metadata": {},
   "source": [
    "O conjunto de dados dos técnicos administrativos possui os mesmos campos. Acesse a página com estes dados e realize as mesmas analises que fizemos para os docentes. Fique à vontade para fazer outras.\n",
    "\n",
    "https://dadosabertos.ufma.br/dataset/tecnicos-administrativos"
   ]
  },
  {
   "cell_type": "markdown",
   "metadata": {},
   "source": [
    "# 2. Analisando os dados dos alunos ingressantes"
   ]
  },
  {
   "cell_type": "markdown",
   "metadata": {},
   "source": [
    "Semelhante ao que fizemos na coleção dos dados dos docentes, vamos olhar o dicionário de dados. Observe que agora temos muito mais colunas do que tínhamos nos dados dos docentes.\n",
    "\n",
    "| Índice | Campo          | Tipo    | Descrição                                                | Obrigatório? |\n",
    "|--------|----------------|---------|----------------------------------------------------------|--------------|\n",
    "| 1      | Município      | Texto   | Município do curso                                       | Sim          |\n",
    "| 2      | Curso          | Texto   | Nome do curso                                            | Sim          |\n",
    "| 3      | Grau           | Texto   | Grau acadêmico do curso (Bacharelado/Tecnólogo)          | Sim          |\n",
    "| 4      | Turno          | Texto   | Horário de funcionamento do curso                        | Sim          |\n",
    "| 5      | Modalidade     | Texto   | Tipo de ensino (presencial, a distância, semipresencial) | Sim          |\n",
    "| 6      | Nível          | Texto   | Nível de ensino                                          | Sim          |\n",
    "| 7      | Habilitações   | Texto   | Habilitações do curso                                    | Não          |\n",
    "| 8      | Conveniências  | Texto   | Conveniências do curso                                   | Não          |\n",
    "| 9      | Forma Ingresso | Texto   | Forma de ingresso do discente                            | Sim          |\n",
    "| 10     | Ano            | Inteiro | Ano da informação                                        | Sim          |\n",
    "| 11     | Período        | Inteiro | Semestre letivo da informação                            | Sim          |\n",
    "| 12     | Quantidade     | Inteiro | Quantidade de alunos que ingressaram em um curso no ano e período relatado | Sim |\n"
   ]
  },
  {
   "cell_type": "markdown",
   "metadata": {},
   "source": [
    "No portal de dados abertos da UFMA, é disponibilizada uma coleção com os dados de ingressantes por semestre, que pode ser acessada no seguinte endereço:\n",
    "\n",
    "https://dadosabertos.ufma.br/dataset/alunos-ingressantes-2017-1"
   ]
  },
  {
   "cell_type": "markdown",
   "metadata": {},
   "source": [
    "Qual é a média de ingressantes de cada curso da Universidade Federal do Maranhão? Quais cursos têm as maiores e menores médias? Com desses dados, podemos responder essas perguntas. Para cada semestre, são disponibilizados os dados de ingressantes em um arquivo CSV. Para sabermos a média de ingressantes, teremos que utilizar vários arquivos, mas antes de atacar o problema como um todo, vamos decompô-lo e calcular a média para um semestre apenas."
   ]
  },
  {
   "cell_type": "markdown",
   "metadata": {},
   "source": [
    "**Lembre-se de que a decomposição é um dos pilares do pensamento computacional.**\n",
    "\n",
    "Inicialmente, vamos criar uma célula de texto com o subtítulo desta seção: `# Analisando os dados dos alunos ingressantes`\n",
    "Obs: Observe que agora podemos ocultar todas as células de código da análise anterior para focarmos nessa nova análise. Tente você mesmo!\n",
    "- E importar a biblioteca Pandas:\n",
    "- Vamos criar uma variável para armazenar o endereço do conjunto de dados dos ingressantes do segundo semestre de 2018\n",
    "- Então, podemos carregar os dados, passando diretamente a URL para a função `read_csv()`:\n",
    "- Com os dados carregados, é interessante verificar as 5 primeiras linhas\n",
    "\n",
    "Assim como aconteceu com os dados dos docentes, será criada uma coluna adicional devido ao ponto e vírgula (;) no final de cada linha. Você já sabe como corrigir isso, certo?"
   ]
  },
  {
   "cell_type": "code",
   "execution_count": 32,
   "metadata": {},
   "outputs": [
    {
     "data": {
      "text/html": [
       "<div>\n",
       "<style scoped>\n",
       "    .dataframe tbody tr th:only-of-type {\n",
       "        vertical-align: middle;\n",
       "    }\n",
       "\n",
       "    .dataframe tbody tr th {\n",
       "        vertical-align: top;\n",
       "    }\n",
       "\n",
       "    .dataframe thead th {\n",
       "        text-align: right;\n",
       "    }\n",
       "</style>\n",
       "<table border=\"1\" class=\"dataframe\">\n",
       "  <thead>\n",
       "    <tr style=\"text-align: right;\">\n",
       "      <th></th>\n",
       "      <th>municipio</th>\n",
       "      <th>curso</th>\n",
       "      <th>grau</th>\n",
       "      <th>turno</th>\n",
       "      <th>modalidade</th>\n",
       "      <th>nivel</th>\n",
       "      <th>habilitacao</th>\n",
       "      <th>convenio</th>\n",
       "      <th>forma_ingresso</th>\n",
       "      <th>ano</th>\n",
       "      <th>periodo</th>\n",
       "      <th>quantidade</th>\n",
       "      <th>Unnamed: 12</th>\n",
       "    </tr>\n",
       "  </thead>\n",
       "  <tbody>\n",
       "    <tr>\n",
       "      <th>0</th>\n",
       "      <td>BACABAL</td>\n",
       "      <td>LETRAS - PORTUGUÊS</td>\n",
       "      <td>LICENCIATURA</td>\n",
       "      <td>Vespertino</td>\n",
       "      <td>Presencial</td>\n",
       "      <td>G</td>\n",
       "      <td>NaN</td>\n",
       "      <td>NaN</td>\n",
       "      <td>SISU - AMPLA CONCORRÊNCIA</td>\n",
       "      <td>2018</td>\n",
       "      <td>1</td>\n",
       "      <td>24</td>\n",
       "      <td>NaN</td>\n",
       "    </tr>\n",
       "    <tr>\n",
       "      <th>1</th>\n",
       "      <td>BACABAL</td>\n",
       "      <td>LETRAS - PORTUGUÊS</td>\n",
       "      <td>LICENCIATURA</td>\n",
       "      <td>Vespertino</td>\n",
       "      <td>Presencial</td>\n",
       "      <td>G</td>\n",
       "      <td>NaN</td>\n",
       "      <td>NaN</td>\n",
       "      <td>SISU - ESCOLA PÚBLICA</td>\n",
       "      <td>2018</td>\n",
       "      <td>1</td>\n",
       "      <td>2</td>\n",
       "      <td>NaN</td>\n",
       "    </tr>\n",
       "    <tr>\n",
       "      <th>2</th>\n",
       "      <td>BACABAL</td>\n",
       "      <td>LETRAS - PORTUGUÊS</td>\n",
       "      <td>LICENCIATURA</td>\n",
       "      <td>Vespertino</td>\n",
       "      <td>Presencial</td>\n",
       "      <td>G</td>\n",
       "      <td>NaN</td>\n",
       "      <td>NaN</td>\n",
       "      <td>SISU - ESCOLA PUBLICA - DEFICIENTE - RF</td>\n",
       "      <td>2018</td>\n",
       "      <td>1</td>\n",
       "      <td>1</td>\n",
       "      <td>NaN</td>\n",
       "    </tr>\n",
       "    <tr>\n",
       "      <th>3</th>\n",
       "      <td>BACABAL</td>\n",
       "      <td>LETRAS - PORTUGUÊS</td>\n",
       "      <td>LICENCIATURA</td>\n",
       "      <td>Vespertino</td>\n",
       "      <td>Presencial</td>\n",
       "      <td>G</td>\n",
       "      <td>NaN</td>\n",
       "      <td>NaN</td>\n",
       "      <td>SISU - ESCOLA PUBLICA - NEGRO</td>\n",
       "      <td>2018</td>\n",
       "      <td>1</td>\n",
       "      <td>10</td>\n",
       "      <td>NaN</td>\n",
       "    </tr>\n",
       "    <tr>\n",
       "      <th>4</th>\n",
       "      <td>BACABAL</td>\n",
       "      <td>LETRAS - PORTUGUÊS</td>\n",
       "      <td>LICENCIATURA</td>\n",
       "      <td>Vespertino</td>\n",
       "      <td>Presencial</td>\n",
       "      <td>G</td>\n",
       "      <td>NaN</td>\n",
       "      <td>NaN</td>\n",
       "      <td>SISU - ESCOLA PUBLICA - NEGRO - DEFICIENTE - RF</td>\n",
       "      <td>2018</td>\n",
       "      <td>1</td>\n",
       "      <td>1</td>\n",
       "      <td>NaN</td>\n",
       "    </tr>\n",
       "  </tbody>\n",
       "</table>\n",
       "</div>"
      ],
      "text/plain": [
       "  municipio               curso          grau       turno  modalidade nivel  \\\n",
       "0   BACABAL  LETRAS - PORTUGUÊS  LICENCIATURA  Vespertino  Presencial     G   \n",
       "1   BACABAL  LETRAS - PORTUGUÊS  LICENCIATURA  Vespertino  Presencial     G   \n",
       "2   BACABAL  LETRAS - PORTUGUÊS  LICENCIATURA  Vespertino  Presencial     G   \n",
       "3   BACABAL  LETRAS - PORTUGUÊS  LICENCIATURA  Vespertino  Presencial     G   \n",
       "4   BACABAL  LETRAS - PORTUGUÊS  LICENCIATURA  Vespertino  Presencial     G   \n",
       "\n",
       "   habilitacao  convenio                                   forma_ingresso  \\\n",
       "0          NaN       NaN                        SISU - AMPLA CONCORRÊNCIA   \n",
       "1          NaN       NaN                            SISU - ESCOLA PÚBLICA   \n",
       "2          NaN       NaN          SISU - ESCOLA PUBLICA - DEFICIENTE - RF   \n",
       "3          NaN       NaN                    SISU - ESCOLA PUBLICA - NEGRO   \n",
       "4          NaN       NaN  SISU - ESCOLA PUBLICA - NEGRO - DEFICIENTE - RF   \n",
       "\n",
       "    ano  periodo  quantidade  Unnamed: 12  \n",
       "0  2018        1          24          NaN  \n",
       "1  2018        1           2          NaN  \n",
       "2  2018        1           1          NaN  \n",
       "3  2018        1          10          NaN  \n",
       "4  2018        1           1          NaN  "
      ]
     },
     "execution_count": 32,
     "metadata": {},
     "output_type": "execute_result"
    }
   ],
   "source": [
    "import pandas as pd\n",
    "\n",
    "url_2018 ='http://dadosabertos.ufma.br/dataset/36d814e1-baa0-466c-86d8-73714c076755/resource/94c390a1-af05-49df-a42c-de11f1187999/download/alunos_ingressantes_-_2018.1.csv'\n",
    "df_disc_2018 = pd.read_csv(url_2018, sep=\";\")\n",
    "df_disc_2018.head()"
   ]
  },
  {
   "cell_type": "code",
   "execution_count": 33,
   "metadata": {},
   "outputs": [
    {
     "data": {
      "text/html": [
       "<div>\n",
       "<style scoped>\n",
       "    .dataframe tbody tr th:only-of-type {\n",
       "        vertical-align: middle;\n",
       "    }\n",
       "\n",
       "    .dataframe tbody tr th {\n",
       "        vertical-align: top;\n",
       "    }\n",
       "\n",
       "    .dataframe thead th {\n",
       "        text-align: right;\n",
       "    }\n",
       "</style>\n",
       "<table border=\"1\" class=\"dataframe\">\n",
       "  <thead>\n",
       "    <tr style=\"text-align: right;\">\n",
       "      <th></th>\n",
       "      <th>municipio</th>\n",
       "      <th>curso</th>\n",
       "      <th>grau</th>\n",
       "      <th>turno</th>\n",
       "      <th>modalidade</th>\n",
       "      <th>nivel</th>\n",
       "      <th>habilitacao</th>\n",
       "      <th>convenio</th>\n",
       "      <th>forma_ingresso</th>\n",
       "      <th>ano</th>\n",
       "      <th>periodo</th>\n",
       "      <th>quantidade</th>\n",
       "    </tr>\n",
       "  </thead>\n",
       "  <tbody>\n",
       "    <tr>\n",
       "      <th>0</th>\n",
       "      <td>BACABAL</td>\n",
       "      <td>LETRAS - PORTUGUÊS</td>\n",
       "      <td>LICENCIATURA</td>\n",
       "      <td>Vespertino</td>\n",
       "      <td>Presencial</td>\n",
       "      <td>G</td>\n",
       "      <td>NaN</td>\n",
       "      <td>NaN</td>\n",
       "      <td>SISU - AMPLA CONCORRÊNCIA</td>\n",
       "      <td>2018</td>\n",
       "      <td>1</td>\n",
       "      <td>24</td>\n",
       "    </tr>\n",
       "    <tr>\n",
       "      <th>1</th>\n",
       "      <td>BACABAL</td>\n",
       "      <td>LETRAS - PORTUGUÊS</td>\n",
       "      <td>LICENCIATURA</td>\n",
       "      <td>Vespertino</td>\n",
       "      <td>Presencial</td>\n",
       "      <td>G</td>\n",
       "      <td>NaN</td>\n",
       "      <td>NaN</td>\n",
       "      <td>SISU - ESCOLA PÚBLICA</td>\n",
       "      <td>2018</td>\n",
       "      <td>1</td>\n",
       "      <td>2</td>\n",
       "    </tr>\n",
       "    <tr>\n",
       "      <th>2</th>\n",
       "      <td>BACABAL</td>\n",
       "      <td>LETRAS - PORTUGUÊS</td>\n",
       "      <td>LICENCIATURA</td>\n",
       "      <td>Vespertino</td>\n",
       "      <td>Presencial</td>\n",
       "      <td>G</td>\n",
       "      <td>NaN</td>\n",
       "      <td>NaN</td>\n",
       "      <td>SISU - ESCOLA PUBLICA - DEFICIENTE - RF</td>\n",
       "      <td>2018</td>\n",
       "      <td>1</td>\n",
       "      <td>1</td>\n",
       "    </tr>\n",
       "    <tr>\n",
       "      <th>3</th>\n",
       "      <td>BACABAL</td>\n",
       "      <td>LETRAS - PORTUGUÊS</td>\n",
       "      <td>LICENCIATURA</td>\n",
       "      <td>Vespertino</td>\n",
       "      <td>Presencial</td>\n",
       "      <td>G</td>\n",
       "      <td>NaN</td>\n",
       "      <td>NaN</td>\n",
       "      <td>SISU - ESCOLA PUBLICA - NEGRO</td>\n",
       "      <td>2018</td>\n",
       "      <td>1</td>\n",
       "      <td>10</td>\n",
       "    </tr>\n",
       "    <tr>\n",
       "      <th>4</th>\n",
       "      <td>BACABAL</td>\n",
       "      <td>LETRAS - PORTUGUÊS</td>\n",
       "      <td>LICENCIATURA</td>\n",
       "      <td>Vespertino</td>\n",
       "      <td>Presencial</td>\n",
       "      <td>G</td>\n",
       "      <td>NaN</td>\n",
       "      <td>NaN</td>\n",
       "      <td>SISU - ESCOLA PUBLICA - NEGRO - DEFICIENTE - RF</td>\n",
       "      <td>2018</td>\n",
       "      <td>1</td>\n",
       "      <td>1</td>\n",
       "    </tr>\n",
       "  </tbody>\n",
       "</table>\n",
       "</div>"
      ],
      "text/plain": [
       "  municipio               curso          grau       turno  modalidade nivel  \\\n",
       "0   BACABAL  LETRAS - PORTUGUÊS  LICENCIATURA  Vespertino  Presencial     G   \n",
       "1   BACABAL  LETRAS - PORTUGUÊS  LICENCIATURA  Vespertino  Presencial     G   \n",
       "2   BACABAL  LETRAS - PORTUGUÊS  LICENCIATURA  Vespertino  Presencial     G   \n",
       "3   BACABAL  LETRAS - PORTUGUÊS  LICENCIATURA  Vespertino  Presencial     G   \n",
       "4   BACABAL  LETRAS - PORTUGUÊS  LICENCIATURA  Vespertino  Presencial     G   \n",
       "\n",
       "   habilitacao  convenio                                   forma_ingresso  \\\n",
       "0          NaN       NaN                        SISU - AMPLA CONCORRÊNCIA   \n",
       "1          NaN       NaN                            SISU - ESCOLA PÚBLICA   \n",
       "2          NaN       NaN          SISU - ESCOLA PUBLICA - DEFICIENTE - RF   \n",
       "3          NaN       NaN                    SISU - ESCOLA PUBLICA - NEGRO   \n",
       "4          NaN       NaN  SISU - ESCOLA PUBLICA - NEGRO - DEFICIENTE - RF   \n",
       "\n",
       "    ano  periodo  quantidade  \n",
       "0  2018        1          24  \n",
       "1  2018        1           2  \n",
       "2  2018        1           1  \n",
       "3  2018        1          10  \n",
       "4  2018        1           1  "
      ]
     },
     "execution_count": 33,
     "metadata": {},
     "output_type": "execute_result"
    }
   ],
   "source": [
    "df_disc_2018.drop(\"Unnamed: 12\", axis=1, inplace=True)\n",
    "df_disc_2018.head()"
   ]
  },
  {
   "cell_type": "markdown",
   "metadata": {},
   "source": [
    "Use o método '`info()` para fazer checagem do tipo de dados. Você verificará que os tipos de dados foram carregados corretamente, com exceção das colunas \"habilitação\" e \"convênio\". Enquanto as outras colunas têm 417 valores, as colunas \"habilitação\" e \"convênio\" têm zero (0) valores não nulos. Talvez essas colunas tenham valores em outros semestres, mas, como não vamos precisar desses dados, é melhor não incluí-las no carregamento. \n",
    "\n",
    "Como precisamos passar os nomes das colunas como parâmetro no carregamento, vamos primeiro imprimir as colunas atuais e criar uma lista com apenas as colunas que vamos carregar. Em uma célula do Jupyter Notebook, digite: `df_disc_2028.columns`. Ao executar, serão impressas todas as colunas atuais:"
   ]
  },
  {
   "cell_type": "code",
   "execution_count": 34,
   "metadata": {},
   "outputs": [
    {
     "name": "stdout",
     "output_type": "stream",
     "text": [
      "<class 'pandas.core.frame.DataFrame'>\n",
      "RangeIndex: 417 entries, 0 to 416\n",
      "Data columns (total 12 columns):\n",
      " #   Column          Non-Null Count  Dtype  \n",
      "---  ------          --------------  -----  \n",
      " 0   municipio       417 non-null    object \n",
      " 1   curso           417 non-null    object \n",
      " 2   grau            417 non-null    object \n",
      " 3   turno           417 non-null    object \n",
      " 4   modalidade      417 non-null    object \n",
      " 5   nivel           417 non-null    object \n",
      " 6   habilitacao     0 non-null      float64\n",
      " 7   convenio        0 non-null      float64\n",
      " 8   forma_ingresso  417 non-null    object \n",
      " 9   ano             417 non-null    int64  \n",
      " 10  periodo         417 non-null    int64  \n",
      " 11  quantidade      417 non-null    int64  \n",
      "dtypes: float64(2), int64(3), object(7)\n",
      "memory usage: 39.2+ KB\n"
     ]
    }
   ],
   "source": [
    "df_disc_2018.info()"
   ]
  },
  {
   "cell_type": "code",
   "execution_count": 35,
   "metadata": {},
   "outputs": [
    {
     "data": {
      "text/plain": [
       "Index(['municipio', 'curso', 'grau', 'turno', 'modalidade', 'nivel',\n",
       "       'habilitacao', 'convenio', 'forma_ingresso', 'ano', 'periodo',\n",
       "       'quantidade'],\n",
       "      dtype='object')"
      ]
     },
     "execution_count": 35,
     "metadata": {},
     "output_type": "execute_result"
    }
   ],
   "source": [
    "df_disc_2018.columns"
   ]
  },
  {
   "cell_type": "markdown",
   "metadata": {},
   "source": [
    "- Vamos criar uma lista manualmente, ou seja, vamos copiar apenas as colunas que desejamos para uma nova variável do tipo lista\n",
    "- A lista criada será passada para a função através do parâmetro `usecols`\n",
    "- Vamos visualizar novamente os dados, porém ordenando os cursos pela quantidade de ingressantes:"
   ]
  },
  {
   "cell_type": "code",
   "execution_count": 86,
   "metadata": {},
   "outputs": [
    {
     "data": {
      "text/html": [
       "<div>\n",
       "<style scoped>\n",
       "    .dataframe tbody tr th:only-of-type {\n",
       "        vertical-align: middle;\n",
       "    }\n",
       "\n",
       "    .dataframe tbody tr th {\n",
       "        vertical-align: top;\n",
       "    }\n",
       "\n",
       "    .dataframe thead th {\n",
       "        text-align: right;\n",
       "    }\n",
       "</style>\n",
       "<table border=\"1\" class=\"dataframe\">\n",
       "  <thead>\n",
       "    <tr style=\"text-align: right;\">\n",
       "      <th></th>\n",
       "      <th>municipio</th>\n",
       "      <th>curso</th>\n",
       "      <th>grau</th>\n",
       "      <th>turno</th>\n",
       "      <th>modalidade</th>\n",
       "      <th>nivel</th>\n",
       "      <th>forma_ingresso</th>\n",
       "      <th>ano</th>\n",
       "      <th>periodo</th>\n",
       "      <th>quantidade</th>\n",
       "    </tr>\n",
       "  </thead>\n",
       "  <tbody>\n",
       "    <tr>\n",
       "      <th>385</th>\n",
       "      <td>SÃO LUÍS</td>\n",
       "      <td>QUÍMICA</td>\n",
       "      <td>BACHARELADO</td>\n",
       "      <td>Vespertino</td>\n",
       "      <td>Presencial</td>\n",
       "      <td>G</td>\n",
       "      <td>SISU - ESCOLA PUBLICA - NEGRO - RF</td>\n",
       "      <td>2018</td>\n",
       "      <td>1</td>\n",
       "      <td>1</td>\n",
       "    </tr>\n",
       "    <tr>\n",
       "      <th>258</th>\n",
       "      <td>SÃO LUÍS</td>\n",
       "      <td>FARMÁCIA</td>\n",
       "      <td>BACHARELADO</td>\n",
       "      <td>Matutino e Vespertino</td>\n",
       "      <td>Presencial</td>\n",
       "      <td>G</td>\n",
       "      <td>SISU - ESCOLA PUBLICA - INDIO - RF</td>\n",
       "      <td>2018</td>\n",
       "      <td>1</td>\n",
       "      <td>1</td>\n",
       "    </tr>\n",
       "    <tr>\n",
       "      <th>255</th>\n",
       "      <td>SÃO LUÍS</td>\n",
       "      <td>ESTUDOS AFRICANOS E AFRO-BRASILEIROS</td>\n",
       "      <td>LICENCIATURA</td>\n",
       "      <td>Noturno</td>\n",
       "      <td>Presencial</td>\n",
       "      <td>G</td>\n",
       "      <td>SISU - ESCOLA PUBLICA - RF</td>\n",
       "      <td>2018</td>\n",
       "      <td>1</td>\n",
       "      <td>1</td>\n",
       "    </tr>\n",
       "    <tr>\n",
       "      <th>109</th>\n",
       "      <td>SÃO LUÍS</td>\n",
       "      <td>CIÊNCIA DA COMPUTAÇÃO</td>\n",
       "      <td>BACHARELADO</td>\n",
       "      <td>Vespertino</td>\n",
       "      <td>Presencial</td>\n",
       "      <td>G</td>\n",
       "      <td>SISU - ESCOLA PÚBLICA</td>\n",
       "      <td>2018</td>\n",
       "      <td>1</td>\n",
       "      <td>1</td>\n",
       "    </tr>\n",
       "    <tr>\n",
       "      <th>110</th>\n",
       "      <td>SÃO LUÍS</td>\n",
       "      <td>CIÊNCIA DA COMPUTAÇÃO</td>\n",
       "      <td>BACHARELADO</td>\n",
       "      <td>Vespertino</td>\n",
       "      <td>Presencial</td>\n",
       "      <td>G</td>\n",
       "      <td>SISU - ESCOLA PUBLICA - INDIO - RF</td>\n",
       "      <td>2018</td>\n",
       "      <td>1</td>\n",
       "      <td>1</td>\n",
       "    </tr>\n",
       "    <tr>\n",
       "      <th>...</th>\n",
       "      <td>...</td>\n",
       "      <td>...</td>\n",
       "      <td>...</td>\n",
       "      <td>...</td>\n",
       "      <td>...</td>\n",
       "      <td>...</td>\n",
       "      <td>...</td>\n",
       "      <td>...</td>\n",
       "      <td>...</td>\n",
       "      <td>...</td>\n",
       "    </tr>\n",
       "    <tr>\n",
       "      <th>330</th>\n",
       "      <td>SÃO LUÍS</td>\n",
       "      <td>MEDICINA</td>\n",
       "      <td>BACHARELADO</td>\n",
       "      <td>Matutino e Vespertino</td>\n",
       "      <td>Presencial</td>\n",
       "      <td>G</td>\n",
       "      <td>SISU - AMPLA CONCORRÊNCIA</td>\n",
       "      <td>2018</td>\n",
       "      <td>1</td>\n",
       "      <td>25</td>\n",
       "    </tr>\n",
       "    <tr>\n",
       "      <th>20</th>\n",
       "      <td>CHAPADINHA</td>\n",
       "      <td>ENGENHARIA AGRÍCOLA</td>\n",
       "      <td>BACHARELADO</td>\n",
       "      <td>Matutino e Vespertino</td>\n",
       "      <td>Presencial</td>\n",
       "      <td>G</td>\n",
       "      <td>SISU - AMPLA CONCORRÊNCIA</td>\n",
       "      <td>2018</td>\n",
       "      <td>1</td>\n",
       "      <td>27</td>\n",
       "    </tr>\n",
       "    <tr>\n",
       "      <th>231</th>\n",
       "      <td>SÃO LUÍS</td>\n",
       "      <td>ENGENHARIA CIVIL</td>\n",
       "      <td>BACHARELADO</td>\n",
       "      <td>Matutino, Vespertino e Noturno</td>\n",
       "      <td>Presencial</td>\n",
       "      <td>G</td>\n",
       "      <td>REINGRESSO SEGUNDO CICLO</td>\n",
       "      <td>2018</td>\n",
       "      <td>1</td>\n",
       "      <td>36</td>\n",
       "    </tr>\n",
       "    <tr>\n",
       "      <th>124</th>\n",
       "      <td>SÃO LUÍS</td>\n",
       "      <td>CIÊNCIA E TECNOLOGIA</td>\n",
       "      <td>BACHARELADO</td>\n",
       "      <td>Noturno</td>\n",
       "      <td>Presencial</td>\n",
       "      <td>G</td>\n",
       "      <td>SISU - AMPLA CONCORRÊNCIA</td>\n",
       "      <td>2018</td>\n",
       "      <td>1</td>\n",
       "      <td>44</td>\n",
       "    </tr>\n",
       "    <tr>\n",
       "      <th>116</th>\n",
       "      <td>SÃO LUÍS</td>\n",
       "      <td>CIÊNCIA E TECNOLOGIA</td>\n",
       "      <td>BACHARELADO</td>\n",
       "      <td>Matutino</td>\n",
       "      <td>Presencial</td>\n",
       "      <td>G</td>\n",
       "      <td>SISU - AMPLA CONCORRÊNCIA</td>\n",
       "      <td>2018</td>\n",
       "      <td>1</td>\n",
       "      <td>50</td>\n",
       "    </tr>\n",
       "  </tbody>\n",
       "</table>\n",
       "<p>417 rows × 10 columns</p>\n",
       "</div>"
      ],
      "text/plain": [
       "      municipio                                 curso          grau  \\\n",
       "385    SÃO LUÍS                               QUÍMICA   BACHARELADO   \n",
       "258    SÃO LUÍS                              FARMÁCIA   BACHARELADO   \n",
       "255    SÃO LUÍS  ESTUDOS AFRICANOS E AFRO-BRASILEIROS  LICENCIATURA   \n",
       "109    SÃO LUÍS                 CIÊNCIA DA COMPUTAÇÃO   BACHARELADO   \n",
       "110    SÃO LUÍS                 CIÊNCIA DA COMPUTAÇÃO   BACHARELADO   \n",
       "..          ...                                   ...           ...   \n",
       "330    SÃO LUÍS                              MEDICINA   BACHARELADO   \n",
       "20   CHAPADINHA                   ENGENHARIA AGRÍCOLA   BACHARELADO   \n",
       "231    SÃO LUÍS                      ENGENHARIA CIVIL   BACHARELADO   \n",
       "124    SÃO LUÍS                  CIÊNCIA E TECNOLOGIA   BACHARELADO   \n",
       "116    SÃO LUÍS                  CIÊNCIA E TECNOLOGIA   BACHARELADO   \n",
       "\n",
       "                              turno  modalidade nivel  \\\n",
       "385                      Vespertino  Presencial     G   \n",
       "258           Matutino e Vespertino  Presencial     G   \n",
       "255                         Noturno  Presencial     G   \n",
       "109                      Vespertino  Presencial     G   \n",
       "110                      Vespertino  Presencial     G   \n",
       "..                              ...         ...   ...   \n",
       "330           Matutino e Vespertino  Presencial     G   \n",
       "20            Matutino e Vespertino  Presencial     G   \n",
       "231  Matutino, Vespertino e Noturno  Presencial     G   \n",
       "124                         Noturno  Presencial     G   \n",
       "116                        Matutino  Presencial     G   \n",
       "\n",
       "                         forma_ingresso   ano  periodo  quantidade  \n",
       "385  SISU - ESCOLA PUBLICA - NEGRO - RF  2018        1           1  \n",
       "258  SISU - ESCOLA PUBLICA - INDIO - RF  2018        1           1  \n",
       "255          SISU - ESCOLA PUBLICA - RF  2018        1           1  \n",
       "109               SISU - ESCOLA PÚBLICA  2018        1           1  \n",
       "110  SISU - ESCOLA PUBLICA - INDIO - RF  2018        1           1  \n",
       "..                                  ...   ...      ...         ...  \n",
       "330           SISU - AMPLA CONCORRÊNCIA  2018        1          25  \n",
       "20            SISU - AMPLA CONCORRÊNCIA  2018        1          27  \n",
       "231            REINGRESSO SEGUNDO CICLO  2018        1          36  \n",
       "124           SISU - AMPLA CONCORRÊNCIA  2018        1          44  \n",
       "116           SISU - AMPLA CONCORRÊNCIA  2018        1          50  \n",
       "\n",
       "[417 rows x 10 columns]"
      ]
     },
     "execution_count": 86,
     "metadata": {},
     "output_type": "execute_result"
    }
   ],
   "source": [
    "colunas = ['municipio', 'curso', 'grau', 'turno', 'modalidade', 'nivel',\n",
    "       'forma_ingresso', 'ano', 'periodo',\n",
    "       'quantidade']\n",
    "df_disc_2018 = pd.read_csv(url_2018, sep=\";\", usecols=colunas)\n",
    "df_disc_2018.sort_values(by='quantidade', ascending=True)"
   ]
  },
  {
   "cell_type": "markdown",
   "metadata": {},
   "source": [
    "Para determinar os 10 cursos com a maior quantidade de ingressantes, precisaremos elaborar um algoritmo com os seguintes passos:\n",
    "\n",
    "1. Agrupar as diferentes formas de ingresso por curso;\n",
    "2. Funções matemáticas somar a quantidade de ingressantes de todas as formas de ingresso de cada curso;\n",
    "3. Ordenar de modo decrescente;\n",
    "4. Listar os 10 primeiros."
   ]
  },
  {
   "cell_type": "markdown",
   "metadata": {},
   "source": [
    "Por uma questão didática, o código a seguir explicita esses 4 passos em 4 linhas distintas. Para isso, foi utilizada a barra `‘\\’` para permitir dividir o encadeamento em várias linhas. "
   ]
  },
  {
   "cell_type": "code",
   "execution_count": 87,
   "metadata": {},
   "outputs": [
    {
     "data": {
      "text/plain": [
       "curso\n",
       "CIÊNCIA E TECNOLOGIA               195\n",
       "DIREITO                            123\n",
       "MEDICINA                           109\n",
       "PEDAGOGIA                          105\n",
       "ENFERMAGEM                          92\n",
       "CIÊNCIAS BIOLÓGICAS                 77\n",
       "EDUCAÇÃO FÍSICA                     76\n",
       "COMUNICAÇÃO SOCIAL - JORNALISMO     60\n",
       "LETRAS - PORTUGUÊS                  47\n",
       "ADMINISTRAÇÃO                       45\n",
       "Name: quantidade, dtype: int64"
      ]
     },
     "execution_count": 87,
     "metadata": {},
     "output_type": "execute_result"
    }
   ],
   "source": [
    "df_disc_2018.groupby('curso')['quantidade']\\\n",
    "    .sum()\\\n",
    "        .sort_values(ascending=False)\\\n",
    "            .head(10)"
   ]
  },
  {
   "cell_type": "markdown",
   "metadata": {},
   "source": [
    "Existem cursos ofertados em mais de um turno e município. Para distinguir esses ingressantes, precisamos agrupar por curso, município e turno."
   ]
  },
  {
   "cell_type": "code",
   "execution_count": 88,
   "metadata": {},
   "outputs": [
    {
     "data": {
      "text/plain": [
       "curso                            municipio   turno                \n",
       "CIÊNCIA E TECNOLOGIA             SÃO LUÍS    Matutino                 98\n",
       "                                             Noturno                  97\n",
       "MEDICINA                         SÃO LUÍS    Matutino e Vespertino    53\n",
       "ENFERMAGEM                       IMPERATRIZ  Matutino e Vespertino    48\n",
       "LETRAS - PORTUGUÊS               BACABAL     Vespertino               47\n",
       "COMUNICAÇÃO SOCIAL - JORNALISMO  IMPERATRIZ  Vespertino               46\n",
       "ADMINISTRAÇÃO                    SÃO LUÍS    Matutino                 45\n",
       "DIREITO                          SÃO LUÍS    Matutino                 44\n",
       "MATEMÁTICA                       SÃO LUÍS    Vespertino               44\n",
       "CIÊNCIAS ECONÔMICAS              SÃO LUÍS    Vespertino               44\n",
       "Name: quantidade, dtype: int64"
      ]
     },
     "execution_count": 88,
     "metadata": {},
     "output_type": "execute_result"
    }
   ],
   "source": [
    "df_disc_2018.groupby(['curso', 'municipio', 'turno'])['quantidade']\\\n",
    "    .sum()\\\n",
    "        .sort_values(ascending=False).head(10)"
   ]
  },
  {
   "cell_type": "markdown",
   "metadata": {},
   "source": [
    "Agora que conseguimos visualizar a quantidade de ingressantes por curso em um semestre específico, podemos abordar o problema original, que é calcular a média de ingressantes entre vários semestres. Para isso, vamos voltar ao portal e incluir dados de outros semestres. Usaremos dados dos anos de 2018 a 2021, que possuem informações para ambos os semestres. Ao todo, serão 8 arquivos em diferentes endereços. Se estivéssemos usando planilhas, precisaríamos baixar cada arquivo e juntá-los em uma única planilha. Vamos fazer algo semelhante, mas usando um script. Para isso, utilizaremos diversos conceitos que vimos no início deste módulo."
   ]
  },
  {
   "cell_type": "code",
   "execution_count": 89,
   "metadata": {},
   "outputs": [],
   "source": [
    "urls = [\n",
    "\n",
    "'http://dadosabertos.ufma.br/dataset/36d814e1-baa0-466c-86d8-73714c076755/resource/94c390a1-af05-49df-a42c-de11f1187999/download/alunos_ingressantes_-_2018.1.csv',\n",
    "\n",
    "'http://dadosabertos.ufma.br/dataset/36d814e1-baa0-466c-86d8-73714c076755/resource/876d6fe4-a5c1-4252-860e-e878733ae85c/download/alunos_ingressantes_-_2018.2.csv',\n",
    "\n",
    "'http://dadosabertos.ufma.br/dataset/36d814e1-baa0-466c-86d8-73714c076755/resource/75843aa8-951b-464b-8d0e-39fdf62fa79f/download/alunos_ingressantes_-_2019.1.csv',\n",
    "\n",
    "'http://dadosabertos.ufma.br/dataset/36d814e1-baa0-466c-86d8-73714c076755/resource/42226a8b-5ec4-4886-b372-85cbb56d0496/download/alunos_ingressantes_-_2019.2.csv',\n",
    "\n",
    "'http://dadosabertos.ufma.br/dataset/36d814e1-baa0-466c-86d8-73714c076755/resource/573a5221-5228-44ee-8857-f4cc33b1ee6a/download/alunos_ingressantes_-_2020.1.csv',\n",
    "\n",
    "'http://dadosabertos.ufma.br/dataset/36d814e1-baa0-466c-86d8-73714c076755/resource/77ccde1b-7bfe-4342-bcf1-7a5075982d96/download/alunos_ingressantes_-_2020.2.csv',\n",
    "\n",
    "'http://dadosabertos.ufma.br/dataset/36d814e1-baa0-466c-86d8-73714c076755/resource/61fff8f0-4c95-4293-9921-d3a92d09af26/download/alunos_ingressantes_-_2021-1.csv',\n",
    "\n",
    "'http://dadosabertos.ufma.br/dataset/36d814e1-baa0-466c-86d8-73714c076755/resource/b473e197-50e5-4c2d-91ff-8bc2291cd9f3/download/alunos_ingressantes_-_2021.2.csv',\n",
    "\n",
    "]\n"
   ]
  },
  {
   "cell_type": "markdown",
   "metadata": {},
   "source": [
    "Para iniciar, usa-se uma lista de strings para armazenar os 8 endereços. Após, é preciso escrever um algoritmo que, para cada URL dessa lista, carregue os dados em um único DataFrame. No entanto, antes de desenvolver esse algoritmo, entenda melhor um dos pilares do pensamento computacional.\n",
    "\n",
    "**Você deve lembrar que o reconhecimento de padrões permite identificar situações em que soluções já conhecidas podem ser aplicadas. Então, a diferença entre um programador iniciante e um experiente está na quantidade de repertório de padrões que o segundo é capaz de reconhecer. Existe um problema muito comum em algoritmos, que envolve acumular valores em um processo interativo.**\n",
    "\n",
    "Por exemplo, o seguinte algoritmo que soma os valores de uma lista:"
   ]
  },
  {
   "cell_type": "code",
   "execution_count": 43,
   "metadata": {},
   "outputs": [
    {
     "name": "stdout",
     "output_type": "stream",
     "text": [
      "42\n"
     ]
    }
   ],
   "source": [
    "lista = [4, 8, 10, 20]\n",
    "total = 0\n",
    "for i in lista:\n",
    "    total += i\n",
    "print(total)"
   ]
  },
  {
   "cell_type": "markdown",
   "metadata": {},
   "source": [
    "Para o nosso problema, iremos fazer algo semelhante, contudo, iremos inicializar `df_total` com um DataFrame vazio, ao invés de zero. O valor `i`, nesse caso, será o DataFrame carregado e iremos acumular através da operação `pd.concat( )` em vez da adição. A operação irá gerar o seguinte resultado:"
   ]
  },
  {
   "cell_type": "code",
   "execution_count": 90,
   "metadata": {},
   "outputs": [
    {
     "name": "stdout",
     "output_type": "stream",
     "text": [
      "url: 1: http://dadosabertos.ufma.br/dataset/36d814e1-baa0-466c-86d8-73714c076755/resource/94c390a1-af05-49df-a42c-de11f1187999/download/alunos_ingressantes_-_2018.1.csv\n",
      "url: 2: http://dadosabertos.ufma.br/dataset/36d814e1-baa0-466c-86d8-73714c076755/resource/876d6fe4-a5c1-4252-860e-e878733ae85c/download/alunos_ingressantes_-_2018.2.csv\n",
      "url: 3: http://dadosabertos.ufma.br/dataset/36d814e1-baa0-466c-86d8-73714c076755/resource/75843aa8-951b-464b-8d0e-39fdf62fa79f/download/alunos_ingressantes_-_2019.1.csv\n",
      "url: 4: http://dadosabertos.ufma.br/dataset/36d814e1-baa0-466c-86d8-73714c076755/resource/42226a8b-5ec4-4886-b372-85cbb56d0496/download/alunos_ingressantes_-_2019.2.csv\n",
      "url: 5: http://dadosabertos.ufma.br/dataset/36d814e1-baa0-466c-86d8-73714c076755/resource/573a5221-5228-44ee-8857-f4cc33b1ee6a/download/alunos_ingressantes_-_2020.1.csv\n",
      "url: 6: http://dadosabertos.ufma.br/dataset/36d814e1-baa0-466c-86d8-73714c076755/resource/77ccde1b-7bfe-4342-bcf1-7a5075982d96/download/alunos_ingressantes_-_2020.2.csv\n",
      "url: 7: http://dadosabertos.ufma.br/dataset/36d814e1-baa0-466c-86d8-73714c076755/resource/61fff8f0-4c95-4293-9921-d3a92d09af26/download/alunos_ingressantes_-_2021-1.csv\n",
      "url: 8: http://dadosabertos.ufma.br/dataset/36d814e1-baa0-466c-86d8-73714c076755/resource/b473e197-50e5-4c2d-91ff-8bc2291cd9f3/download/alunos_ingressantes_-_2021.2.csv\n"
     ]
    }
   ],
   "source": [
    "import pandas as pd \n",
    "\n",
    "df_total = pd.DataFrame() # inicializa um dataframe vazio\n",
    "index = 1\n",
    "for url in urls:\n",
    "    print(f\"url: {index}: {url}\") # imprime a url\n",
    "    df = pd.read_csv(url, sep=\";\") # lê o arquivo csv\n",
    "    df_total = pd.concat([df_total, df]) # concatena o dataframe df_total com o dataframe df\n",
    "    index += 1"
   ]
  },
  {
   "cell_type": "markdown",
   "metadata": {},
   "source": [
    "Outro pilar do pensamento computacional é a `abstração`. \n",
    "\n",
    "**A abstração poderia ser usada em qualquer situação em que precisássemos concatenar os dados carregados de uma lista de endereços.**\n",
    "\n",
    "Vamos criar uma função que irá abstrair o carregamento de múltiplos DataFrames. \n",
    "A criação de uma função não irá gerar nenhuma saída. Mas, com essa função criada, podemos adicionar uma nova célula e carregar os dados usando-a. Copie o código dessa função em uma nova célula e a execute."
   ]
  },
  {
   "cell_type": "code",
   "execution_count": 91,
   "metadata": {},
   "outputs": [
    {
     "name": "stdout",
     "output_type": "stream",
     "text": [
      "url: 1: http://dadosabertos.ufma.br/dataset/36d814e1-baa0-466c-86d8-73714c076755/resource/94c390a1-af05-49df-a42c-de11f1187999/download/alunos_ingressantes_-_2018.1.csv\n",
      "url: 2: http://dadosabertos.ufma.br/dataset/36d814e1-baa0-466c-86d8-73714c076755/resource/876d6fe4-a5c1-4252-860e-e878733ae85c/download/alunos_ingressantes_-_2018.2.csv\n",
      "url: 3: http://dadosabertos.ufma.br/dataset/36d814e1-baa0-466c-86d8-73714c076755/resource/75843aa8-951b-464b-8d0e-39fdf62fa79f/download/alunos_ingressantes_-_2019.1.csv\n",
      "url: 4: http://dadosabertos.ufma.br/dataset/36d814e1-baa0-466c-86d8-73714c076755/resource/42226a8b-5ec4-4886-b372-85cbb56d0496/download/alunos_ingressantes_-_2019.2.csv\n",
      "url: 5: http://dadosabertos.ufma.br/dataset/36d814e1-baa0-466c-86d8-73714c076755/resource/573a5221-5228-44ee-8857-f4cc33b1ee6a/download/alunos_ingressantes_-_2020.1.csv\n",
      "url: 6: http://dadosabertos.ufma.br/dataset/36d814e1-baa0-466c-86d8-73714c076755/resource/77ccde1b-7bfe-4342-bcf1-7a5075982d96/download/alunos_ingressantes_-_2020.2.csv\n",
      "url: 7: http://dadosabertos.ufma.br/dataset/36d814e1-baa0-466c-86d8-73714c076755/resource/61fff8f0-4c95-4293-9921-d3a92d09af26/download/alunos_ingressantes_-_2021-1.csv\n",
      "url: 8: http://dadosabertos.ufma.br/dataset/36d814e1-baa0-466c-86d8-73714c076755/resource/b473e197-50e5-4c2d-91ff-8bc2291cd9f3/download/alunos_ingressantes_-_2021.2.csv\n"
     ]
    },
    {
     "data": {
      "text/html": [
       "<div>\n",
       "<style scoped>\n",
       "    .dataframe tbody tr th:only-of-type {\n",
       "        vertical-align: middle;\n",
       "    }\n",
       "\n",
       "    .dataframe tbody tr th {\n",
       "        vertical-align: top;\n",
       "    }\n",
       "\n",
       "    .dataframe thead th {\n",
       "        text-align: right;\n",
       "    }\n",
       "</style>\n",
       "<table border=\"1\" class=\"dataframe\">\n",
       "  <thead>\n",
       "    <tr style=\"text-align: right;\">\n",
       "      <th></th>\n",
       "      <th>municipio</th>\n",
       "      <th>curso</th>\n",
       "      <th>grau</th>\n",
       "      <th>turno</th>\n",
       "      <th>modalidade</th>\n",
       "      <th>nivel</th>\n",
       "      <th>forma_ingresso</th>\n",
       "      <th>ano</th>\n",
       "      <th>periodo</th>\n",
       "      <th>quantidade</th>\n",
       "    </tr>\n",
       "  </thead>\n",
       "  <tbody>\n",
       "    <tr>\n",
       "      <th>0</th>\n",
       "      <td>BACABAL</td>\n",
       "      <td>LETRAS - PORTUGUÊS</td>\n",
       "      <td>LICENCIATURA</td>\n",
       "      <td>Vespertino</td>\n",
       "      <td>Presencial</td>\n",
       "      <td>G</td>\n",
       "      <td>SISU - AMPLA CONCORRÊNCIA</td>\n",
       "      <td>2018.0</td>\n",
       "      <td>1.0</td>\n",
       "      <td>24.0</td>\n",
       "    </tr>\n",
       "    <tr>\n",
       "      <th>1</th>\n",
       "      <td>BACABAL</td>\n",
       "      <td>LETRAS - PORTUGUÊS</td>\n",
       "      <td>LICENCIATURA</td>\n",
       "      <td>Vespertino</td>\n",
       "      <td>Presencial</td>\n",
       "      <td>G</td>\n",
       "      <td>SISU - ESCOLA PÚBLICA</td>\n",
       "      <td>2018.0</td>\n",
       "      <td>1.0</td>\n",
       "      <td>2.0</td>\n",
       "    </tr>\n",
       "    <tr>\n",
       "      <th>2</th>\n",
       "      <td>BACABAL</td>\n",
       "      <td>LETRAS - PORTUGUÊS</td>\n",
       "      <td>LICENCIATURA</td>\n",
       "      <td>Vespertino</td>\n",
       "      <td>Presencial</td>\n",
       "      <td>G</td>\n",
       "      <td>SISU - ESCOLA PUBLICA - DEFICIENTE - RF</td>\n",
       "      <td>2018.0</td>\n",
       "      <td>1.0</td>\n",
       "      <td>1.0</td>\n",
       "    </tr>\n",
       "    <tr>\n",
       "      <th>3</th>\n",
       "      <td>BACABAL</td>\n",
       "      <td>LETRAS - PORTUGUÊS</td>\n",
       "      <td>LICENCIATURA</td>\n",
       "      <td>Vespertino</td>\n",
       "      <td>Presencial</td>\n",
       "      <td>G</td>\n",
       "      <td>SISU - ESCOLA PUBLICA - NEGRO</td>\n",
       "      <td>2018.0</td>\n",
       "      <td>1.0</td>\n",
       "      <td>10.0</td>\n",
       "    </tr>\n",
       "    <tr>\n",
       "      <th>4</th>\n",
       "      <td>BACABAL</td>\n",
       "      <td>LETRAS - PORTUGUÊS</td>\n",
       "      <td>LICENCIATURA</td>\n",
       "      <td>Vespertino</td>\n",
       "      <td>Presencial</td>\n",
       "      <td>G</td>\n",
       "      <td>SISU - ESCOLA PUBLICA - NEGRO - DEFICIENTE - RF</td>\n",
       "      <td>2018.0</td>\n",
       "      <td>1.0</td>\n",
       "      <td>1.0</td>\n",
       "    </tr>\n",
       "  </tbody>\n",
       "</table>\n",
       "</div>"
      ],
      "text/plain": [
       "  municipio               curso          grau       turno  modalidade nivel  \\\n",
       "0   BACABAL  LETRAS - PORTUGUÊS  LICENCIATURA  Vespertino  Presencial     G   \n",
       "1   BACABAL  LETRAS - PORTUGUÊS  LICENCIATURA  Vespertino  Presencial     G   \n",
       "2   BACABAL  LETRAS - PORTUGUÊS  LICENCIATURA  Vespertino  Presencial     G   \n",
       "3   BACABAL  LETRAS - PORTUGUÊS  LICENCIATURA  Vespertino  Presencial     G   \n",
       "4   BACABAL  LETRAS - PORTUGUÊS  LICENCIATURA  Vespertino  Presencial     G   \n",
       "\n",
       "                                    forma_ingresso     ano  periodo  \\\n",
       "0                        SISU - AMPLA CONCORRÊNCIA  2018.0      1.0   \n",
       "1                            SISU - ESCOLA PÚBLICA  2018.0      1.0   \n",
       "2          SISU - ESCOLA PUBLICA - DEFICIENTE - RF  2018.0      1.0   \n",
       "3                    SISU - ESCOLA PUBLICA - NEGRO  2018.0      1.0   \n",
       "4  SISU - ESCOLA PUBLICA - NEGRO - DEFICIENTE - RF  2018.0      1.0   \n",
       "\n",
       "   quantidade  \n",
       "0        24.0  \n",
       "1         2.0  \n",
       "2         1.0  \n",
       "3        10.0  \n",
       "4         1.0  "
      ]
     },
     "execution_count": 91,
     "metadata": {},
     "output_type": "execute_result"
    }
   ],
   "source": [
    "def load_dataframe_by_urls(urls, cols):\n",
    "    df_total = pd.DataFrame() # inicializa um dataframe vazio\n",
    "    index = 1\n",
    "    for url in urls:\n",
    "        print(f\"url: {index}: {url}\") # imprime a url\n",
    "        df = pd.read_csv(url, sep=\";\", usecols=cols) # lê o arquivo csv\n",
    "        df_total = pd.concat([df_total, df]) # concatena o dataframe df_total com o dataframe df\n",
    "        index += 1\n",
    "    return df_total\n",
    "\n",
    "df_ingressantes = load_dataframe_by_urls(urls, colunas)\n",
    "df_ingressantes.head()"
   ]
  },
  {
   "cell_type": "markdown",
   "metadata": {},
   "source": [
    "Usando compreensão de listas, poderíamos evitar a necessidade da iteração e da função anterior, colocando tudo em duas linhas:"
   ]
  },
  {
   "cell_type": "code",
   "execution_count": 92,
   "metadata": {},
   "outputs": [
    {
     "data": {
      "text/html": [
       "<div>\n",
       "<style scoped>\n",
       "    .dataframe tbody tr th:only-of-type {\n",
       "        vertical-align: middle;\n",
       "    }\n",
       "\n",
       "    .dataframe tbody tr th {\n",
       "        vertical-align: top;\n",
       "    }\n",
       "\n",
       "    .dataframe thead th {\n",
       "        text-align: right;\n",
       "    }\n",
       "</style>\n",
       "<table border=\"1\" class=\"dataframe\">\n",
       "  <thead>\n",
       "    <tr style=\"text-align: right;\">\n",
       "      <th></th>\n",
       "      <th>municipio</th>\n",
       "      <th>curso</th>\n",
       "      <th>grau</th>\n",
       "      <th>turno</th>\n",
       "      <th>modalidade</th>\n",
       "      <th>nivel</th>\n",
       "      <th>forma_ingresso</th>\n",
       "      <th>ano</th>\n",
       "      <th>periodo</th>\n",
       "      <th>quantidade</th>\n",
       "    </tr>\n",
       "  </thead>\n",
       "  <tbody>\n",
       "    <tr>\n",
       "      <th>0</th>\n",
       "      <td>BACABAL</td>\n",
       "      <td>LETRAS - PORTUGUÊS</td>\n",
       "      <td>LICENCIATURA</td>\n",
       "      <td>Vespertino</td>\n",
       "      <td>Presencial</td>\n",
       "      <td>G</td>\n",
       "      <td>SISU - AMPLA CONCORRÊNCIA</td>\n",
       "      <td>2018.0</td>\n",
       "      <td>1.0</td>\n",
       "      <td>24.0</td>\n",
       "    </tr>\n",
       "    <tr>\n",
       "      <th>1</th>\n",
       "      <td>BACABAL</td>\n",
       "      <td>LETRAS - PORTUGUÊS</td>\n",
       "      <td>LICENCIATURA</td>\n",
       "      <td>Vespertino</td>\n",
       "      <td>Presencial</td>\n",
       "      <td>G</td>\n",
       "      <td>SISU - ESCOLA PÚBLICA</td>\n",
       "      <td>2018.0</td>\n",
       "      <td>1.0</td>\n",
       "      <td>2.0</td>\n",
       "    </tr>\n",
       "    <tr>\n",
       "      <th>2</th>\n",
       "      <td>BACABAL</td>\n",
       "      <td>LETRAS - PORTUGUÊS</td>\n",
       "      <td>LICENCIATURA</td>\n",
       "      <td>Vespertino</td>\n",
       "      <td>Presencial</td>\n",
       "      <td>G</td>\n",
       "      <td>SISU - ESCOLA PUBLICA - DEFICIENTE - RF</td>\n",
       "      <td>2018.0</td>\n",
       "      <td>1.0</td>\n",
       "      <td>1.0</td>\n",
       "    </tr>\n",
       "    <tr>\n",
       "      <th>3</th>\n",
       "      <td>BACABAL</td>\n",
       "      <td>LETRAS - PORTUGUÊS</td>\n",
       "      <td>LICENCIATURA</td>\n",
       "      <td>Vespertino</td>\n",
       "      <td>Presencial</td>\n",
       "      <td>G</td>\n",
       "      <td>SISU - ESCOLA PUBLICA - NEGRO</td>\n",
       "      <td>2018.0</td>\n",
       "      <td>1.0</td>\n",
       "      <td>10.0</td>\n",
       "    </tr>\n",
       "    <tr>\n",
       "      <th>4</th>\n",
       "      <td>BACABAL</td>\n",
       "      <td>LETRAS - PORTUGUÊS</td>\n",
       "      <td>LICENCIATURA</td>\n",
       "      <td>Vespertino</td>\n",
       "      <td>Presencial</td>\n",
       "      <td>G</td>\n",
       "      <td>SISU - ESCOLA PUBLICA - NEGRO - DEFICIENTE - RF</td>\n",
       "      <td>2018.0</td>\n",
       "      <td>1.0</td>\n",
       "      <td>1.0</td>\n",
       "    </tr>\n",
       "  </tbody>\n",
       "</table>\n",
       "</div>"
      ],
      "text/plain": [
       "  municipio               curso          grau       turno  modalidade nivel  \\\n",
       "0   BACABAL  LETRAS - PORTUGUÊS  LICENCIATURA  Vespertino  Presencial     G   \n",
       "1   BACABAL  LETRAS - PORTUGUÊS  LICENCIATURA  Vespertino  Presencial     G   \n",
       "2   BACABAL  LETRAS - PORTUGUÊS  LICENCIATURA  Vespertino  Presencial     G   \n",
       "3   BACABAL  LETRAS - PORTUGUÊS  LICENCIATURA  Vespertino  Presencial     G   \n",
       "4   BACABAL  LETRAS - PORTUGUÊS  LICENCIATURA  Vespertino  Presencial     G   \n",
       "\n",
       "                                    forma_ingresso     ano  periodo  \\\n",
       "0                        SISU - AMPLA CONCORRÊNCIA  2018.0      1.0   \n",
       "1                            SISU - ESCOLA PÚBLICA  2018.0      1.0   \n",
       "2          SISU - ESCOLA PUBLICA - DEFICIENTE - RF  2018.0      1.0   \n",
       "3                    SISU - ESCOLA PUBLICA - NEGRO  2018.0      1.0   \n",
       "4  SISU - ESCOLA PUBLICA - NEGRO - DEFICIENTE - RF  2018.0      1.0   \n",
       "\n",
       "   quantidade  \n",
       "0        24.0  \n",
       "1         2.0  \n",
       "2         1.0  \n",
       "3        10.0  \n",
       "4         1.0  "
      ]
     },
     "execution_count": 92,
     "metadata": {},
     "output_type": "execute_result"
    }
   ],
   "source": [
    "dfs = [pd.read_csv(url, sep=\";\", usecols=colunas) for url in urls]\n",
    "df_final = pd.concat(dfs)\n",
    "df_final.head()"
   ]
  },
  {
   "cell_type": "markdown",
   "metadata": {},
   "source": [
    "Neste módulo não discutimos a compreensão de listas por não ser um tópico obrigatório para começarmos em análise de dados. Contudo, esse conceito pode ser bastante útil à medida que você avançar nos seus estudos. O seguinte post pode ajudar nesse início  \n",
    "https://pythonacademy.com.br/blog/list-comprehensions-no-python  \n",
    "e também o livro aberto:  \n",
    "https://panda.ime.usp.br/panda/static/pensepy/09-Listas/listas.html#list-comprehensions  "
   ]
  },
  {
   "cell_type": "markdown",
   "metadata": {},
   "source": [
    "Antes de avançar, confirme se os dados foram carregados como esperado."
   ]
  },
  {
   "cell_type": "code",
   "execution_count": 93,
   "metadata": {},
   "outputs": [
    {
     "name": "stdout",
     "output_type": "stream",
     "text": [
      "<class 'pandas.core.frame.DataFrame'>\n",
      "Index: 3421 entries, 0 to 427\n",
      "Data columns (total 10 columns):\n",
      " #   Column          Non-Null Count  Dtype  \n",
      "---  ------          --------------  -----  \n",
      " 0   municipio       3421 non-null   object \n",
      " 1   curso           3421 non-null   object \n",
      " 2   grau            3421 non-null   object \n",
      " 3   turno           3421 non-null   object \n",
      " 4   modalidade      3421 non-null   object \n",
      " 5   nivel           3421 non-null   object \n",
      " 6   forma_ingresso  3421 non-null   object \n",
      " 7   ano             3420 non-null   float64\n",
      " 8   periodo         3420 non-null   float64\n",
      " 9   quantidade      3420 non-null   float64\n",
      "dtypes: float64(3), object(7)\n",
      "memory usage: 294.0+ KB\n"
     ]
    }
   ],
   "source": [
    "df_ingressantes.info()"
   ]
  },
  {
   "cell_type": "markdown",
   "metadata": {},
   "source": [
    "Com relação à quantidade de entradas, é esperado que sejam carregadas 3421 linhas com 10 colunas. Para as colunas ano, período e quantidade foram carregados 3420 valores não nulos, indicando que temos um valor nulo nessas colunas. Podemos confirmar a quantidade de valores nulos com o seguinte script:"
   ]
  },
  {
   "cell_type": "code",
   "execution_count": 94,
   "metadata": {},
   "outputs": [
    {
     "data": {
      "text/plain": [
       "1"
      ]
     },
     "execution_count": 94,
     "metadata": {},
     "output_type": "execute_result"
    }
   ],
   "source": [
    "df_ingressantes['ano'].isna().sum()"
   ]
  },
  {
   "cell_type": "markdown",
   "metadata": {},
   "source": [
    "Podemos remover esse valor diretamente no DataFrame usando o método `.dropna()` e o parâmetro `inplace` com valor verdadeiro `True`. Esse parâmetro indica que a mudança deverá ser feita diretamente no DataFrame. Ao executar novamente o método `.info()`, veremos que temos agora 3420 entradas para todas as colunas. \n"
   ]
  },
  {
   "cell_type": "code",
   "execution_count": 95,
   "metadata": {},
   "outputs": [
    {
     "name": "stdout",
     "output_type": "stream",
     "text": [
      "<class 'pandas.core.frame.DataFrame'>\n",
      "Index: 3420 entries, 0 to 427\n",
      "Data columns (total 10 columns):\n",
      " #   Column          Non-Null Count  Dtype  \n",
      "---  ------          --------------  -----  \n",
      " 0   municipio       3420 non-null   object \n",
      " 1   curso           3420 non-null   object \n",
      " 2   grau            3420 non-null   object \n",
      " 3   turno           3420 non-null   object \n",
      " 4   modalidade      3420 non-null   object \n",
      " 5   nivel           3420 non-null   object \n",
      " 6   forma_ingresso  3420 non-null   object \n",
      " 7   ano             3420 non-null   float64\n",
      " 8   periodo         3420 non-null   float64\n",
      " 9   quantidade      3420 non-null   float64\n",
      "dtypes: float64(3), object(7)\n",
      "memory usage: 293.9+ KB\n"
     ]
    }
   ],
   "source": [
    "df_ingressantes.dropna(inplace=True)\n",
    "df_ingressantes.info()"
   ]
  },
  {
   "cell_type": "markdown",
   "metadata": {},
   "source": [
    "Contudo, as colunas ano, período e quantidade foram carregados como `float64` em vez de `int32`. Em casos similares a esse, podemos converter o tipo de dados das colunas através do método `.astype()`. Este método recebe um dicionário em que a chaves são as colunas e os valores são os tipos de dados para os quais desejamos converter. Em seguida, para ter certeza de que os dados foram convertidos corretamente, execute novamente o método `.info()` e verifique se a saída está correta antes de continuar."
   ]
  },
  {
   "cell_type": "code",
   "execution_count": 96,
   "metadata": {},
   "outputs": [
    {
     "name": "stdout",
     "output_type": "stream",
     "text": [
      "<class 'pandas.core.frame.DataFrame'>\n",
      "Index: 3420 entries, 0 to 427\n",
      "Data columns (total 10 columns):\n",
      " #   Column          Non-Null Count  Dtype \n",
      "---  ------          --------------  ----- \n",
      " 0   municipio       3420 non-null   object\n",
      " 1   curso           3420 non-null   object\n",
      " 2   grau            3420 non-null   object\n",
      " 3   turno           3420 non-null   object\n",
      " 4   modalidade      3420 non-null   object\n",
      " 5   nivel           3420 non-null   object\n",
      " 6   forma_ingresso  3420 non-null   object\n",
      " 7   ano             3420 non-null   int32 \n",
      " 8   periodo         3420 non-null   int32 \n",
      " 9   quantidade      3420 non-null   int32 \n",
      "dtypes: int32(3), object(7)\n",
      "memory usage: 253.8+ KB\n"
     ]
    }
   ],
   "source": [
    "df_ingressantes = df_ingressantes.astype({'ano': 'int32', 'quantidade': 'int32', 'periodo': 'int32'})\n",
    "df_ingressantes.info()"
   ]
  },
  {
   "cell_type": "markdown",
   "metadata": {},
   "source": [
    "Quando olhamos o dado de um semestre, observamos que existem casos em que o mesmo curso é ofertado em diferentes municípios e turnos. Um exemplo é o curso “Ciência e Tecnologia” , ofertado em dois turnos em São Luís e um turno em Balsas, cada oferta com diferentes formas de ingresso. Para facilitar essa distinção, vamos criar uma coluna que terá o nome do município e o turno para compor o nome do curso:"
   ]
  },
  {
   "cell_type": "code",
   "execution_count": 97,
   "metadata": {},
   "outputs": [
    {
     "data": {
      "text/plain": [
       "0      LETRAS - PORTUGUÊS - BACABAL - Vespertino\n",
       "1      LETRAS - PORTUGUÊS - BACABAL - Vespertino\n",
       "2      LETRAS - PORTUGUÊS - BACABAL - Vespertino\n",
       "3      LETRAS - PORTUGUÊS - BACABAL - Vespertino\n",
       "4      LETRAS - PORTUGUÊS - BACABAL - Vespertino\n",
       "                         ...                    \n",
       "423                TURISMO - SÃO LUÍS - Matutino\n",
       "424                TURISMO - SÃO LUÍS - Matutino\n",
       "425                TURISMO - SÃO LUÍS - Matutino\n",
       "426                TURISMO - SÃO LUÍS - Matutino\n",
       "427                TURISMO - SÃO LUÍS - Matutino\n",
       "Name: nome_completo, Length: 3420, dtype: object"
      ]
     },
     "execution_count": 97,
     "metadata": {},
     "output_type": "execute_result"
    }
   ],
   "source": [
    "df_ingressantes['nome_completo'] = df_ingressantes['curso'] + ' - ' + df_ingressantes['municipio'] + ' - ' + df_ingressantes['turno']\n",
    "df_ingressantes['nome_completo']"
   ]
  },
  {
   "cell_type": "code",
   "execution_count": 98,
   "metadata": {},
   "outputs": [
    {
     "name": "stdout",
     "output_type": "stream",
     "text": [
      "<class 'pandas.core.frame.DataFrame'>\n",
      "Index: 3420 entries, 0 to 427\n",
      "Data columns (total 11 columns):\n",
      " #   Column          Non-Null Count  Dtype \n",
      "---  ------          --------------  ----- \n",
      " 0   municipio       3420 non-null   object\n",
      " 1   curso           3420 non-null   object\n",
      " 2   grau            3420 non-null   object\n",
      " 3   turno           3420 non-null   object\n",
      " 4   modalidade      3420 non-null   object\n",
      " 5   nivel           3420 non-null   object\n",
      " 6   forma_ingresso  3420 non-null   object\n",
      " 7   ano             3420 non-null   int32 \n",
      " 8   periodo         3420 non-null   int32 \n",
      " 9   quantidade      3420 non-null   int32 \n",
      " 10  nome_completo   3420 non-null   object\n",
      "dtypes: int32(3), object(8)\n",
      "memory usage: 280.5+ KB\n"
     ]
    }
   ],
   "source": [
    "df_ingressantes.info()"
   ]
  },
  {
   "cell_type": "markdown",
   "metadata": {},
   "source": [
    "Assim, o valor dessa nova coluna será distinto para cada oferta. Além disso, iremos incluir apenas os dados de cursos presenciais nessa análise. Para isso, adicione e execute o seguinte script em uma nova célula:"
   ]
  },
  {
   "cell_type": "code",
   "execution_count": 99,
   "metadata": {},
   "outputs": [
    {
     "data": {
      "text/html": [
       "<div>\n",
       "<style scoped>\n",
       "    .dataframe tbody tr th:only-of-type {\n",
       "        vertical-align: middle;\n",
       "    }\n",
       "\n",
       "    .dataframe tbody tr th {\n",
       "        vertical-align: top;\n",
       "    }\n",
       "\n",
       "    .dataframe thead th {\n",
       "        text-align: right;\n",
       "    }\n",
       "</style>\n",
       "<table border=\"1\" class=\"dataframe\">\n",
       "  <thead>\n",
       "    <tr style=\"text-align: right;\">\n",
       "      <th></th>\n",
       "      <th>municipio</th>\n",
       "      <th>curso</th>\n",
       "      <th>grau</th>\n",
       "      <th>turno</th>\n",
       "      <th>modalidade</th>\n",
       "      <th>nivel</th>\n",
       "      <th>forma_ingresso</th>\n",
       "      <th>ano</th>\n",
       "      <th>periodo</th>\n",
       "      <th>quantidade</th>\n",
       "      <th>nome_completo</th>\n",
       "    </tr>\n",
       "  </thead>\n",
       "  <tbody>\n",
       "    <tr>\n",
       "      <th>0</th>\n",
       "      <td>BACABAL</td>\n",
       "      <td>LETRAS - PORTUGUÊS</td>\n",
       "      <td>LICENCIATURA</td>\n",
       "      <td>Vespertino</td>\n",
       "      <td>Presencial</td>\n",
       "      <td>G</td>\n",
       "      <td>SISU - AMPLA CONCORRÊNCIA</td>\n",
       "      <td>2018</td>\n",
       "      <td>1</td>\n",
       "      <td>24</td>\n",
       "      <td>LETRAS - PORTUGUÊS - BACABAL - Vespertino</td>\n",
       "    </tr>\n",
       "    <tr>\n",
       "      <th>1</th>\n",
       "      <td>BACABAL</td>\n",
       "      <td>LETRAS - PORTUGUÊS</td>\n",
       "      <td>LICENCIATURA</td>\n",
       "      <td>Vespertino</td>\n",
       "      <td>Presencial</td>\n",
       "      <td>G</td>\n",
       "      <td>SISU - ESCOLA PÚBLICA</td>\n",
       "      <td>2018</td>\n",
       "      <td>1</td>\n",
       "      <td>2</td>\n",
       "      <td>LETRAS - PORTUGUÊS - BACABAL - Vespertino</td>\n",
       "    </tr>\n",
       "    <tr>\n",
       "      <th>2</th>\n",
       "      <td>BACABAL</td>\n",
       "      <td>LETRAS - PORTUGUÊS</td>\n",
       "      <td>LICENCIATURA</td>\n",
       "      <td>Vespertino</td>\n",
       "      <td>Presencial</td>\n",
       "      <td>G</td>\n",
       "      <td>SISU - ESCOLA PUBLICA - DEFICIENTE - RF</td>\n",
       "      <td>2018</td>\n",
       "      <td>1</td>\n",
       "      <td>1</td>\n",
       "      <td>LETRAS - PORTUGUÊS - BACABAL - Vespertino</td>\n",
       "    </tr>\n",
       "    <tr>\n",
       "      <th>3</th>\n",
       "      <td>BACABAL</td>\n",
       "      <td>LETRAS - PORTUGUÊS</td>\n",
       "      <td>LICENCIATURA</td>\n",
       "      <td>Vespertino</td>\n",
       "      <td>Presencial</td>\n",
       "      <td>G</td>\n",
       "      <td>SISU - ESCOLA PUBLICA - NEGRO</td>\n",
       "      <td>2018</td>\n",
       "      <td>1</td>\n",
       "      <td>10</td>\n",
       "      <td>LETRAS - PORTUGUÊS - BACABAL - Vespertino</td>\n",
       "    </tr>\n",
       "    <tr>\n",
       "      <th>4</th>\n",
       "      <td>BACABAL</td>\n",
       "      <td>LETRAS - PORTUGUÊS</td>\n",
       "      <td>LICENCIATURA</td>\n",
       "      <td>Vespertino</td>\n",
       "      <td>Presencial</td>\n",
       "      <td>G</td>\n",
       "      <td>SISU - ESCOLA PUBLICA - NEGRO - DEFICIENTE - RF</td>\n",
       "      <td>2018</td>\n",
       "      <td>1</td>\n",
       "      <td>1</td>\n",
       "      <td>LETRAS - PORTUGUÊS - BACABAL - Vespertino</td>\n",
       "    </tr>\n",
       "  </tbody>\n",
       "</table>\n",
       "</div>"
      ],
      "text/plain": [
       "  municipio               curso          grau       turno  modalidade nivel  \\\n",
       "0   BACABAL  LETRAS - PORTUGUÊS  LICENCIATURA  Vespertino  Presencial     G   \n",
       "1   BACABAL  LETRAS - PORTUGUÊS  LICENCIATURA  Vespertino  Presencial     G   \n",
       "2   BACABAL  LETRAS - PORTUGUÊS  LICENCIATURA  Vespertino  Presencial     G   \n",
       "3   BACABAL  LETRAS - PORTUGUÊS  LICENCIATURA  Vespertino  Presencial     G   \n",
       "4   BACABAL  LETRAS - PORTUGUÊS  LICENCIATURA  Vespertino  Presencial     G   \n",
       "\n",
       "                                    forma_ingresso   ano  periodo  quantidade  \\\n",
       "0                        SISU - AMPLA CONCORRÊNCIA  2018        1          24   \n",
       "1                            SISU - ESCOLA PÚBLICA  2018        1           2   \n",
       "2          SISU - ESCOLA PUBLICA - DEFICIENTE - RF  2018        1           1   \n",
       "3                    SISU - ESCOLA PUBLICA - NEGRO  2018        1          10   \n",
       "4  SISU - ESCOLA PUBLICA - NEGRO - DEFICIENTE - RF  2018        1           1   \n",
       "\n",
       "                               nome_completo  \n",
       "0  LETRAS - PORTUGUÊS - BACABAL - Vespertino  \n",
       "1  LETRAS - PORTUGUÊS - BACABAL - Vespertino  \n",
       "2  LETRAS - PORTUGUÊS - BACABAL - Vespertino  \n",
       "3  LETRAS - PORTUGUÊS - BACABAL - Vespertino  \n",
       "4  LETRAS - PORTUGUÊS - BACABAL - Vespertino  "
      ]
     },
     "execution_count": 99,
     "metadata": {},
     "output_type": "execute_result"
    }
   ],
   "source": [
    "df_presencial = df_ingressantes.query(\"modalidade == 'Presencial'\")\n",
    "df_presencial.head()"
   ]
  },
  {
   "cell_type": "markdown",
   "metadata": {},
   "source": [
    "Com os dados preparados, podemos calcular a média de ingressantes, como proposto no início desta seção. Nesse ponto, você já deve imaginar que vamos usar a função `groupby()` e, na agregação, calcular a média com a função `mean()`. Logo, podemos tentar algo como:"
   ]
  },
  {
   "cell_type": "code",
   "execution_count": 100,
   "metadata": {},
   "outputs": [
    {
     "data": {
      "text/plain": [
       "nome_completo\n",
       "ADMINISTRAÇÃO - SÃO LUÍS - Matutino                         6.535714\n",
       "AGRONOMIA - CHAPADINHA - Matutino e Vespertino              6.578947\n",
       "ARTES VISUAIS - SÃO LUÍS - Matutino                         4.512821\n",
       "BIBLIOTECONOMIA - SÃO LUÍS - Matutino                       6.568627\n",
       "CIÊNCIA DA COMPUTAÇÃO - SÃO LUÍS - Vespertino               6.760000\n",
       "CIÊNCIA DA COMPUTAÇÃO - SÃO LUÍS - Vespertino e Noturno     6.407407\n",
       "CIÊNCIA E TECNOLOGIA - BALSAS - Matutino                    6.714286\n",
       "CIÊNCIA E TECNOLOGIA - BALSAS - Noturno                     7.047619\n",
       "CIÊNCIA E TECNOLOGIA - SÃO LUÍS - Matutino                 15.271186\n",
       "CIÊNCIA E TECNOLOGIA - SÃO LUÍS - Noturno                  13.075758\n",
       "Name: quantidade, dtype: float64"
      ]
     },
     "execution_count": 100,
     "metadata": {},
     "output_type": "execute_result"
    }
   ],
   "source": [
    "df_presencial.groupby('nome_completo')['quantidade'].mean().head(10)"
   ]
  },
  {
   "cell_type": "markdown",
   "metadata": {},
   "source": [
    "Olhando o resultado, parece estranho haver cursos com média de alunos abaixo de 10. Outro ponto que chama atenção é o curso Ciência e Tecnologia estar com uma média de 15 alunos. Para quem conhece a Universidade, sabe que esse curso abre semestralmente 120 vagas em cada turno.\n",
    "Tente refletir na solução. Já refletiu? Vamos seguir para saber se você identificou o mesmo problema e chegou à mesma solução."
   ]
  },
  {
   "cell_type": "markdown",
   "metadata": {},
   "source": [
    "Quando precisamos desenvolver algoritmos mais complexos, pode ser necessário fazer um rascunho antes de começar a escrevê-los. Convido você a fazer um rascunho desses algoritmos antes de ver a solução.\n",
    "\n",
    "Em alto nível, temos o seguinte algoritmo:\n",
    "1. Agrupar os cursos por ano e semestre;\n",
    "2. Para cada curso, somar a quantidade de ingressantes, para obter a quantidade de ingressantes no semestre – neste passo, somaremos a quantidade de ingressantes das distintas formas de ingresso;\n",
    "3. Tendo a quantidade de ingressantes por semestre, \n",
    "agrupe-os para calcular a média do curso; \n",
    "4. Ordenar de modo decrescente e listar os 10 cursos \n",
    "com maior quantidade de ingressantes."
   ]
  },
  {
   "cell_type": "markdown",
   "metadata": {},
   "source": [
    "Para esse problema, iremos salvar alguns resultados intermediários para que possamos compreender melhor o efeito dessas operações. Vamos executar e visualizar a saída para os dois primeiros passos:"
   ]
  },
  {
   "cell_type": "code",
   "execution_count": 101,
   "metadata": {},
   "outputs": [
    {
     "data": {
      "text/plain": [
       "nome_completo                                   ano   periodo\n",
       "ADMINISTRAÇÃO - SÃO LUÍS - Matutino             2018  1          45\n",
       "                                                      2          55\n",
       "                                                2019  1          47\n",
       "                                                      2          46\n",
       "                                                2020  1          36\n",
       "                                                      2          41\n",
       "                                                2021  1          49\n",
       "                                                      2          47\n",
       "AGRONOMIA - CHAPADINHA - Matutino e Vespertino  2018  1          38\n",
       "                                                      2          33\n",
       "Name: quantidade, dtype: int32"
      ]
     },
     "execution_count": 101,
     "metadata": {},
     "output_type": "execute_result"
    }
   ],
   "source": [
    "grupo = ['nome_completo', 'ano', 'periodo']\n",
    "df_por_semestre = df_presencial.groupby(grupo)['quantidade'].sum()\n",
    "df_por_semestre.head(10)"
   ]
  },
  {
   "cell_type": "markdown",
   "metadata": {},
   "source": [
    "Observe que, para cada curso, teremos a quantidade de ingressantes por semestre (ano e período). Agora, podemos agrupar por nome e calcular a média de todos os semestres. Em seguida, poderemos ordenar de modo decrescente e listar os 10 cursos com maior quantidade de ingressantes:"
   ]
  },
  {
   "cell_type": "code",
   "execution_count": 103,
   "metadata": {},
   "outputs": [
    {
     "data": {
      "text/plain": [
       "nome_completo\n",
       "CIÊNCIA E TECNOLOGIA - SÃO LUÍS - Matutino                      112.625\n",
       "CIÊNCIA E TECNOLOGIA - SÃO LUÍS - Noturno                       107.875\n",
       "PEDAGOGIA - GRAJAÚ - Matutino e Vespertino                       84.000\n",
       "PEDAGOGIA - LAGO DA PEDRA - Matutino e Vespertino                70.000\n",
       "HISTÓRIA - LAGO DO JUNCO - Matutino e Vespertino                 60.000\n",
       "PEDAGOGIA - LAGOA GRANDE DO MARANHÃO - Matutino e Vespertino     59.000\n",
       "PEDAGOGIA - BURITI BRAVO - Matutino e Vespertino                 59.000\n",
       "PEDAGOGIA - URBANO SANTOS - Matutino e Vespertino                58.000\n",
       "CIÊNCIAS NATURAIS - BIOLOGIA - PINHEIRO - Noturno                57.750\n",
       "CIÊNCIAS HUMANAS - SOCIOLOGIA - SÃO BERNARDO - Noturno           57.500\n",
       "Name: quantidade, dtype: float64"
      ]
     },
     "execution_count": 103,
     "metadata": {},
     "output_type": "execute_result"
    }
   ],
   "source": [
    "media_por_curso = df_por_semestre.groupby('nome_completo').mean()\n",
    "media_por_curso.sort_values(ascending=False).head(10)"
   ]
  },
  {
   "cell_type": "markdown",
   "metadata": {},
   "source": [
    "Além de visualizar os cursos com maior média, podemos listar aqueles com as menores médias de ingressantes. Para listar os 10 cursos com menor média de quantidade de ingressantes, basta ordenar de modo ascendente:"
   ]
  },
  {
   "cell_type": "code",
   "execution_count": 104,
   "metadata": {},
   "outputs": [
    {
     "data": {
      "text/plain": [
       "nome_completo\n",
       "GEOGRAFIA - MARACAÇUMÉ - Matutino e Vespertino                            1.000\n",
       "ENGENHARIA ELÉTRICA - BALSAS - Vespertino e Noturno                       1.000\n",
       "ENGENHARIA AMBIENTAL - BALSAS - Vespertino e Noturno                      3.000\n",
       "CIÊNCIAS EXATAS - CENTRAL DO MARANHÃO - Matutino, Vespertino e Noturno    3.000\n",
       "ENGENHARIA AEROESPACIAL - SÃO LUÍS - Noturno                              4.000\n",
       "ENGENHARIA MECÂNICA - SÃO LUÍS - Matutino e Vespertino                    5.375\n",
       "MÚSICA - SÃO LUÍS - Matutino e Vespertino                                 6.000\n",
       "ENGENHARIA AMBIENTAL E SANITÁRIA - SÃO LUÍS - Matutino e Vespertino       7.375\n",
       "CIÊNCIAS EXATAS - PINDARÉ-MIRIM - Matutino, Vespertino e Noturno          9.000\n",
       "LETRAS - FRANCÊS - SÃO LUÍS - Matutino                                    9.375\n",
       "Name: quantidade, dtype: float64"
      ]
     },
     "execution_count": 104,
     "metadata": {},
     "output_type": "execute_result"
    }
   ],
   "source": [
    "media_por_curso.sort_values(ascending=True).head(10)"
   ]
  },
  {
   "cell_type": "markdown",
   "metadata": {},
   "source": [
    "Convido você a seguir fazendo novas perguntas, por exemplo: poderíamos incluir apenas os cursos cujo ingresso tenha sido feito via SISU? Mas isso é só um exemplo. Continue explorando esses dados e busque outros dados no portal da UFMA e de outras fontes. "
   ]
  },
  {
   "cell_type": "markdown",
   "metadata": {},
   "source": [
    "# Resumo"
   ]
  },
  {
   "cell_type": "markdown",
   "metadata": {},
   "source": [
    "- Aprendeu sobre o formato CSV (Comma Separated Values) e como é possível carregar dados a partir deles.\n",
    "- Viu como lidar com dados faltantes e com erros.\n",
    "- Consolidou alguns dos pilares do pensamento computacional para conseguir solucionar os problemas propostos.\n",
    "  \n",
    "- Observou aplicações para as estruturas de dados básicas apresentadas na primeira unidade, por exemplo, listas e dicionários.\n",
    "- Usou o conhecimento sobre controle de fluxo para criar um script que carregava e concatenava dados de diferentes arquivos e depois o transformou em uma abstração. \n",
    "- Com a abstração criada, pôde tirar diversas informações sobre o ingresso nos cursos da Universidade Federal do Maranhão.\n",
    "- Por fim, todo esse caminhar permitiu consolidar os conhecimentos adquiridos na primeira e segunda unidades. Você está agora preparados para os próximos módulos!\n",
    "\n"
   ]
  },
  {
   "cell_type": "markdown",
   "metadata": {},
   "source": [
    "# Referências"
   ]
  },
  {
   "cell_type": "markdown",
   "metadata": {},
   "source": [
    "MCKINNEY, Wes. **Python for data analysis**. \" O'Reilly Media, Inc.\", 2013.\n",
    "\n",
    "MUELLER, John Paul; MASSARON, Luca. **Python for data science for dummies**. John Wiley & Sons, 2019.\n",
    "\n",
    "YIM, Aldrin; CHUNG, Claire; YU, Allen. **Matplotlib for Python Developers: Effective techniques for data visualization with Python**. Packt Publishing Ltd, 2018."
   ]
  }
 ],
 "metadata": {
  "kernelspec": {
   "display_name": "moda",
   "language": "python",
   "name": "python3"
  },
  "language_info": {
   "codemirror_mode": {
    "name": "ipython",
    "version": 3
   },
   "file_extension": ".py",
   "mimetype": "text/x-python",
   "name": "python",
   "nbconvert_exporter": "python",
   "pygments_lexer": "ipython3",
   "version": "3.9.17"
  }
 },
 "nbformat": 4,
 "nbformat_minor": 2
}
