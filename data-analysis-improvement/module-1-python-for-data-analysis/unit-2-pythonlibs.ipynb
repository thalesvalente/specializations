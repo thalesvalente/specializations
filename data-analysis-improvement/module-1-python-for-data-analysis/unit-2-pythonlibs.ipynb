{
 "cells": [
  {
   "cell_type": "markdown",
   "metadata": {},
   "source": [
    "<a href=\"https://github.com/thalesvalente/specializations/blob/main/data-analysis-improvement/module-1-python-for-data-analysis/unit-2-pythonlibs.ipynb\" target=\"_parent\"><img src=\"https://colab.research.google.com/assets/colab-badge.svg\" alt=\"Open In Colab\"/></a>"
   ]
  },
  {
   "cell_type": "markdown",
   "metadata": {},
   "source": [
    "# 1. Bibliotecas Python para ciência de dados"
   ]
  },
  {
   "cell_type": "markdown",
   "metadata": {},
   "source": [
    "Olá, estudante!\n",
    "\n",
    "A ciência de dados emergiu como um campo crucial para obter insights significativos e tomar decisões informadas a partir de grandes volumes de dados. Organizações de diversos setores, incluindo saúde, finanças, marketing e tecnologia, utilizam a ciência de dados para melhorar suas operações, otimizar o desempenho e obter vantagem competitiva. A capacidade de manusear e interpretar dados de forma eficaz tornou-se uma habilidade crítica na força de trabalho moderna, tornando a ciência de dados uma ferramenta indispensável para a inovação e o progresso.\n",
    "\n",
    "No notebook anterior vimos que o poder das linguagens de programação nos traz:\n",
    "- **Eficiência Melhorada**: Comparado ao uso de interfaces gráficas, scripts podem ser reutilizados para executar tarefas automaticamente, economizando tempo e aumentando a precisão.\n",
    "- **Adaptabilidade**: Scripts podem ser adaptados para diferentes conjuntos de dados, mostrando a flexibilidade da programação.\n",
    "- **Reuso**: Scripts podem ser reutilizados inúmeras vezes para realizar a mesma tarefa automaticamente. Isso não só economiza tempo mas também aumenta a precisão do nosso trabalho. \n",
    "\n",
    "Vimos que a Linguagem de Programação Python é conhecida por seu extenso ecossistema de bibliotecas que facilitam a manipulação, análise e visualização de dados. Exploraremos três das principais bibliotecas utilizadas para iniciar em análise de dados. São elas:\n",
    "- **NumPy**\n",
    "    - **Arrays Multidimensionais**\n",
    "        - **Eficiência Espacial**: NumPy oferece estruturas de dados de array multidimensional (`ndarray`) que são rápidas e eficientes em termos de espaço, permitindo operações complexas em grandes volumes de dados.\n",
    "        - **Operações Matemáticas Avançadas**: NumPy suporta uma ampla gama de operações matemáticas padrão sem a necessidade de escrever loops em Python, o que melhora significativamente a performance e a legibilidade do código.\n",
    "    - **Funções Matemáticas**\n",
    "        - **Sem Loops Explícitos**: Com NumPy, você pode aplicar funções matemáticas diretamente nos arrays, o que elimina a necessidade de loops tradicionais em Python, tornando o código mais limpo e rápido.\n",
    "    - **Leitura/Escrita de Dados**\n",
    "        - **Manipulação de Arquivos**: NumPy fornece ferramentas para a leitura e escrita eficiente de dados de e para arrays, facilitando a integração com diversos formatos de dados.\n",
    "    - **Álgebra Linear e Números Aleatórios**\n",
    "        - **Ferramentas de Álgebra Linear**: NumPy vem equipado com funções para realizar cálculos de álgebra linear, como inversões de matrizes, decomposições, e outras operações matriciais.\n",
    "        - **Geração de Números Aleatórios**: A biblioteca inclui mecanismos para gerar números aleatórios, essenciais para muitas aplicações em ciência de dados e simulações.\n",
    "    - **Integração com Código de Baixo Nível**\n",
    "        - **Compatibilidade com C, C++ e Fortran**: NumPy pode integrar-se facilmente com código escrito em linguagens de baixo nível como C, C++ e Fortran, o que permite uma execução mais eficiente e uso de legados de código científico.\n",
    "- **Pandas**\n",
    "    - **Herança**: Construída sobre o NumPy\n",
    "    - **Estruturas de Dados Robustas**: Oferece estruturas de dados e ferramentas poderosas para gerenciar e analisar grandes conjuntos de dados.\n",
    "    - **Tarefas Complexas**: Suporta desde carregamento de dados até operações complexas de limpeza, transformação e agregação.\n",
    "Dominar essas ferramentas é crucial para enfrentar os desafios no mundo da ciência de dados e contribuir significativamente em qualquer projeto ou organização. Compreender e aplicar NumPy e Pandas permitirá manipular dados com facilidade e extrair insights valiosos de maneira eficaz.\n",
    "    - **Estruturas de dados principais**: Introduz duas estruturas de dados principais: Series e DataFrame\n",
    "- **Matplotlib**\n",
    "    - **Visualização de Dados**: Ferramenta líder para a criação de gráficos e visualizações de dados em Python.\n",
    "    - **Flexibilidade**: Permite a criação de uma ampla variedade de gráficos estáticos, interativos e animados de forma simples e intuitiva.\n",
    "    - **Integração com Pandas**: Oferece suporte perfeito para trabalhar com os DataFrame do Pandas, permitindo uma visualização direta dos dados manipulados.\n",
    "    - **Personalização Avançada**: Fornece vastas opções de personalização, o que a torna capaz de lidar com as necessidades de visualização mais específicas e detalhadas.\n",
    "    - **Ferramenta Educacional**: Além de ser uma ferramenta prática para cientistas de dados, é frequentemente utilizada em contextos acadêmicos para ensinar conceitos de ciência de dados e visualização.\n",
    "    \n"
   ]
  },
  {
   "cell_type": "markdown",
   "metadata": {},
   "source": [
    "## 1.1 Instalação"
   ]
  },
  {
   "cell_type": "markdown",
   "metadata": {},
   "source": [
    "O NumPy já vem pré-instalado no Google Colab. Caso você esteja utilizando outro ambiente, pode ser necessária a instalação utilizando pip:\n",
    "O mesmo procedimento será necessário para as bibliotecas Pandas e Matplotlib. No entanto, vou assumir que você está utilizando o Google Colab, que já vem com todas elas instaladas.\n",
    "\n",
    "```bash\n",
    "pip install numpy\n",
    "pip install matplotlib\n",
    "pip install pandas\n",
    "```"
   ]
  },
  {
   "cell_type": "code",
   "execution_count": null,
   "metadata": {},
   "outputs": [],
   "source": [
    "# Excuting this cell will install the required packages\n",
    "!pip install numpy\n",
    "!pip install matplotlib\n",
    "!pip install pandas"
   ]
  },
  {
   "cell_type": "markdown",
   "metadata": {},
   "source": [
    "## 2. Numpy"
   ]
  },
  {
   "cell_type": "markdown",
   "metadata": {},
   "source": [
    "Antes de utilizar o NumPy, é necessário importá-lo. Por convenção, o NumPy é geralmente importado como np. NumPy oferece o `ndarray`, uma estrutura de dados N-dimensional que facilita operações rápidas e eficientes em grandes conjuntos de dados. Esses arrays permitem a execução de operações matemáticas em larga escala com sintaxe simples, similar a operações entre escalares individuais. Para exemplificar, são criados dois arrays a e b a partir de listas no código abaixo."
   ]
  },
  {
   "cell_type": "code",
   "execution_count": 1,
   "metadata": {},
   "outputs": [
    {
     "data": {
      "text/plain": [
       "(array([1, 2, 3]), array([4, 5, 6]))"
      ]
     },
     "execution_count": 1,
     "metadata": {},
     "output_type": "execute_result"
    }
   ],
   "source": [
    "import numpy as np\n",
    "\n",
    "a = np.array([1, 2, 3])\n",
    "b = np.array([4, 5, 6])\n",
    "a, b"
   ]
  },
  {
   "cell_type": "markdown",
   "metadata": {},
   "source": [
    "## 2.1 Listas vs. Arrays NumPy"
   ]
  },
  {
   "cell_type": "markdown",
   "metadata": {},
   "source": [
    "Enquanto as listas em Python suportam tipos de dados mistos, os arrays NumPy são restritos a um único tipo de dado para melhorar a performance e a eficiência da memória."
   ]
  },
  {
   "cell_type": "code",
   "execution_count": 3,
   "metadata": {},
   "outputs": [
    {
     "name": "stdout",
     "output_type": "stream",
     "text": [
      "Lista Heterogênea: ['Olá', 2.0, 3.5]\n",
      "Array de NumPy: ['Olá' '2.0' '3.5']\n"
     ]
    }
   ],
   "source": [
    "# Lista heterogênea\n",
    "lista_heterogenea = [\"Olá\", 2.0, 3.5]\n",
    "print(\"Lista Heterogênea:\", lista_heterogenea)\n",
    "\n",
    "# Convertendo a lista em um array NumPy\n",
    "array_from_list = np.array(lista_heterogenea)\n",
    "print(\"Array de NumPy:\", array_from_list)"
   ]
  },
  {
   "cell_type": "markdown",
   "metadata": {},
   "source": [
    "## 2.2 Arrays Multidimensionais"
   ]
  },
  {
   "cell_type": "markdown",
   "metadata": {},
   "source": [
    "NumPy é particularmente útil para manipular arrays multidimensionais, facilitando operações complexas de álgebra linear e manipulação de grandes conjuntos de dados."
   ]
  },
  {
   "cell_type": "code",
   "execution_count": 5,
   "metadata": {},
   "outputs": [
    {
     "name": "stdout",
     "output_type": "stream",
     "text": [
      "Array 2D: [[1 2 3]\n",
      " [4 5 6]]\n",
      "Transposto: [[1 4]\n",
      " [2 5]\n",
      " [3 6]]\n"
     ]
    }
   ],
   "source": [
    "# Criando um array 2D\n",
    "array_2d = np.array([[1, 2, 3], [4, 5, 6]])\n",
    "print(\"Array 2D:\", array_2d)\n",
    "\n",
    "# Transposição de um array\n",
    "print(\"Transposto:\", array_2d.T)"
   ]
  },
  {
   "cell_type": "markdown",
   "metadata": {},
   "source": [
    "## 2.3 Operações em Arrays"
   ]
  },
  {
   "cell_type": "markdown",
   "metadata": {},
   "source": [
    "Você pode realizar uma variedade de operações matemáticas sobre arrays NumPy. Aqui estão alguns exemplos:"
   ]
  },
  {
   "cell_type": "code",
   "execution_count": 6,
   "metadata": {},
   "outputs": [
    {
     "name": "stdout",
     "output_type": "stream",
     "text": [
      "[5 7 9]\n",
      "[-3 -3 -3]\n",
      "[ 4 10 18]\n",
      "[0.25 0.4  0.5 ]\n",
      "Soma: 21\n",
      "Média: 3.5\n"
     ]
    }
   ],
   "source": [
    "print(a + b)  # Saída: array([5, 7, 9])\n",
    "print(a - b)  # Saída: array([-3, -3, -3])\n",
    "print(a * b)  # Saída: array([4, 10, 18])\n",
    "print(a / b)  # Saída: array([0.25, 0.4, 0.5])\n",
    "\n",
    "# Soma e média de um array\n",
    "soma = np.sum(array_2d)\n",
    "media = np.mean(array_2d)\n",
    "print(\"Soma:\", soma)\n",
    "print(\"Média:\", media)"
   ]
  },
  {
   "cell_type": "markdown",
   "metadata": {},
   "source": [
    "## 2.4 Geração de Arrays no NumPy"
   ]
  },
  {
   "cell_type": "markdown",
   "metadata": {},
   "source": [
    "NumPy oferece várias funções que permitem gerar arrays de forma eficiente, as quais são essenciais para muitos algoritmos de computação científica e análise de dados. Vamos explorar algumas dessas funções fundamentais:\n",
    "- **numpy.zeros**\n",
    "    - Cria um array onde todos os elementos são zeros. Muito útil para inicializar arrays sem qualquer valor pré-definido.\n",
    "- **numpy.ones**\n",
    "    - Cria um array onde todos os elementos são uns. Isso é útil quando precisamos de um array como ponto de partida para cálculos que não devem começar do zero.\n",
    "- **numpy.arange**\n",
    "    - Cria um array contendo uma sequência de números dentro de um intervalo especificado, similar à função range do Python.\n",
    "- **numpy.linspace**\n",
    "    - Cria um array de números igualmente espaçados entre um intervalo, útil para criar divisões uniformes de um intervalo.\n"
   ]
  },
  {
   "cell_type": "code",
   "execution_count": 8,
   "metadata": {},
   "outputs": [
    {
     "name": "stdout",
     "output_type": "stream",
     "text": [
      "Array de zeros: [[0. 0. 0.]\n",
      " [0. 0. 0.]]\n",
      "Array de uns: [[1. 1. 1.]\n",
      " [1. 1. 1.]]\n",
      "Array de números pares: [0 2 4 6 8]\n",
      "Array de pontos igualmente espaçados: [0.   0.25 0.5  0.75 1.  ]\n"
     ]
    }
   ],
   "source": [
    "# Exemplo de criação de um array 2x3 de zeros\n",
    "zeros_array = np.zeros((2, 3))\n",
    "print(\"Array de zeros:\", zeros_array)\n",
    "\n",
    "# Exemplo de criação de um array 2x3 de uns\n",
    "ones_array = np.ones((2, 3))\n",
    "print(\"Array de uns:\", ones_array)\n",
    "\n",
    "# Exemplo de criação de um array de números pares entre 0 e 10\n",
    "arange_array = np.arange(0, 10, 2)\n",
    "print(\"Array de números pares:\", arange_array)\n",
    "\n",
    "# Exemplo de criação de um array com 5 pontos igualmente espaçados entre 0 e 1\n",
    "linspace_array = np.linspace(0, 1, 5)\n",
    "print(\"Array de pontos igualmente espaçados:\", linspace_array)"
   ]
  },
  {
   "cell_type": "markdown",
   "metadata": {},
   "source": [
    "# 3. Biblioteca Pandas"
   ]
  },
  {
   "cell_type": "markdown",
   "metadata": {},
   "source": [
    "Pandas é a principal biblioteca utilizada para análise de dados em Python. Ela oferece estruturas de dados de alto nível e ferramentas de manipulação projetadas para tornar a análise de dados rápida e fácil. Construída sobre o NumPy, facilita seu uso e integração em aplicações NumPy. \n",
    "\n",
    "O principal componente de Pandas é o `DataFrame`, que é uma estrutura de dados bidimensional com rótulos nas linhas e colunas, semelhante a uma tabela ou planilha.\n",
    "\n",
    "Para começar a usar a biblioteca Pandas, importe-a em seu notebook. Em seguida, você pode criar um DataFrame a partir de diferentes tipos de dados:"
   ]
  },
  {
   "cell_type": "code",
   "execution_count": 10,
   "metadata": {},
   "outputs": [
    {
     "name": "stdout",
     "output_type": "stream",
     "text": [
      "           Estado  População\n",
      "0       São Paulo   12300000\n",
      "1  Rio de Janeiro    6700000\n",
      "2    Minas Gerais   21000000\n"
     ]
    }
   ],
   "source": [
    "import pandas as pd\n",
    "\n",
    "# Criando DataFrame a partir de um dicionário de listas\n",
    "df = pd.DataFrame({\n",
    "    \"Estado\": [\"São Paulo\", \"Rio de Janeiro\", \"Minas Gerais\"],\n",
    "    \"População\": [12300000, 6700000, 21000000]\n",
    "})\n",
    "print(df)"
   ]
  },
  {
   "cell_type": "markdown",
   "metadata": {},
   "source": [
    "## Manipulação de dados"
   ]
  },
  {
   "cell_type": "markdown",
   "metadata": {},
   "source": [
    "Pandas facilita o carregamento de dados de várias fontes externas, como arquivos CSV ou Excel. Após carregar os dados em um DataFrame, você pode facilmente visualizar e realizar análises preliminares:"
   ]
  },
  {
   "cell_type": "code",
   "execution_count": 22,
   "metadata": {},
   "outputs": [
    {
     "data": {
      "text/html": [
       "<div>\n",
       "<style scoped>\n",
       "    .dataframe tbody tr th:only-of-type {\n",
       "        vertical-align: middle;\n",
       "    }\n",
       "\n",
       "    .dataframe tbody tr th {\n",
       "        vertical-align: top;\n",
       "    }\n",
       "\n",
       "    .dataframe thead th {\n",
       "        text-align: right;\n",
       "    }\n",
       "</style>\n",
       "<table border=\"1\" class=\"dataframe\">\n",
       "  <thead>\n",
       "    <tr style=\"text-align: right;\">\n",
       "      <th></th>\n",
       "      <th>Pregnancies</th>\n",
       "      <th>Glucose</th>\n",
       "      <th>BloodPressure</th>\n",
       "      <th>SkinThickness</th>\n",
       "      <th>Insulin</th>\n",
       "      <th>BMI</th>\n",
       "      <th>DiabetesPedigreeFunction</th>\n",
       "      <th>Age</th>\n",
       "      <th>Outcome</th>\n",
       "    </tr>\n",
       "  </thead>\n",
       "  <tbody>\n",
       "    <tr>\n",
       "      <th>0</th>\n",
       "      <td>6</td>\n",
       "      <td>148</td>\n",
       "      <td>72</td>\n",
       "      <td>35</td>\n",
       "      <td>0</td>\n",
       "      <td>33.6</td>\n",
       "      <td>0.627</td>\n",
       "      <td>50</td>\n",
       "      <td>1</td>\n",
       "    </tr>\n",
       "    <tr>\n",
       "      <th>1</th>\n",
       "      <td>1</td>\n",
       "      <td>85</td>\n",
       "      <td>66</td>\n",
       "      <td>29</td>\n",
       "      <td>0</td>\n",
       "      <td>26.6</td>\n",
       "      <td>0.351</td>\n",
       "      <td>31</td>\n",
       "      <td>0</td>\n",
       "    </tr>\n",
       "    <tr>\n",
       "      <th>2</th>\n",
       "      <td>8</td>\n",
       "      <td>183</td>\n",
       "      <td>64</td>\n",
       "      <td>0</td>\n",
       "      <td>0</td>\n",
       "      <td>23.3</td>\n",
       "      <td>0.672</td>\n",
       "      <td>32</td>\n",
       "      <td>1</td>\n",
       "    </tr>\n",
       "    <tr>\n",
       "      <th>3</th>\n",
       "      <td>1</td>\n",
       "      <td>89</td>\n",
       "      <td>66</td>\n",
       "      <td>23</td>\n",
       "      <td>94</td>\n",
       "      <td>28.1</td>\n",
       "      <td>0.167</td>\n",
       "      <td>21</td>\n",
       "      <td>0</td>\n",
       "    </tr>\n",
       "    <tr>\n",
       "      <th>4</th>\n",
       "      <td>0</td>\n",
       "      <td>137</td>\n",
       "      <td>40</td>\n",
       "      <td>35</td>\n",
       "      <td>168</td>\n",
       "      <td>43.1</td>\n",
       "      <td>2.288</td>\n",
       "      <td>33</td>\n",
       "      <td>1</td>\n",
       "    </tr>\n",
       "  </tbody>\n",
       "</table>\n",
       "</div>"
      ],
      "text/plain": [
       "   Pregnancies  Glucose  BloodPressure  SkinThickness  Insulin   BMI  \\\n",
       "0            6      148             72             35        0  33.6   \n",
       "1            1       85             66             29        0  26.6   \n",
       "2            8      183             64              0        0  23.3   \n",
       "3            1       89             66             23       94  28.1   \n",
       "4            0      137             40             35      168  43.1   \n",
       "\n",
       "   DiabetesPedigreeFunction  Age  Outcome  \n",
       "0                     0.627   50        1  \n",
       "1                     0.351   31        0  \n",
       "2                     0.672   32        1  \n",
       "3                     0.167   21        0  \n",
       "4                     2.288   33        1  "
      ]
     },
     "metadata": {},
     "output_type": "display_data"
    }
   ],
   "source": [
    "# Carregando dados de um arquivo Excel\n",
    "url = \"https://raw.githubusercontent.com/jbrownlee/Datasets/master/pima-indians-diabetes.data.csv\"\n",
    "\n",
    "# Colunas do DataFrame que serão carregadas\n",
    "columns = ['Pregnancies', 'Glucose', 'BloodPressure', 'SkinThickness', 'Insulin', 'BMI', 'DiabetesPedigreeFunction', 'Age', 'Outcome']\n",
    "\n",
    "# Carregando o dataset para um DataFrame\n",
    "df = pd.read_csv(url, names=columns)\n",
    "\n",
    "# Visualizando as primeiras linhas do DataFrame\n",
    "display(df.head())"
   ]
  },
  {
   "cell_type": "code",
   "execution_count": 25,
   "metadata": {},
   "outputs": [
    {
     "data": {
      "text/plain": [
       "0    148\n",
       "1     85\n",
       "2    183\n",
       "3     89\n",
       "4    137\n",
       "Name: Glucose, dtype: int64"
      ]
     },
     "metadata": {},
     "output_type": "display_data"
    },
    {
     "data": {
      "text/plain": [
       "Pregnancies                   8.000\n",
       "Glucose                     183.000\n",
       "BloodPressure                64.000\n",
       "SkinThickness                 0.000\n",
       "Insulin                       0.000\n",
       "BMI                          23.300\n",
       "DiabetesPedigreeFunction      0.672\n",
       "Age                          32.000\n",
       "Outcome                       1.000\n",
       "Name: 2, dtype: float64"
      ]
     },
     "metadata": {},
     "output_type": "display_data"
    },
    {
     "name": "stdout",
     "output_type": "stream",
     "text": [
      "Média de Glucose: 120.89453125\n",
      "Soma de Insulina: 61286\n"
     ]
    }
   ],
   "source": [
    "# Acessando dados específicos\n",
    "# Visualizando a coluna 'Glucose'\n",
    "display(df['Glucose'].head())\n",
    "\n",
    "# Usando o método .iloc para acessar a terceira linha\n",
    "display(df.iloc[2])\n",
    "\n",
    "# Realizando operações como soma e média\n",
    "print(\"Média de Glucose:\", df['Glucose'].mean())\n",
    "print(\"Soma de Insulina:\", df['Insulin'].sum())"
   ]
  },
  {
   "cell_type": "markdown",
   "metadata": {},
   "source": [
    "Podemos também realizar operações avançadas"
   ]
  },
  {
   "cell_type": "code",
   "execution_count": 27,
   "metadata": {},
   "outputs": [
    {
     "name": "stdout",
     "output_type": "stream",
     "text": [
      "Filtrado por Glucose > 120:\n"
     ]
    },
    {
     "data": {
      "text/html": [
       "<div>\n",
       "<style scoped>\n",
       "    .dataframe tbody tr th:only-of-type {\n",
       "        vertical-align: middle;\n",
       "    }\n",
       "\n",
       "    .dataframe tbody tr th {\n",
       "        vertical-align: top;\n",
       "    }\n",
       "\n",
       "    .dataframe thead th {\n",
       "        text-align: right;\n",
       "    }\n",
       "</style>\n",
       "<table border=\"1\" class=\"dataframe\">\n",
       "  <thead>\n",
       "    <tr style=\"text-align: right;\">\n",
       "      <th></th>\n",
       "      <th>Pregnancies</th>\n",
       "      <th>Glucose</th>\n",
       "      <th>BloodPressure</th>\n",
       "      <th>SkinThickness</th>\n",
       "      <th>Insulin</th>\n",
       "      <th>BMI</th>\n",
       "      <th>DiabetesPedigreeFunction</th>\n",
       "      <th>Age</th>\n",
       "      <th>Outcome</th>\n",
       "    </tr>\n",
       "  </thead>\n",
       "  <tbody>\n",
       "    <tr>\n",
       "      <th>0</th>\n",
       "      <td>6</td>\n",
       "      <td>148</td>\n",
       "      <td>72</td>\n",
       "      <td>35</td>\n",
       "      <td>0</td>\n",
       "      <td>33.6</td>\n",
       "      <td>0.627</td>\n",
       "      <td>50</td>\n",
       "      <td>1</td>\n",
       "    </tr>\n",
       "    <tr>\n",
       "      <th>2</th>\n",
       "      <td>8</td>\n",
       "      <td>183</td>\n",
       "      <td>64</td>\n",
       "      <td>0</td>\n",
       "      <td>0</td>\n",
       "      <td>23.3</td>\n",
       "      <td>0.672</td>\n",
       "      <td>32</td>\n",
       "      <td>1</td>\n",
       "    </tr>\n",
       "    <tr>\n",
       "      <th>4</th>\n",
       "      <td>0</td>\n",
       "      <td>137</td>\n",
       "      <td>40</td>\n",
       "      <td>35</td>\n",
       "      <td>168</td>\n",
       "      <td>43.1</td>\n",
       "      <td>2.288</td>\n",
       "      <td>33</td>\n",
       "      <td>1</td>\n",
       "    </tr>\n",
       "    <tr>\n",
       "      <th>8</th>\n",
       "      <td>2</td>\n",
       "      <td>197</td>\n",
       "      <td>70</td>\n",
       "      <td>45</td>\n",
       "      <td>543</td>\n",
       "      <td>30.5</td>\n",
       "      <td>0.158</td>\n",
       "      <td>53</td>\n",
       "      <td>1</td>\n",
       "    </tr>\n",
       "    <tr>\n",
       "      <th>9</th>\n",
       "      <td>8</td>\n",
       "      <td>125</td>\n",
       "      <td>96</td>\n",
       "      <td>0</td>\n",
       "      <td>0</td>\n",
       "      <td>0.0</td>\n",
       "      <td>0.232</td>\n",
       "      <td>54</td>\n",
       "      <td>1</td>\n",
       "    </tr>\n",
       "  </tbody>\n",
       "</table>\n",
       "</div>"
      ],
      "text/plain": [
       "   Pregnancies  Glucose  BloodPressure  SkinThickness  Insulin   BMI  \\\n",
       "0            6      148             72             35        0  33.6   \n",
       "2            8      183             64              0        0  23.3   \n",
       "4            0      137             40             35      168  43.1   \n",
       "8            2      197             70             45      543  30.5   \n",
       "9            8      125             96              0        0   0.0   \n",
       "\n",
       "   DiabetesPedigreeFunction  Age  Outcome  \n",
       "0                     0.627   50        1  \n",
       "2                     0.672   32        1  \n",
       "4                     2.288   33        1  \n",
       "8                     0.158   53        1  \n",
       "9                     0.232   54        1  "
      ]
     },
     "metadata": {},
     "output_type": "display_data"
    },
    {
     "name": "stdout",
     "output_type": "stream",
     "text": [
      "\n",
      "Média de Pressão Sanguínea por Outcome:\n"
     ]
    },
    {
     "data": {
      "text/plain": [
       "Outcome\n",
       "0    68.184000\n",
       "1    70.824627\n",
       "Name: BloodPressure, dtype: float64"
      ]
     },
     "metadata": {},
     "output_type": "display_data"
    }
   ],
   "source": [
    "# Filtrando dados onde a Glucose é maior que 120\n",
    "filtro = df['Glucose'] > 120\n",
    "print(\"Filtrado por Glucose > 120:\")\n",
    "display(df[filtro].head())\n",
    "\n",
    "# Agrupando dados por 'Outcome' e calculando a média da pressão sanguínea\n",
    "print(\"\\nMédia de Pressão Sanguínea por Outcome:\")\n",
    "display(df.groupby('Outcome')['BloodPressure'].mean())"
   ]
  },
  {
   "cell_type": "markdown",
   "metadata": {},
   "source": [
    "**Explicação do Código**\n",
    "- Filtragem: \n",
    "    - Este bloco de código cria um filtro para selecionar apenas as linhas onde o valor de Glucose é maior que 120. O filtro é então aplicado ao DataFrame para obter um subconjunto dos dados que atendam a essa condição.\n",
    "- Agrupamento: \n",
    "    - O segundo bloco de código agrupa os dados pelo Outcome (resultado do teste de diabetes, onde 1 indica diabético e 0 não diabético). Ele então calcula a média da BloodPressure (pressão sanguínea) para cada grupo.\n",
    "Este exemplo demonstra como manipular e analisar os dados usando Pandas de uma maneira que você pode adaptar facilmente para explorar outras colunas ou realizar diferentes tipos de cálculos estatísticos. Copie e cole esse código em uma célula do seu Jupyter Notebook para executar a análise."
   ]
  },
  {
   "cell_type": "code",
   "execution_count": null,
   "metadata": {},
   "outputs": [],
   "source": [
    "# Filtrando dados\n",
    "filtro = df['População'] > 10000000\n",
    "print(df[filtro])\n",
    "\n",
    "# Agrupando dados\n",
    "print(df.groupby('Estado')['População'].sum())"
   ]
  },
  {
   "cell_type": "markdown",
   "metadata": {},
   "source": [
    "## 3.2 Configuração de um Novo Índice"
   ]
  },
  {
   "cell_type": "markdown",
   "metadata": {},
   "source": [
    "**Configuração de um Novo Índice**\n",
    "- Alteramos o índice do DataFrame para a coluna Age, que pode ser mais relevante para certas análises demográficas ou clínicas. Utilizamos o argumento inplace=True para que a alteração seja efetuada diretamente no DataFrame original."
   ]
  },
  {
   "cell_type": "code",
   "execution_count": null,
   "metadata": {},
   "outputs": [],
   "source": [
    "# Definindo 'Age' como índice\n",
    "df.set_index('Age', inplace=True)\n",
    "print(\"\\nDataFrame com 'Age' como índice:\\n\", df.head())"
   ]
  },
  {
   "cell_type": "markdown",
   "metadata": {},
   "source": [
    "## 3.3 Explorando DataFrames com Pandas"
   ]
  },
  {
   "cell_type": "markdown",
   "metadata": {},
   "source": [
    "Um dataframe pode ser criado a partir de um dicionaário Python"
   ]
  },
  {
   "cell_type": "code",
   "execution_count": 28,
   "metadata": {},
   "outputs": [
    {
     "data": {
      "text/html": [
       "<div>\n",
       "<style scoped>\n",
       "    .dataframe tbody tr th:only-of-type {\n",
       "        vertical-align: middle;\n",
       "    }\n",
       "\n",
       "    .dataframe tbody tr th {\n",
       "        vertical-align: top;\n",
       "    }\n",
       "\n",
       "    .dataframe thead th {\n",
       "        text-align: right;\n",
       "    }\n",
       "</style>\n",
       "<table border=\"1\" class=\"dataframe\">\n",
       "  <thead>\n",
       "    <tr style=\"text-align: right;\">\n",
       "      <th></th>\n",
       "      <th>Estado</th>\n",
       "      <th>Regiao</th>\n",
       "      <th>Populacao</th>\n",
       "      <th>PIB</th>\n",
       "    </tr>\n",
       "  </thead>\n",
       "  <tbody>\n",
       "    <tr>\n",
       "      <th>0</th>\n",
       "      <td>Acre</td>\n",
       "      <td>Norte</td>\n",
       "      <td>829619</td>\n",
       "      <td>21340000000</td>\n",
       "    </tr>\n",
       "    <tr>\n",
       "      <th>1</th>\n",
       "      <td>Amapa</td>\n",
       "      <td>Norte</td>\n",
       "      <td>797722</td>\n",
       "      <td>21010000000</td>\n",
       "    </tr>\n",
       "    <tr>\n",
       "      <th>2</th>\n",
       "      <td>Amazonas</td>\n",
       "      <td>Norte</td>\n",
       "      <td>3957252</td>\n",
       "      <td>131530000000</td>\n",
       "    </tr>\n",
       "    <tr>\n",
       "      <th>3</th>\n",
       "      <td>Para</td>\n",
       "      <td>Norte</td>\n",
       "      <td>8417316</td>\n",
       "      <td>269480000000</td>\n",
       "    </tr>\n",
       "    <tr>\n",
       "      <th>4</th>\n",
       "      <td>Rondonia</td>\n",
       "      <td>Norte</td>\n",
       "      <td>1167389</td>\n",
       "      <td>59170000000</td>\n",
       "    </tr>\n",
       "    <tr>\n",
       "      <th>5</th>\n",
       "      <td>Roraima</td>\n",
       "      <td>Norte</td>\n",
       "      <td>383386</td>\n",
       "      <td>18203000000</td>\n",
       "    </tr>\n",
       "    <tr>\n",
       "      <th>6</th>\n",
       "      <td>Tocantins</td>\n",
       "      <td>Norte</td>\n",
       "      <td>1583908</td>\n",
       "      <td>51781000000</td>\n",
       "    </tr>\n",
       "  </tbody>\n",
       "</table>\n",
       "</div>"
      ],
      "text/plain": [
       "      Estado Regiao  Populacao           PIB\n",
       "0       Acre  Norte     829619   21340000000\n",
       "1      Amapa  Norte     797722   21010000000\n",
       "2   Amazonas  Norte    3957252  131530000000\n",
       "3       Para  Norte    8417316  269480000000\n",
       "4   Rondonia  Norte    1167389   59170000000\n",
       "5    Roraima  Norte     383386   18203000000\n",
       "6  Tocantins  Norte    1583908   51781000000"
      ]
     },
     "metadata": {},
     "output_type": "display_data"
    }
   ],
   "source": [
    "import pandas as pd\n",
    "\n",
    "# Carregando um exemplo de DataFrame\n",
    "data = {\n",
    "    'Estado': ['Acre', 'Amapa', 'Amazonas', 'Para', 'Rondonia', 'Roraima', 'Tocantins'],\n",
    "    'Regiao': ['Norte', 'Norte', 'Norte', 'Norte', 'Norte', 'Norte', 'Norte'],\n",
    "    'Populacao': [829619, 797722, 3957252, 8417316, 1167389, 383386, 1583908],\n",
    "    'PIB': [21340000000, 21010000000, 131530000000, 269480000000, 59170000000, 18203000000, 51781000000]\n",
    "}\n",
    "df = pd.DataFrame(data)\n",
    "\n",
    "# Mostrando o DataFrame\n",
    "display(df)"
   ]
  },
  {
   "cell_type": "markdown",
   "metadata": {},
   "source": [
    "O método .info() é extremamente útil para obter uma visão rápida e concisa da estrutura do DataFrame, incluindo o número de entradas, o índice, os tipos de dados das colunas e o uso de memória:"
   ]
  },
  {
   "cell_type": "code",
   "execution_count": 29,
   "metadata": {},
   "outputs": [
    {
     "name": "stdout",
     "output_type": "stream",
     "text": [
      "<class 'pandas.core.frame.DataFrame'>\n",
      "RangeIndex: 7 entries, 0 to 6\n",
      "Data columns (total 4 columns):\n",
      " #   Column     Non-Null Count  Dtype \n",
      "---  ------     --------------  ----- \n",
      " 0   Estado     7 non-null      object\n",
      " 1   Regiao     7 non-null      object\n",
      " 2   Populacao  7 non-null      int64 \n",
      " 3   PIB        7 non-null      int64 \n",
      "dtypes: int64(2), object(2)\n",
      "memory usage: 352.0+ bytes\n"
     ]
    },
    {
     "data": {
      "text/plain": [
       "None"
      ]
     },
     "metadata": {},
     "output_type": "display_data"
    }
   ],
   "source": [
    "# Usando o método .info() para obter informações do DataFrame\n",
    "display(df.info())\n"
   ]
  },
  {
   "cell_type": "markdown",
   "metadata": {},
   "source": [
    "Ao selecionar uma única coluna, obtemos uma Series, que é uma estrutura unidimensional, em contraste com o DataFrame que é bidimensional:"
   ]
  },
  {
   "cell_type": "code",
   "execution_count": 30,
   "metadata": {},
   "outputs": [
    {
     "name": "stdout",
     "output_type": "stream",
     "text": [
      "Série de População:\n",
      " 0     829619\n",
      "1     797722\n",
      "2    3957252\n",
      "3    8417316\n",
      "4    1167389\n",
      "5     383386\n",
      "6    1583908\n",
      "Name: Populacao, dtype: int64\n",
      "DataFrame das Colunas Selecionadas:\n",
      "       Estado  Populacao\n",
      "0       Acre     829619\n",
      "1      Amapa     797722\n",
      "2   Amazonas    3957252\n",
      "3       Para    8417316\n",
      "4   Rondonia    1167389\n",
      "5    Roraima     383386\n",
      "6  Tocantins    1583908\n"
     ]
    }
   ],
   "source": [
    "# Selecionando uma única coluna, o que retorna uma Series\n",
    "populacao_series = df['Populacao']\n",
    "print(\"Série de População:\\n\", populacao_series)\n",
    "\n",
    "# Selecionando múltiplas colunas, o que retorna um novo DataFrame\n",
    "colunas_selecionadas = df[['Estado', 'Populacao']]\n",
    "print(\"DataFrame das Colunas Selecionadas:\\n\", colunas_selecionadas)"
   ]
  },
  {
   "cell_type": "markdown",
   "metadata": {},
   "source": [
    "A função `type()` em Python é usada para determinar o tipo de dados de qualquer objeto. Isso é especialmente útil em ciência de dados para entender a estrutura dos dados com os quais você está trabalhando, como diferenciar entre uma lista, um DataFrame do Pandas, ou uma Series. Vamos explorar como você pode usar a função type() para confirmar os tipos de dados em seu código, com exemplos práticos formatados para Jupyter Notebook:"
   ]
  },
  {
   "cell_type": "code",
   "execution_count": 31,
   "metadata": {},
   "outputs": [
    {
     "name": "stdout",
     "output_type": "stream",
     "text": [
      "Tipo de um_numero: <class 'int'>\n",
      "Tipo de uma_string: <class 'str'>\n",
      "Tipo de uma_lista: <class 'list'>\n",
      "Tipo de um_dicionario: <class 'dict'>\n",
      "Tipo de df (DataFrame): <class 'pandas.core.frame.DataFrame'>\n",
      "Tipo de serie (Series): <class 'pandas.core.series.Series'>\n"
     ]
    }
   ],
   "source": [
    "# Importando a biblioteca Pandas\n",
    "import pandas as pd\n",
    "\n",
    "# Criando diferentes tipos de dados\n",
    "um_numero = 42\n",
    "uma_string = \"Olá, mundo!\"\n",
    "uma_lista = [1, 2, 3]\n",
    "um_dicionario = {'nome': 'Alice', 'idade': 30}\n",
    "\n",
    "# Criando uma DataFrame e uma Series do Pandas\n",
    "dados = {'Estado': ['Acre', 'Amapa'], 'Populacao': [829619, 797722]}\n",
    "df = pd.DataFrame(dados)\n",
    "serie = df['Estado']\n",
    "\n",
    "# Verificando os tipos\n",
    "print(\"Tipo de um_numero:\", type(um_numero))\n",
    "print(\"Tipo de uma_string:\", type(uma_string))\n",
    "print(\"Tipo de uma_lista:\", type(uma_lista))\n",
    "print(\"Tipo de um_dicionario:\", type(um_dicionario))\n",
    "print(\"Tipo de df (DataFrame):\", type(df))\n",
    "print(\"Tipo de serie (Series):\", type(serie))"
   ]
  },
  {
   "cell_type": "markdown",
   "metadata": {},
   "source": [
    "## 3.4 Encadeamento de Métodos e Análise com Pandas"
   ]
  },
  {
   "cell_type": "markdown",
   "metadata": {},
   "source": [
    "O encadeamento de métodos em Pandas é uma técnica poderosa que permite realizar múltiplas operações em uma única linha de código, tornando-o mais limpo e eficiente. Vamos explorar como usar essa técnica, juntamente com os métodos `.sum()` e `.info()`, para análises rápidas e eficazes.\n",
    "\n",
    "Utilizando o encadeamento de métodos, podemos simplificar operações que normalmente requereriam várias linhas de código. Por exemplo, para calcular a soma da população da região Norte diretamente:\n"
   ]
  },
  {
   "cell_type": "code",
   "execution_count": 32,
   "metadata": {},
   "outputs": [
    {
     "name": "stdout",
     "output_type": "stream",
     "text": [
      "População total da Região Norte: 17136592\n"
     ]
    }
   ],
   "source": [
    "import pandas as pd\n",
    "\n",
    "# Dados de exemplo\n",
    "data = {\n",
    "    'Estado': ['Acre', 'Amapa', 'Amazonas', 'Para', 'Rondonia', 'Roraima', 'Tocantins'],\n",
    "    'Regiao': ['Norte', 'Norte', 'Norte', 'Norte', 'Norte', 'Norte', 'Norte'],\n",
    "    'Populacao': [829619, 797722, 3957252, 8417316, 1167389, 383386, 1583908]\n",
    "}\n",
    "df = pd.DataFrame(data)\n",
    "\n",
    "# Calculando a soma da população para a região Norte\n",
    "total_populacao_norte = df.query('Regiao == \"Norte\"')['Populacao'].sum()\n",
    "print(\"População total da Região Norte:\", total_populacao_norte)"
   ]
  },
  {
   "cell_type": "markdown",
   "metadata": {},
   "source": [
    "O método `.sum()` é utilizado para somar valores ao longo de um eixo especificado de um DataFrame ou Series"
   ]
  },
  {
   "cell_type": "markdown",
   "metadata": {},
   "source": [
    "# 4. Matplotlib"
   ]
  },
  {
   "cell_type": "markdown",
   "metadata": {},
   "source": [
    "**Importância da Visualização de Dados na Análise de Dados**\n",
    "\n",
    "A visualização de dados não é apenas um aspecto complementar, mas uma componente fundamental da análise de dados. Ela facilita a compreensão rápida de informações complexas e ajuda na identificação de padrões, tendências e insights críticos. Abaixo estão destacados alguns pontos principais sobre a visualização de dados e as ferramentas disponíveis no ecossistema Python:\n",
    "\n",
    "- **Identificação Visual de Padrões**:\n",
    "  - A capacidade de visualizar dados permite que analistas e cientistas de dados percebam rapidamente padrões e anomalias, o que pode ser menos óbvio em formatos tabulares brutos.\n",
    "\n",
    "- **Ferramentas de Visualização no Python**:\n",
    "  - **Matplotlib**: É uma das bibliotecas mais populares e versáteis para criação de gráficos no Python. Oferece uma ampla gama de tipos de gráficos e é altamente personalizável.\n",
    "  - **Pandas**: Integrado com Matplotlib, facilita a visualização de DataFrames e Series diretamente com simples chamadas de método.\n",
    "  - **Seaborn**: Baseada em Matplotlib, essa biblioteca fornece uma interface de alto nível para desenhar gráficos estatísticos atraentes e informativos.\n",
    "\n",
    "**Introdução à Biblioteca Matplotlib**\n",
    "\n",
    "Aqui, apresentaremos brevemente a biblioteca Matplotlib, focando no seu papel essencial na visualização de dados:\n",
    "\n",
    "- **Função de Matplotlib**:\n",
    "  - **Criação de Gráficos**: Matplotlib permite criar uma variedade de gráficos estáticos, animados e interativos, que são essenciais para a análise exploratória de dados.\n",
    "  - **Flexibilidade**: Suporta vários backends para renderização em diferentes formatos, tanto em interfaces gráficas como em ambientes de desenvolvimento não gráficos.\n",
    "\n",
    "Este breve panorama sobre Matplotlib destina-se a fornecer uma compreensão básica de como a biblioteca pode ser utilizada para transformar dados brutos em visualizações compreensíveis e visualmente agradáveis, facilitando assim a interpretação e análise de dados.\n"
   ]
  },
  {
   "cell_type": "code",
   "execution_count": 80,
   "metadata": {},
   "outputs": [
    {
     "data": {
      "text/html": [
       "<div>\n",
       "<style scoped>\n",
       "    .dataframe tbody tr th:only-of-type {\n",
       "        vertical-align: middle;\n",
       "    }\n",
       "\n",
       "    .dataframe tbody tr th {\n",
       "        vertical-align: top;\n",
       "    }\n",
       "\n",
       "    .dataframe thead th {\n",
       "        text-align: right;\n",
       "    }\n",
       "</style>\n",
       "<table border=\"1\" class=\"dataframe\">\n",
       "  <thead>\n",
       "    <tr style=\"text-align: right;\">\n",
       "      <th></th>\n",
       "      <th>id</th>\n",
       "      <th>price</th>\n",
       "      <th>qty</th>\n",
       "      <th>base_qty</th>\n",
       "      <th>time</th>\n",
       "      <th>is_buyer_maker</th>\n",
       "    </tr>\n",
       "  </thead>\n",
       "  <tbody>\n",
       "    <tr>\n",
       "      <th>0</th>\n",
       "      <td>800310240</td>\n",
       "      <td>60604.0</td>\n",
       "      <td>1.0</td>\n",
       "      <td>0.001650</td>\n",
       "      <td>1714521602481</td>\n",
       "      <td>True</td>\n",
       "    </tr>\n",
       "    <tr>\n",
       "      <th>1</th>\n",
       "      <td>800310241</td>\n",
       "      <td>60604.0</td>\n",
       "      <td>1.0</td>\n",
       "      <td>0.001650</td>\n",
       "      <td>1714521602924</td>\n",
       "      <td>True</td>\n",
       "    </tr>\n",
       "    <tr>\n",
       "      <th>2</th>\n",
       "      <td>800310242</td>\n",
       "      <td>60604.0</td>\n",
       "      <td>23.0</td>\n",
       "      <td>0.037951</td>\n",
       "      <td>1714521603805</td>\n",
       "      <td>True</td>\n",
       "    </tr>\n",
       "    <tr>\n",
       "      <th>3</th>\n",
       "      <td>800310243</td>\n",
       "      <td>60604.0</td>\n",
       "      <td>9.0</td>\n",
       "      <td>0.014851</td>\n",
       "      <td>1714521603806</td>\n",
       "      <td>True</td>\n",
       "    </tr>\n",
       "    <tr>\n",
       "      <th>4</th>\n",
       "      <td>800310244</td>\n",
       "      <td>60604.0</td>\n",
       "      <td>16.0</td>\n",
       "      <td>0.026401</td>\n",
       "      <td>1714521603806</td>\n",
       "      <td>True</td>\n",
       "    </tr>\n",
       "    <tr>\n",
       "      <th>5</th>\n",
       "      <td>800310245</td>\n",
       "      <td>60604.0</td>\n",
       "      <td>11.0</td>\n",
       "      <td>0.018151</td>\n",
       "      <td>1714521603809</td>\n",
       "      <td>True</td>\n",
       "    </tr>\n",
       "    <tr>\n",
       "      <th>6</th>\n",
       "      <td>800310246</td>\n",
       "      <td>60604.0</td>\n",
       "      <td>11.0</td>\n",
       "      <td>0.018151</td>\n",
       "      <td>1714521603809</td>\n",
       "      <td>True</td>\n",
       "    </tr>\n",
       "    <tr>\n",
       "      <th>7</th>\n",
       "      <td>800310247</td>\n",
       "      <td>60604.0</td>\n",
       "      <td>1.0</td>\n",
       "      <td>0.001650</td>\n",
       "      <td>1714521603809</td>\n",
       "      <td>True</td>\n",
       "    </tr>\n",
       "    <tr>\n",
       "      <th>8</th>\n",
       "      <td>800310248</td>\n",
       "      <td>60604.0</td>\n",
       "      <td>10.0</td>\n",
       "      <td>0.016501</td>\n",
       "      <td>1714521603809</td>\n",
       "      <td>True</td>\n",
       "    </tr>\n",
       "    <tr>\n",
       "      <th>9</th>\n",
       "      <td>800310249</td>\n",
       "      <td>60604.0</td>\n",
       "      <td>5.0</td>\n",
       "      <td>0.008250</td>\n",
       "      <td>1714521603810</td>\n",
       "      <td>True</td>\n",
       "    </tr>\n",
       "  </tbody>\n",
       "</table>\n",
       "</div>"
      ],
      "text/plain": [
       "          id    price   qty  base_qty           time  is_buyer_maker\n",
       "0  800310240  60604.0   1.0  0.001650  1714521602481            True\n",
       "1  800310241  60604.0   1.0  0.001650  1714521602924            True\n",
       "2  800310242  60604.0  23.0  0.037951  1714521603805            True\n",
       "3  800310243  60604.0   9.0  0.014851  1714521603806            True\n",
       "4  800310244  60604.0  16.0  0.026401  1714521603806            True\n",
       "5  800310245  60604.0  11.0  0.018151  1714521603809            True\n",
       "6  800310246  60604.0  11.0  0.018151  1714521603809            True\n",
       "7  800310247  60604.0   1.0  0.001650  1714521603809            True\n",
       "8  800310248  60604.0  10.0  0.016501  1714521603809            True\n",
       "9  800310249  60604.0   5.0  0.008250  1714521603810            True"
      ]
     },
     "metadata": {},
     "output_type": "display_data"
    }
   ],
   "source": [
    "import pandas as pd\n",
    "import matplotlib.pyplot as plt\n",
    "\n",
    "# Carregar os dados\n",
    "url = 'BTCUSD_PERP-trades-2024-05-01.csv'\n",
    "data = pd.read_csv(url)\n",
    "\n",
    "display(data.head(10))"
   ]
  },
  {
   "cell_type": "code",
   "execution_count": 81,
   "metadata": {},
   "outputs": [
    {
     "data": {
      "text/html": [
       "<div>\n",
       "<style scoped>\n",
       "    .dataframe tbody tr th:only-of-type {\n",
       "        vertical-align: middle;\n",
       "    }\n",
       "\n",
       "    .dataframe tbody tr th {\n",
       "        vertical-align: top;\n",
       "    }\n",
       "\n",
       "    .dataframe thead th {\n",
       "        text-align: right;\n",
       "    }\n",
       "</style>\n",
       "<table border=\"1\" class=\"dataframe\">\n",
       "  <thead>\n",
       "    <tr style=\"text-align: right;\">\n",
       "      <th></th>\n",
       "      <th>id</th>\n",
       "      <th>price</th>\n",
       "      <th>qty</th>\n",
       "      <th>base_qty</th>\n",
       "      <th>is_buyer_maker</th>\n",
       "    </tr>\n",
       "    <tr>\n",
       "      <th>time</th>\n",
       "      <th></th>\n",
       "      <th></th>\n",
       "      <th></th>\n",
       "      <th></th>\n",
       "      <th></th>\n",
       "    </tr>\n",
       "  </thead>\n",
       "  <tbody>\n",
       "    <tr>\n",
       "      <th>2024-05-01 00:00:02.481</th>\n",
       "      <td>800310240</td>\n",
       "      <td>60604.0</td>\n",
       "      <td>1.0</td>\n",
       "      <td>0.001650</td>\n",
       "      <td>True</td>\n",
       "    </tr>\n",
       "    <tr>\n",
       "      <th>2024-05-01 00:00:02.924</th>\n",
       "      <td>800310241</td>\n",
       "      <td>60604.0</td>\n",
       "      <td>1.0</td>\n",
       "      <td>0.001650</td>\n",
       "      <td>True</td>\n",
       "    </tr>\n",
       "    <tr>\n",
       "      <th>2024-05-01 00:00:03.805</th>\n",
       "      <td>800310242</td>\n",
       "      <td>60604.0</td>\n",
       "      <td>23.0</td>\n",
       "      <td>0.037951</td>\n",
       "      <td>True</td>\n",
       "    </tr>\n",
       "    <tr>\n",
       "      <th>2024-05-01 00:00:03.806</th>\n",
       "      <td>800310243</td>\n",
       "      <td>60604.0</td>\n",
       "      <td>9.0</td>\n",
       "      <td>0.014851</td>\n",
       "      <td>True</td>\n",
       "    </tr>\n",
       "    <tr>\n",
       "      <th>2024-05-01 00:00:03.806</th>\n",
       "      <td>800310244</td>\n",
       "      <td>60604.0</td>\n",
       "      <td>16.0</td>\n",
       "      <td>0.026401</td>\n",
       "      <td>True</td>\n",
       "    </tr>\n",
       "    <tr>\n",
       "      <th>2024-05-01 00:00:03.809</th>\n",
       "      <td>800310245</td>\n",
       "      <td>60604.0</td>\n",
       "      <td>11.0</td>\n",
       "      <td>0.018151</td>\n",
       "      <td>True</td>\n",
       "    </tr>\n",
       "    <tr>\n",
       "      <th>2024-05-01 00:00:03.809</th>\n",
       "      <td>800310246</td>\n",
       "      <td>60604.0</td>\n",
       "      <td>11.0</td>\n",
       "      <td>0.018151</td>\n",
       "      <td>True</td>\n",
       "    </tr>\n",
       "    <tr>\n",
       "      <th>2024-05-01 00:00:03.809</th>\n",
       "      <td>800310247</td>\n",
       "      <td>60604.0</td>\n",
       "      <td>1.0</td>\n",
       "      <td>0.001650</td>\n",
       "      <td>True</td>\n",
       "    </tr>\n",
       "    <tr>\n",
       "      <th>2024-05-01 00:00:03.809</th>\n",
       "      <td>800310248</td>\n",
       "      <td>60604.0</td>\n",
       "      <td>10.0</td>\n",
       "      <td>0.016501</td>\n",
       "      <td>True</td>\n",
       "    </tr>\n",
       "    <tr>\n",
       "      <th>2024-05-01 00:00:03.810</th>\n",
       "      <td>800310249</td>\n",
       "      <td>60604.0</td>\n",
       "      <td>5.0</td>\n",
       "      <td>0.008250</td>\n",
       "      <td>True</td>\n",
       "    </tr>\n",
       "  </tbody>\n",
       "</table>\n",
       "</div>"
      ],
      "text/plain": [
       "                                id    price   qty  base_qty  is_buyer_maker\n",
       "time                                                                       \n",
       "2024-05-01 00:00:02.481  800310240  60604.0   1.0  0.001650            True\n",
       "2024-05-01 00:00:02.924  800310241  60604.0   1.0  0.001650            True\n",
       "2024-05-01 00:00:03.805  800310242  60604.0  23.0  0.037951            True\n",
       "2024-05-01 00:00:03.806  800310243  60604.0   9.0  0.014851            True\n",
       "2024-05-01 00:00:03.806  800310244  60604.0  16.0  0.026401            True\n",
       "2024-05-01 00:00:03.809  800310245  60604.0  11.0  0.018151            True\n",
       "2024-05-01 00:00:03.809  800310246  60604.0  11.0  0.018151            True\n",
       "2024-05-01 00:00:03.809  800310247  60604.0   1.0  0.001650            True\n",
       "2024-05-01 00:00:03.809  800310248  60604.0  10.0  0.016501            True\n",
       "2024-05-01 00:00:03.810  800310249  60604.0   5.0  0.008250            True"
      ]
     },
     "metadata": {},
     "output_type": "display_data"
    }
   ],
   "source": [
    "## convertendo a coluna 'time' para datetime\n",
    "data['time'] = pd.to_datetime(data['time'], unit='ms')\n",
    "data.set_index('time', inplace=True)\n",
    "\n",
    "display(data.head(10))"
   ]
  },
  {
   "cell_type": "code",
   "execution_count": 52,
   "metadata": {},
   "outputs": [
    {
     "data": {
      "text/html": [
       "<div>\n",
       "<style scoped>\n",
       "    .dataframe tbody tr th:only-of-type {\n",
       "        vertical-align: middle;\n",
       "    }\n",
       "\n",
       "    .dataframe tbody tr th {\n",
       "        vertical-align: top;\n",
       "    }\n",
       "\n",
       "    .dataframe thead th {\n",
       "        text-align: right;\n",
       "    }\n",
       "</style>\n",
       "<table border=\"1\" class=\"dataframe\">\n",
       "  <thead>\n",
       "    <tr style=\"text-align: right;\">\n",
       "      <th></th>\n",
       "      <th>id</th>\n",
       "      <th>price</th>\n",
       "      <th>qty</th>\n",
       "      <th>base_qty</th>\n",
       "      <th>is_buyer_maker</th>\n",
       "    </tr>\n",
       "    <tr>\n",
       "      <th>time</th>\n",
       "      <th></th>\n",
       "      <th></th>\n",
       "      <th></th>\n",
       "      <th></th>\n",
       "      <th></th>\n",
       "    </tr>\n",
       "  </thead>\n",
       "  <tbody>\n",
       "    <tr>\n",
       "      <th>2024-05-01 00:00:02.481</th>\n",
       "      <td>800310240</td>\n",
       "      <td>60604.0</td>\n",
       "      <td>1.0</td>\n",
       "      <td>0.001650</td>\n",
       "      <td>True</td>\n",
       "    </tr>\n",
       "    <tr>\n",
       "      <th>2024-05-01 00:00:02.924</th>\n",
       "      <td>800310241</td>\n",
       "      <td>60604.0</td>\n",
       "      <td>1.0</td>\n",
       "      <td>0.001650</td>\n",
       "      <td>True</td>\n",
       "    </tr>\n",
       "    <tr>\n",
       "      <th>2024-05-01 00:00:03.805</th>\n",
       "      <td>800310242</td>\n",
       "      <td>60604.0</td>\n",
       "      <td>23.0</td>\n",
       "      <td>0.037951</td>\n",
       "      <td>True</td>\n",
       "    </tr>\n",
       "    <tr>\n",
       "      <th>2024-05-01 00:00:03.806</th>\n",
       "      <td>800310243</td>\n",
       "      <td>60604.0</td>\n",
       "      <td>9.0</td>\n",
       "      <td>0.014851</td>\n",
       "      <td>True</td>\n",
       "    </tr>\n",
       "    <tr>\n",
       "      <th>2024-05-01 00:00:03.806</th>\n",
       "      <td>800310244</td>\n",
       "      <td>60604.0</td>\n",
       "      <td>16.0</td>\n",
       "      <td>0.026401</td>\n",
       "      <td>True</td>\n",
       "    </tr>\n",
       "    <tr>\n",
       "      <th>2024-05-01 00:00:03.809</th>\n",
       "      <td>800310245</td>\n",
       "      <td>60604.0</td>\n",
       "      <td>11.0</td>\n",
       "      <td>0.018151</td>\n",
       "      <td>True</td>\n",
       "    </tr>\n",
       "    <tr>\n",
       "      <th>2024-05-01 00:00:03.809</th>\n",
       "      <td>800310246</td>\n",
       "      <td>60604.0</td>\n",
       "      <td>11.0</td>\n",
       "      <td>0.018151</td>\n",
       "      <td>True</td>\n",
       "    </tr>\n",
       "    <tr>\n",
       "      <th>2024-05-01 00:00:03.809</th>\n",
       "      <td>800310247</td>\n",
       "      <td>60604.0</td>\n",
       "      <td>1.0</td>\n",
       "      <td>0.001650</td>\n",
       "      <td>True</td>\n",
       "    </tr>\n",
       "    <tr>\n",
       "      <th>2024-05-01 00:00:03.809</th>\n",
       "      <td>800310248</td>\n",
       "      <td>60604.0</td>\n",
       "      <td>10.0</td>\n",
       "      <td>0.016501</td>\n",
       "      <td>True</td>\n",
       "    </tr>\n",
       "    <tr>\n",
       "      <th>2024-05-01 00:00:03.810</th>\n",
       "      <td>800310249</td>\n",
       "      <td>60604.0</td>\n",
       "      <td>5.0</td>\n",
       "      <td>0.008250</td>\n",
       "      <td>True</td>\n",
       "    </tr>\n",
       "    <tr>\n",
       "      <th>2024-05-01 00:00:03.812</th>\n",
       "      <td>800310250</td>\n",
       "      <td>60604.0</td>\n",
       "      <td>11.0</td>\n",
       "      <td>0.018151</td>\n",
       "      <td>True</td>\n",
       "    </tr>\n",
       "    <tr>\n",
       "      <th>2024-05-01 00:00:03.812</th>\n",
       "      <td>800310251</td>\n",
       "      <td>60603.5</td>\n",
       "      <td>1.0</td>\n",
       "      <td>0.001650</td>\n",
       "      <td>True</td>\n",
       "    </tr>\n",
       "    <tr>\n",
       "      <th>2024-05-01 00:00:03.832</th>\n",
       "      <td>800310252</td>\n",
       "      <td>60601.0</td>\n",
       "      <td>1.0</td>\n",
       "      <td>0.001650</td>\n",
       "      <td>True</td>\n",
       "    </tr>\n",
       "    <tr>\n",
       "      <th>2024-05-01 00:00:03.832</th>\n",
       "      <td>800310253</td>\n",
       "      <td>60600.2</td>\n",
       "      <td>39.0</td>\n",
       "      <td>0.064356</td>\n",
       "      <td>True</td>\n",
       "    </tr>\n",
       "    <tr>\n",
       "      <th>2024-05-01 00:00:03.832</th>\n",
       "      <td>800310254</td>\n",
       "      <td>60600.2</td>\n",
       "      <td>24.0</td>\n",
       "      <td>0.039604</td>\n",
       "      <td>True</td>\n",
       "    </tr>\n",
       "    <tr>\n",
       "      <th>2024-05-01 00:00:03.832</th>\n",
       "      <td>800310255</td>\n",
       "      <td>60600.0</td>\n",
       "      <td>48.0</td>\n",
       "      <td>0.079208</td>\n",
       "      <td>True</td>\n",
       "    </tr>\n",
       "    <tr>\n",
       "      <th>2024-05-01 00:00:03.832</th>\n",
       "      <td>800310256</td>\n",
       "      <td>60599.9</td>\n",
       "      <td>3.0</td>\n",
       "      <td>0.004951</td>\n",
       "      <td>True</td>\n",
       "    </tr>\n",
       "    <tr>\n",
       "      <th>2024-05-01 00:00:03.832</th>\n",
       "      <td>800310257</td>\n",
       "      <td>60599.9</td>\n",
       "      <td>3.0</td>\n",
       "      <td>0.004951</td>\n",
       "      <td>True</td>\n",
       "    </tr>\n",
       "    <tr>\n",
       "      <th>2024-05-01 00:00:03.832</th>\n",
       "      <td>800310258</td>\n",
       "      <td>60599.2</td>\n",
       "      <td>33.0</td>\n",
       "      <td>0.054456</td>\n",
       "      <td>True</td>\n",
       "    </tr>\n",
       "    <tr>\n",
       "      <th>2024-05-01 00:00:03.832</th>\n",
       "      <td>800310259</td>\n",
       "      <td>60598.2</td>\n",
       "      <td>9.0</td>\n",
       "      <td>0.014852</td>\n",
       "      <td>True</td>\n",
       "    </tr>\n",
       "    <tr>\n",
       "      <th>2024-05-01 00:00:03.832</th>\n",
       "      <td>800310260</td>\n",
       "      <td>60598.0</td>\n",
       "      <td>48.0</td>\n",
       "      <td>0.079211</td>\n",
       "      <td>True</td>\n",
       "    </tr>\n",
       "    <tr>\n",
       "      <th>2024-05-01 00:00:03.832</th>\n",
       "      <td>800310261</td>\n",
       "      <td>60597.7</td>\n",
       "      <td>1.0</td>\n",
       "      <td>0.001650</td>\n",
       "      <td>True</td>\n",
       "    </tr>\n",
       "    <tr>\n",
       "      <th>2024-05-01 00:00:03.832</th>\n",
       "      <td>800310262</td>\n",
       "      <td>60597.5</td>\n",
       "      <td>12.0</td>\n",
       "      <td>0.019803</td>\n",
       "      <td>True</td>\n",
       "    </tr>\n",
       "    <tr>\n",
       "      <th>2024-05-01 00:00:03.832</th>\n",
       "      <td>800310263</td>\n",
       "      <td>60596.3</td>\n",
       "      <td>17.0</td>\n",
       "      <td>0.028055</td>\n",
       "      <td>True</td>\n",
       "    </tr>\n",
       "    <tr>\n",
       "      <th>2024-05-01 00:00:03.842</th>\n",
       "      <td>800310264</td>\n",
       "      <td>60596.3</td>\n",
       "      <td>35.0</td>\n",
       "      <td>0.057759</td>\n",
       "      <td>True</td>\n",
       "    </tr>\n",
       "    <tr>\n",
       "      <th>2024-05-01 00:00:03.842</th>\n",
       "      <td>800310265</td>\n",
       "      <td>60595.9</td>\n",
       "      <td>3.0</td>\n",
       "      <td>0.004951</td>\n",
       "      <td>True</td>\n",
       "    </tr>\n",
       "    <tr>\n",
       "      <th>2024-05-01 00:00:03.842</th>\n",
       "      <td>800310266</td>\n",
       "      <td>60595.9</td>\n",
       "      <td>6.0</td>\n",
       "      <td>0.009902</td>\n",
       "      <td>True</td>\n",
       "    </tr>\n",
       "    <tr>\n",
       "      <th>2024-05-01 00:00:04.335</th>\n",
       "      <td>800310267</td>\n",
       "      <td>60594.1</td>\n",
       "      <td>401.0</td>\n",
       "      <td>0.661781</td>\n",
       "      <td>False</td>\n",
       "    </tr>\n",
       "    <tr>\n",
       "      <th>2024-05-01 00:00:04.335</th>\n",
       "      <td>800310268</td>\n",
       "      <td>60594.1</td>\n",
       "      <td>301.0</td>\n",
       "      <td>0.496748</td>\n",
       "      <td>False</td>\n",
       "    </tr>\n",
       "    <tr>\n",
       "      <th>2024-05-01 00:00:04.335</th>\n",
       "      <td>800310269</td>\n",
       "      <td>60594.1</td>\n",
       "      <td>68.0</td>\n",
       "      <td>0.112222</td>\n",
       "      <td>False</td>\n",
       "    </tr>\n",
       "  </tbody>\n",
       "</table>\n",
       "</div>"
      ],
      "text/plain": [
       "                                id    price    qty  base_qty  is_buyer_maker\n",
       "time                                                                        \n",
       "2024-05-01 00:00:02.481  800310240  60604.0    1.0  0.001650            True\n",
       "2024-05-01 00:00:02.924  800310241  60604.0    1.0  0.001650            True\n",
       "2024-05-01 00:00:03.805  800310242  60604.0   23.0  0.037951            True\n",
       "2024-05-01 00:00:03.806  800310243  60604.0    9.0  0.014851            True\n",
       "2024-05-01 00:00:03.806  800310244  60604.0   16.0  0.026401            True\n",
       "2024-05-01 00:00:03.809  800310245  60604.0   11.0  0.018151            True\n",
       "2024-05-01 00:00:03.809  800310246  60604.0   11.0  0.018151            True\n",
       "2024-05-01 00:00:03.809  800310247  60604.0    1.0  0.001650            True\n",
       "2024-05-01 00:00:03.809  800310248  60604.0   10.0  0.016501            True\n",
       "2024-05-01 00:00:03.810  800310249  60604.0    5.0  0.008250            True\n",
       "2024-05-01 00:00:03.812  800310250  60604.0   11.0  0.018151            True\n",
       "2024-05-01 00:00:03.812  800310251  60603.5    1.0  0.001650            True\n",
       "2024-05-01 00:00:03.832  800310252  60601.0    1.0  0.001650            True\n",
       "2024-05-01 00:00:03.832  800310253  60600.2   39.0  0.064356            True\n",
       "2024-05-01 00:00:03.832  800310254  60600.2   24.0  0.039604            True\n",
       "2024-05-01 00:00:03.832  800310255  60600.0   48.0  0.079208            True\n",
       "2024-05-01 00:00:03.832  800310256  60599.9    3.0  0.004951            True\n",
       "2024-05-01 00:00:03.832  800310257  60599.9    3.0  0.004951            True\n",
       "2024-05-01 00:00:03.832  800310258  60599.2   33.0  0.054456            True\n",
       "2024-05-01 00:00:03.832  800310259  60598.2    9.0  0.014852            True\n",
       "2024-05-01 00:00:03.832  800310260  60598.0   48.0  0.079211            True\n",
       "2024-05-01 00:00:03.832  800310261  60597.7    1.0  0.001650            True\n",
       "2024-05-01 00:00:03.832  800310262  60597.5   12.0  0.019803            True\n",
       "2024-05-01 00:00:03.832  800310263  60596.3   17.0  0.028055            True\n",
       "2024-05-01 00:00:03.842  800310264  60596.3   35.0  0.057759            True\n",
       "2024-05-01 00:00:03.842  800310265  60595.9    3.0  0.004951            True\n",
       "2024-05-01 00:00:03.842  800310266  60595.9    6.0  0.009902            True\n",
       "2024-05-01 00:00:04.335  800310267  60594.1  401.0  0.661781           False\n",
       "2024-05-01 00:00:04.335  800310268  60594.1  301.0  0.496748           False\n",
       "2024-05-01 00:00:04.335  800310269  60594.1   68.0  0.112222           False"
      ]
     },
     "metadata": {},
     "output_type": "display_data"
    }
   ],
   "source": [
    "# Visualizando 30 primeiras linhas\n",
    "display(data.head(30))"
   ]
  },
  {
   "cell_type": "markdown",
   "metadata": {},
   "source": [
    "## 3.1 Plotagem da Série Temporal usando gráfico de linhas"
   ]
  },
  {
   "cell_type": "markdown",
   "metadata": {},
   "source": [
    "O método `.normalize()` no contexto do Pandas e manipulação de séries temporais é usado para simplificar a comparação de datas e horários. Ao trabalhar com dados que incluem registros de tempo, você pode ter entradas com data/hora específicos até o milissegundo. No entanto, se você precisa filtrar dados apenas com base na data, ignorando a hora, minuto, segundo, etc., o método .normalize() se torna muito útil.\n",
    "\n",
    "Aqui está uma explicação detalhada de como funciona:\n",
    "\n",
    "- Normalização: \n",
    "    - Quando você aplica .normalize() a um `DatetimeIndex`, o Pandas ajusta todas as data/hora para que a parte do tempo seja definida para `meia-noite (00:00:00).` Isso significa que qualquer tempo dentro de um determinado dia é padronizado para a meia-noite daquele dia.\n",
    "- Filtragem de Data Específica: \n",
    "    - Ao normalizar o índice de tempo, você pode comparar facilmente esse índice normalizado com uma data completa (sem horário específico). \n",
    "    - No exemplo fornecido, `pd.to_datetime('2024-05-01')` converte a string para um objeto de data, especificamente para a `meia-noite de 1º de maio de 2024`. \n",
    "    - A comparação `df.index.normalize() == pd.to_datetime('2024-05-01')` verifica quais linhas no DataFrame têm um índice de data correspondente a essa data específica.\n",
    "\n",
    "Uso Prático: Isso é especialmente útil em análises financeiras, análises de séries temporais e qualquer aplicação onde dados são registrados em intervalos de tempo específicos, mas você deseja análises baseadas em datas sem se preocupar com os horários exatos."
   ]
  },
  {
   "cell_type": "code",
   "execution_count": 54,
   "metadata": {},
   "outputs": [
    {
     "data": {
      "text/plain": [
       "Index(['2024-05-01 00:00:00', '2024-05-01 00:00:00', '2024-05-01 00:00:00',\n",
       "       '2024-05-01 00:00:00', '2024-05-01 00:00:00', '2024-05-01 00:00:00',\n",
       "       '2024-05-01 00:00:00', '2024-05-01 00:00:00', '2024-05-01 00:00:00',\n",
       "       '2024-05-01 00:00:00',\n",
       "       ...\n",
       "       '2024-05-01 00:00:00', '2024-05-01 00:00:00', '2024-05-01 00:00:00',\n",
       "       '2024-05-01 00:00:00', '2024-05-01 00:00:00', '2024-05-01 00:00:00',\n",
       "       '2024-05-01 00:00:00', '2024-05-01 00:00:00', '2024-05-01 00:00:00',\n",
       "       '2024-05-01 00:00:00'],\n",
       "      dtype='object', name='time', length=1332141)"
      ]
     },
     "execution_count": 54,
     "metadata": {},
     "output_type": "execute_result"
    }
   ],
   "source": [
    "# Verificando a saída de dados do método .normalize() para o índice do DataFrame data\n",
    "# strftime() é um método para formatar a data para o formato especificado pela string passada como argumento\n",
    "data.index.normalize().strftime('%Y-%m-%d %H:%M:%S')"
   ]
  },
  {
   "cell_type": "code",
   "execution_count": 82,
   "metadata": {},
   "outputs": [
    {
     "data": {
      "text/html": [
       "<div>\n",
       "<style scoped>\n",
       "    .dataframe tbody tr th:only-of-type {\n",
       "        vertical-align: middle;\n",
       "    }\n",
       "\n",
       "    .dataframe tbody tr th {\n",
       "        vertical-align: top;\n",
       "    }\n",
       "\n",
       "    .dataframe thead th {\n",
       "        text-align: right;\n",
       "    }\n",
       "</style>\n",
       "<table border=\"1\" class=\"dataframe\">\n",
       "  <thead>\n",
       "    <tr style=\"text-align: right;\">\n",
       "      <th></th>\n",
       "      <th>id</th>\n",
       "      <th>price</th>\n",
       "      <th>qty</th>\n",
       "      <th>base_qty</th>\n",
       "      <th>is_buyer_maker</th>\n",
       "    </tr>\n",
       "    <tr>\n",
       "      <th>time</th>\n",
       "      <th></th>\n",
       "      <th></th>\n",
       "      <th></th>\n",
       "      <th></th>\n",
       "      <th></th>\n",
       "    </tr>\n",
       "  </thead>\n",
       "  <tbody>\n",
       "    <tr>\n",
       "      <th>2024-05-01 00:00:02.481</th>\n",
       "      <td>800310240</td>\n",
       "      <td>60604.0</td>\n",
       "      <td>1.0</td>\n",
       "      <td>0.001650</td>\n",
       "      <td>True</td>\n",
       "    </tr>\n",
       "    <tr>\n",
       "      <th>2024-05-01 00:00:02.924</th>\n",
       "      <td>800310241</td>\n",
       "      <td>60604.0</td>\n",
       "      <td>1.0</td>\n",
       "      <td>0.001650</td>\n",
       "      <td>True</td>\n",
       "    </tr>\n",
       "    <tr>\n",
       "      <th>2024-05-01 00:00:03.805</th>\n",
       "      <td>800310242</td>\n",
       "      <td>60604.0</td>\n",
       "      <td>23.0</td>\n",
       "      <td>0.037951</td>\n",
       "      <td>True</td>\n",
       "    </tr>\n",
       "    <tr>\n",
       "      <th>2024-05-01 00:00:03.806</th>\n",
       "      <td>800310243</td>\n",
       "      <td>60604.0</td>\n",
       "      <td>9.0</td>\n",
       "      <td>0.014851</td>\n",
       "      <td>True</td>\n",
       "    </tr>\n",
       "    <tr>\n",
       "      <th>2024-05-01 00:00:03.806</th>\n",
       "      <td>800310244</td>\n",
       "      <td>60604.0</td>\n",
       "      <td>16.0</td>\n",
       "      <td>0.026401</td>\n",
       "      <td>True</td>\n",
       "    </tr>\n",
       "    <tr>\n",
       "      <th>2024-05-01 00:00:03.809</th>\n",
       "      <td>800310245</td>\n",
       "      <td>60604.0</td>\n",
       "      <td>11.0</td>\n",
       "      <td>0.018151</td>\n",
       "      <td>True</td>\n",
       "    </tr>\n",
       "    <tr>\n",
       "      <th>2024-05-01 00:00:03.809</th>\n",
       "      <td>800310246</td>\n",
       "      <td>60604.0</td>\n",
       "      <td>11.0</td>\n",
       "      <td>0.018151</td>\n",
       "      <td>True</td>\n",
       "    </tr>\n",
       "    <tr>\n",
       "      <th>2024-05-01 00:00:03.809</th>\n",
       "      <td>800310247</td>\n",
       "      <td>60604.0</td>\n",
       "      <td>1.0</td>\n",
       "      <td>0.001650</td>\n",
       "      <td>True</td>\n",
       "    </tr>\n",
       "    <tr>\n",
       "      <th>2024-05-01 00:00:03.809</th>\n",
       "      <td>800310248</td>\n",
       "      <td>60604.0</td>\n",
       "      <td>10.0</td>\n",
       "      <td>0.016501</td>\n",
       "      <td>True</td>\n",
       "    </tr>\n",
       "    <tr>\n",
       "      <th>2024-05-01 00:00:03.810</th>\n",
       "      <td>800310249</td>\n",
       "      <td>60604.0</td>\n",
       "      <td>5.0</td>\n",
       "      <td>0.008250</td>\n",
       "      <td>True</td>\n",
       "    </tr>\n",
       "  </tbody>\n",
       "</table>\n",
       "</div>"
      ],
      "text/plain": [
       "                                id    price   qty  base_qty  is_buyer_maker\n",
       "time                                                                       \n",
       "2024-05-01 00:00:02.481  800310240  60604.0   1.0  0.001650            True\n",
       "2024-05-01 00:00:02.924  800310241  60604.0   1.0  0.001650            True\n",
       "2024-05-01 00:00:03.805  800310242  60604.0  23.0  0.037951            True\n",
       "2024-05-01 00:00:03.806  800310243  60604.0   9.0  0.014851            True\n",
       "2024-05-01 00:00:03.806  800310244  60604.0  16.0  0.026401            True\n",
       "2024-05-01 00:00:03.809  800310245  60604.0  11.0  0.018151            True\n",
       "2024-05-01 00:00:03.809  800310246  60604.0  11.0  0.018151            True\n",
       "2024-05-01 00:00:03.809  800310247  60604.0   1.0  0.001650            True\n",
       "2024-05-01 00:00:03.809  800310248  60604.0  10.0  0.016501            True\n",
       "2024-05-01 00:00:03.810  800310249  60604.0   5.0  0.008250            True"
      ]
     },
     "metadata": {},
     "output_type": "display_data"
    }
   ],
   "source": [
    "# Supondo que 'time' já é o índice e você quer filtrar por um dia específico\n",
    "df_filtered = data[data.index.normalize() == pd.to_datetime('2024-05-01')]\n",
    "display(df_filtered.head(10))"
   ]
  },
  {
   "cell_type": "markdown",
   "metadata": {},
   "source": [
    "Aqui, visualizamos como o preço da criptomoeda evoluiu ao longo do tempo em 2024-05-01."
   ]
  },
  {
   "cell_type": "code",
   "execution_count": 56,
   "metadata": {},
   "outputs": [
    {
     "data": {
      "image/png": "[encoded data removed]",
      "text/plain": [
       "<Figure size 1200x600 with 1 Axes>"
      ]
     },
     "metadata": {},
     "output_type": "display_data"
    }
   ],
   "source": [
    "plt.figure(figsize=(12, 6))\n",
    "plt.plot(df_filtered.index, df_filtered['price'], label='Preço')\n",
    "plt.title('Evolução do Preço no Dia 2024-05-01')\n",
    "plt.xlabel('Hora')\n",
    "plt.ylabel('Preço em USD')\n",
    "plt.legend()\n",
    "plt.grid(True)\n",
    "plt.show()"
   ]
  },
  {
   "cell_type": "markdown",
   "metadata": {},
   "source": [
    "## 3.2 Análise do Volume de Transações por Hora usando gráfico de barras"
   ]
  },
  {
   "cell_type": "markdown",
   "metadata": {},
   "source": [
    "Agruparemos os dados por hora para visualizar o volume de vendas e compras. Vamos ajustar o código para garantir que ele funcione corretamente ao filtrar os dados para o dia específico e, em seguida, calcular o volume de transações de compra e venda por hora. Utilizaremos as colunas `qty` e `is_buyer_maker`."
   ]
  },
  {
   "cell_type": "code",
   "execution_count": 57,
   "metadata": {},
   "outputs": [
    {
     "data": {
      "text/plain": [
       "<Figure size 1000x600 with 0 Axes>"
      ]
     },
     "metadata": {},
     "output_type": "display_data"
    },
    {
     "data": {
      "image/png": "[encoded data removed]",
      "text/plain": [
       "<Figure size 640x480 with 1 Axes>"
      ]
     },
     "metadata": {},
     "output_type": "display_data"
    }
   ],
   "source": [
    "import pandas as pd\n",
    "import matplotlib.pyplot as plt\n",
    "\n",
    "# Supondo que 'data' já é o DataFrame com 'time' como índice\n",
    "\n",
    "# Filtrar os dados para o dia específico\n",
    "df_filtered = data[data.index.normalize() == pd.to_datetime('2024-05-01')]\n",
    "\n",
    "# Criar colunas para armazenar o volume de compra e venda\n",
    "df_filtered['buy_volume'] = df_filtered['qty'].where(df_filtered['is_buyer_maker'] == True, 0)\n",
    "df_filtered['sell_volume'] = df_filtered['qty'].where(df_filtered['is_buyer_maker'] == False, 0)\n",
    "\n",
    "# Agrupar por hora e calcular o volume total de compra e venda\n",
    "df_filtered['hour'] = df_filtered.index.hour\n",
    "hourly_volume = df_filtered.groupby('hour').agg({\n",
    "    'buy_volume': 'sum',\n",
    "    'sell_volume': 'sum'\n",
    "})\n",
    "\n",
    "# Plotando os volumes de compra e venda\n",
    "plt.figure(figsize=(10, 6))\n",
    "hourly_volume[['buy_volume', 'sell_volume']].plot(kind='bar', stacked=True, color=['blue', 'red'], alpha=0.7)\n",
    "plt.title('Volume de Transações por Hora em 2024-05-01')\n",
    "plt.xlabel('Hora do Dia')\n",
    "plt.ylabel('Quantidade Transacionada')\n",
    "plt.xticks(rotation=0)\n",
    "plt.legend(['Volume de Compras', 'Volume de Vendas'])\n",
    "plt.show()\n"
   ]
  },
  {
   "cell_type": "markdown",
   "metadata": {},
   "source": [
    "**Explicação Simplificada do Código**\n",
    "- **Filtragem por Data**\n",
    "    - O código filtra os dados para manter apenas os registros do dia 2024-05-01.\n",
    "\n",
    "- **Cálculo dos Volumes de Compra e Venda**\n",
    "    - Usamos a coluna is_buyer_maker para determinar se uma transação foi uma compra (True) ou uma venda (False). Duas novas colunas, buy_volume e sell_volume, são criadas para armazenar esses volumes.\n",
    "\n",
    "- **Agrupamento por Hora**\n",
    "    - Agrupamos os dados por hora (hour) e somamos os volumes de compra e venda para cada hora do dia.\n",
    "\n",
    "- **Plotagem**\n",
    "    - Finalmente, um gráfico de barras empilhadas é gerado, onde as barras azuis representam o volume de compras e as vermelhas, o volume de vendas.\n",
    "\n",
    "**Explicação Detalhada do Código**\n",
    "- Gráfico de Barras Empilhadas\n",
    "    - Este gráfico mostra o volume de transações por hora no dia 1 de maio de 2024. Cada barra representa uma hora do dia, com o volume de compras e vendas empilhados para facilitar a comparação.\n",
    "    - Código e Parâmetros\n",
    "        - **`plt.figure(figsize=(10, 6))`**: Define o tamanho da figura.\n",
    "        - **`kind='bar'`**: Tipo de gráfico de barras verticais.\n",
    "        - **`stacked=True`**: As barras de compras e vendas são empilhadas.\n",
    "        - **`color=['blue', 'red']`**: Cores das barras para compras e vendas.\n",
    "        - **`alpha=0.7`**: Transparência das barras.\n",
    "    - Rótulos e Estilo\n",
    "        - **Título**: 'Volume de Transações por Hora em 2024-05-01'.\n",
    "        - **Eixos**: 'Hora do Dia' (x) e 'Quantidade Transacionada' (y).\n",
    "        - **Legenda**: Distingue 'Volume de Compras' e 'Volume de Vendas'."
   ]
  },
  {
   "cell_type": "markdown",
   "metadata": {},
   "source": [
    "**Gráfico de barras horinzontal**  \n",
    "  \n",
    "Para criar um gráfico de barras horizontal e exibir os volumes de compra e venda lado a lado por hora, você pode modificar o código da seguinte forma:"
   ]
  },
  {
   "cell_type": "code",
   "execution_count": 58,
   "metadata": {},
   "outputs": [
    {
     "data": {
      "text/plain": [
       "<Figure size 1200x800 with 0 Axes>"
      ]
     },
     "metadata": {},
     "output_type": "display_data"
    },
    {
     "data": {
      "image/png": "[encoded data removed]",
      "text/plain": [
       "<Figure size 640x480 with 1 Axes>"
      ]
     },
     "metadata": {},
     "output_type": "display_data"
    }
   ],
   "source": [
    "# Plotando os volumes de compra e venda lado a lado em barras horizontais\n",
    "plt.figure(figsize=(12, 8))\n",
    "hourly_volume[['buy_volume', 'sell_volume']].plot(kind='barh', color=['blue', 'red'], alpha=0.7)\n",
    "plt.title('Volume de Transações por Hora em 2024-05-01')\n",
    "plt.ylabel('Hora do Dia')\n",
    "plt.xlabel('Quantidade Transacionada')\n",
    "plt.legend(['Volume de Compras', 'Volume de Vendas'])\n",
    "plt.grid(True)\n",
    "plt.show()"
   ]
  },
  {
   "cell_type": "markdown",
   "metadata": {},
   "source": [
    "\n",
    "- Gráfico de Barras Horizontais\n",
    "    - Este gráfico também mostra o volume de transações por hora, mas em formato de barras horizontais, facilitando a visualização de períodos com maior atividade.\n",
    "    - Código e Parâmetros\n",
    "        - **`plt.figure(figsize=(12, 8))`**: Define o tamanho da figura.\n",
    "        - **`kind='barh'`**: Tipo de gráfico de barras horizontais.\n",
    "        - **`color=['blue', 'red']`**: Cores das barras para compras e vendas.\n",
    "        - **`alpha=0.7`**: Transparência das barras.\n",
    "    - Rótulos e Estilo\n",
    "        - **Título**: 'Volume de Transações por Hora em 2024-05-01'.\n",
    "        - **Eixos**: 'Quantidade Transacionada' (x) e 'Hora do Dia' (y).\n",
    "        - **Legenda**: Distingue 'Volume de Compras' e 'Volume de Vendas'.\n",
    "        - **Grade**: Ativada para melhorar a leitura dos valores.\n",
    "\n",
    "Ambos os gráficos são úteis para analisar o comportamento do mercado ao longo do dia e identificar picos de atividade de compra ou venda."
   ]
  },
  {
   "cell_type": "markdown",
   "metadata": {},
   "source": [
    "## 3.3 Subplots"
   ]
  },
  {
   "cell_type": "markdown",
   "metadata": {},
   "source": [
    "Aqui está um exemplo de como você pode estruturar a análise dos dados de transações Bitcoin usando subplots para visualizar diferentes aspectos do dataset em uma única figura. Este script criará subplots para o preço médio, volume total de transações e a proporção de transações de compra versus venda ao longo do tempo.\n",
    "Antes de plotar, primeiro realizaremos o agrupamento por Hora usando resample('H') para agrupar os dados por cada hora. Depois, realizaremos o cálculo de estatísticas:\n",
    "- preço médio\n",
    "- o volume total \n",
    "- e a proporção de transações de compra para cada grupo horário.\n",
    "\n",
    "Em seguida, vamos usar Matplotlib para criar estes gráficos. Nós iremos gerar 3 gráficos (subplots): \n",
    "- O primeiro gráfico mostra a variação do preço médio ao longo do tempo.\n",
    "- O segundo gráfico exibe o volume total de transações por hora em barras.\n",
    "- O terceiro gráfico mostra a proporção de transações de compra, também em barras, indicando o comportamento do mercado."
   ]
  },
  {
   "cell_type": "markdown",
   "metadata": {},
   "source": [
    "**Criação da Coluna `is_seller_maker`**\n",
    "- A coluna `is_seller_maker` representa o inverso de `is_buyer_maker`, indicando vendas (False). Aqui está como adicionar esta nova coluna ao DataFrame"
   ]
  },
  {
   "cell_type": "code",
   "execution_count": 65,
   "metadata": {},
   "outputs": [],
   "source": [
    "data['is_seller_maker'] = ~data['is_buyer_maker']"
   ]
  },
  {
   "cell_type": "markdown",
   "metadata": {},
   "source": [
    "**Reamostragem e Agregação**\n",
    "\n",
    "- Uma vez que a nova coluna é criada, você pode proceder com a reamostragem do DataFrame por hora e agregando os dados de acordo. Aqui está como ajustar o DataFrame para lidar corretamente com dados de séries temporais e realizar a agregação:"
   ]
  },
  {
   "cell_type": "code",
   "execution_count": 93,
   "metadata": {},
   "outputs": [],
   "source": [
    "import matplotlib.pyplot as plt\n",
    "import pandas as pd\n",
    "\n",
    "# Suponha que 'data' é seu DataFrame contendo os dados de Bitcoin com uma coluna 'time' como datetime index\n",
    "\n",
    "# Supondo que 'time' já é o índice e você quer filtrar por um dia específico\n",
    "df_filtered = data[data.index.normalize() == pd.to_datetime('2024-05-01')]\n",
    "\n",
    "# Criar colunas para armazenar o volume de compra e venda\n",
    "df_filtered['buy_volume'] = df_filtered['qty'].where(df_filtered['is_buyer_maker'] == True, 0)\n",
    "df_filtered['sell_volume'] = df_filtered['qty'].where(df_filtered['is_buyer_maker'] == False, 0)\n",
    "\n",
    "# Agrupando os dados por hora\n",
    "hourly_stats = df_filtered.resample('H').agg({\n",
    "    'price': 'mean',  # Preço médio por hora\n",
    "    'qty': 'sum',  # Volume total de transações por hora\n",
    "    'buy_volume': 'sum',  # Total de compras\n",
    "    'sell_volume':'sum' # Proporção de vendas\n",
    "})\n",
    "\n",
    "# Calculando proporções de compras e vendas\n",
    "hourly_stats['buy_ratio'] = hourly_stats['buy_volume'] / (hourly_stats['buy_volume'] + hourly_stats['sell_volume'])\n",
    "hourly_stats['sell_ratio'] = hourly_stats['sell_volume'] / (hourly_stats['buy_volume'] + hourly_stats['sell_volume'])"
   ]
  },
  {
   "cell_type": "code",
   "execution_count": 94,
   "metadata": {},
   "outputs": [
    {
     "data": {
      "text/html": [
       "<div>\n",
       "<style scoped>\n",
       "    .dataframe tbody tr th:only-of-type {\n",
       "        vertical-align: middle;\n",
       "    }\n",
       "\n",
       "    .dataframe tbody tr th {\n",
       "        vertical-align: top;\n",
       "    }\n",
       "\n",
       "    .dataframe thead th {\n",
       "        text-align: right;\n",
       "    }\n",
       "</style>\n",
       "<table border=\"1\" class=\"dataframe\">\n",
       "  <thead>\n",
       "    <tr style=\"text-align: right;\">\n",
       "      <th></th>\n",
       "      <th>price</th>\n",
       "      <th>qty</th>\n",
       "      <th>buy_volume</th>\n",
       "      <th>sell_volume</th>\n",
       "      <th>buy_ratio</th>\n",
       "      <th>sell_ratio</th>\n",
       "    </tr>\n",
       "    <tr>\n",
       "      <th>time</th>\n",
       "      <th></th>\n",
       "      <th></th>\n",
       "      <th></th>\n",
       "      <th></th>\n",
       "      <th></th>\n",
       "      <th></th>\n",
       "    </tr>\n",
       "  </thead>\n",
       "  <tbody>\n",
       "    <tr>\n",
       "      <th>2024-05-01 00:00:00</th>\n",
       "      <td>60362.816061</td>\n",
       "      <td>1177021.0</td>\n",
       "      <td>651082.0</td>\n",
       "      <td>525939.0</td>\n",
       "      <td>0.553161</td>\n",
       "      <td>0.446839</td>\n",
       "    </tr>\n",
       "    <tr>\n",
       "      <th>2024-05-01 01:00:00</th>\n",
       "      <td>60052.044067</td>\n",
       "      <td>1310095.0</td>\n",
       "      <td>721165.0</td>\n",
       "      <td>588930.0</td>\n",
       "      <td>0.550468</td>\n",
       "      <td>0.449532</td>\n",
       "    </tr>\n",
       "    <tr>\n",
       "      <th>2024-05-01 02:00:00</th>\n",
       "      <td>59711.817400</td>\n",
       "      <td>1016325.0</td>\n",
       "      <td>516101.0</td>\n",
       "      <td>500224.0</td>\n",
       "      <td>0.507811</td>\n",
       "      <td>0.492189</td>\n",
       "    </tr>\n",
       "    <tr>\n",
       "      <th>2024-05-01 03:00:00</th>\n",
       "      <td>60017.249985</td>\n",
       "      <td>456328.0</td>\n",
       "      <td>189536.0</td>\n",
       "      <td>266792.0</td>\n",
       "      <td>0.415350</td>\n",
       "      <td>0.584650</td>\n",
       "    </tr>\n",
       "    <tr>\n",
       "      <th>2024-05-01 04:00:00</th>\n",
       "      <td>60189.900062</td>\n",
       "      <td>568764.0</td>\n",
       "      <td>285479.0</td>\n",
       "      <td>283285.0</td>\n",
       "      <td>0.501929</td>\n",
       "      <td>0.498071</td>\n",
       "    </tr>\n",
       "    <tr>\n",
       "      <th>2024-05-01 05:00:00</th>\n",
       "      <td>60026.933858</td>\n",
       "      <td>637753.0</td>\n",
       "      <td>363687.0</td>\n",
       "      <td>274066.0</td>\n",
       "      <td>0.570263</td>\n",
       "      <td>0.429737</td>\n",
       "    </tr>\n",
       "    <tr>\n",
       "      <th>2024-05-01 06:00:00</th>\n",
       "      <td>59717.716841</td>\n",
       "      <td>935935.0</td>\n",
       "      <td>498907.0</td>\n",
       "      <td>437028.0</td>\n",
       "      <td>0.533057</td>\n",
       "      <td>0.466943</td>\n",
       "    </tr>\n",
       "    <tr>\n",
       "      <th>2024-05-01 07:00:00</th>\n",
       "      <td>57981.478033</td>\n",
       "      <td>11422479.0</td>\n",
       "      <td>6190450.0</td>\n",
       "      <td>5232029.0</td>\n",
       "      <td>0.541953</td>\n",
       "      <td>0.458047</td>\n",
       "    </tr>\n",
       "    <tr>\n",
       "      <th>2024-05-01 08:00:00</th>\n",
       "      <td>56934.545149</td>\n",
       "      <td>6887089.0</td>\n",
       "      <td>3669861.0</td>\n",
       "      <td>3217228.0</td>\n",
       "      <td>0.532861</td>\n",
       "      <td>0.467139</td>\n",
       "    </tr>\n",
       "    <tr>\n",
       "      <th>2024-05-01 09:00:00</th>\n",
       "      <td>57196.166632</td>\n",
       "      <td>2315245.0</td>\n",
       "      <td>1129159.0</td>\n",
       "      <td>1186086.0</td>\n",
       "      <td>0.487706</td>\n",
       "      <td>0.512294</td>\n",
       "    </tr>\n",
       "  </tbody>\n",
       "</table>\n",
       "</div>"
      ],
      "text/plain": [
       "                            price         qty  buy_volume  sell_volume  \\\n",
       "time                                                                     \n",
       "2024-05-01 00:00:00  60362.816061   1177021.0    651082.0     525939.0   \n",
       "2024-05-01 01:00:00  60052.044067   1310095.0    721165.0     588930.0   \n",
       "2024-05-01 02:00:00  59711.817400   1016325.0    516101.0     500224.0   \n",
       "2024-05-01 03:00:00  60017.249985    456328.0    189536.0     266792.0   \n",
       "2024-05-01 04:00:00  60189.900062    568764.0    285479.0     283285.0   \n",
       "2024-05-01 05:00:00  60026.933858    637753.0    363687.0     274066.0   \n",
       "2024-05-01 06:00:00  59717.716841    935935.0    498907.0     437028.0   \n",
       "2024-05-01 07:00:00  57981.478033  11422479.0   6190450.0    5232029.0   \n",
       "2024-05-01 08:00:00  56934.545149   6887089.0   3669861.0    3217228.0   \n",
       "2024-05-01 09:00:00  57196.166632   2315245.0   1129159.0    1186086.0   \n",
       "\n",
       "                     buy_ratio  sell_ratio  \n",
       "time                                        \n",
       "2024-05-01 00:00:00   0.553161    0.446839  \n",
       "2024-05-01 01:00:00   0.550468    0.449532  \n",
       "2024-05-01 02:00:00   0.507811    0.492189  \n",
       "2024-05-01 03:00:00   0.415350    0.584650  \n",
       "2024-05-01 04:00:00   0.501929    0.498071  \n",
       "2024-05-01 05:00:00   0.570263    0.429737  \n",
       "2024-05-01 06:00:00   0.533057    0.466943  \n",
       "2024-05-01 07:00:00   0.541953    0.458047  \n",
       "2024-05-01 08:00:00   0.532861    0.467139  \n",
       "2024-05-01 09:00:00   0.487706    0.512294  "
      ]
     },
     "metadata": {},
     "output_type": "display_data"
    }
   ],
   "source": [
    "display(hourly_stats.head(10))"
   ]
  },
  {
   "cell_type": "markdown",
   "metadata": {},
   "source": [
    "**Plotagem**\n",
    "- Por fim, um gráfico de barras horizontais é gerado, onde as barras verdes representam o volume de compras e as vermelhas, o volume de vendas:"
   ]
  },
  {
   "cell_type": "code",
   "execution_count": 96,
   "metadata": {},
   "outputs": [
    {
     "data": {
      "image/png": "[encoded data removed]",
      "text/plain": [
       "<Figure size 1200x1800 with 3 Axes>"
      ]
     },
     "metadata": {},
     "output_type": "display_data"
    }
   ],
   "source": [
    "import matplotlib.dates as mdates\n",
    "\n",
    "hourly_stats.index = pd.to_datetime(hourly_stats.index)\n",
    "\n",
    "# Criando uma figura com subplots\n",
    "fig, axes = plt.subplots(3, 1, figsize=(12, 18))\n",
    "\n",
    "# Subplot 1: Preço médio por hora\n",
    "hourly_stats['price'].plot(ax=axes[0], color='blue')\n",
    "axes[0].set_title('Preço Médio por Hora')\n",
    "axes[0].set_ylabel('Preço')\n",
    "axes[0].grid(True)\n",
    "\n",
    "# Configurando os ticks e labels do eixo X manualmente\n",
    "tick_labels = hourly_stats.index.strftime('%H:%M')  # Formatar as datas para 'Hora:Minuto'\n",
    "tick_positions = range(len(hourly_stats.index))     # Gerar posições dos ticks correspondentes\n",
    "\n",
    "# Subplot 2: Volume total de transações por hora\n",
    "hourly_stats['qty'].plot(ax=axes[2], kind='bar', color='green')\n",
    "axes[2].set_title('Volume Total de Transações por Hora')\n",
    "axes[2].set_ylabel('Volume')\n",
    "axes[2].set_xticks(tick_positions)  # Definir a posição dos ticks\n",
    "axes[2].set_xticklabels(tick_labels, rotation=45)  # Definir os rótulos dos ticks e rotacionar para melhor visualização\n",
    "axes[2].grid(True)\n",
    "\n",
    "# Subplot 3: Proporções de compra e venda por hora\n",
    "hourly_stats[['buy_ratio', 'sell_ratio']].plot(ax=axes[1], kind='bar', stacked=False, color=['blue', 'red'])\n",
    "axes[1].set_title('Proporções de Compra vs Venda por Hora em 2024-05-01')\n",
    "axes[1].set_xlabel('Proporção')\n",
    "axes[1].set_ylabel('Hora do Dia')\n",
    "axes[1].legend(['Proporção de Compras', 'Proporção de Vendas'])\n",
    "axes[1].set_xticks(tick_positions)  # Definir a posição dos ticks\n",
    "axes[1].set_xticklabels(tick_labels, rotation=45)  # Definir os rótulos dos ticks e rotacionar para melhor visualização\n",
    "axes[1].grid(True)\n",
    "\n",
    "# Ajustando o layout e exibindo os gráficos\n",
    "plt.tight_layout()\n",
    "plt.show()"
   ]
  },
  {
   "cell_type": "markdown",
   "metadata": {},
   "source": [
    "# Resumo"
   ]
  },
  {
   "cell_type": "markdown",
   "metadata": {},
   "source": [
    "- **NumPy**: Exploramos a biblioteca NumPy, fundamental para a computação científica em Python. NumPy oferece suporte para arrays e matrizes multidimensionais e uma vasta coleção de funções matemáticas para operar eficientemente com esses arrays.\n",
    "\n",
    "- **Pandas**: Discutimos como a biblioteca Pandas é crucial para análise de dados devido às suas estruturas de dados ricas e funcionais, especialmente o DataFrame, que permite manipulação de dados de forma eficiente e intuitiva.\n",
    "\n",
    "- **Matplotlib**: Aprendemos a utilizar a biblioteca Matplotlib para a criação de visualizações de dados. Demonstramos como gerar diversos tipos de gráficos, que são essenciais para a análise e interpretação de dados complexos.\n",
    "\n",
    "Essas ferramentas são pilares na análise de dados com Python, proporcionando um poderoso conjunto de funcionalidades para manipulação, análise e visualização de dados.\n",
    "Esperamos que esses conceitos e ferramentas não apenas melhorem sua eficiência como cientista de dados, mas também abram novas possibilidades para suas análises futuras. \n",
    "  \n",
    "**Até a próxima!**"
   ]
  },
  {
   "cell_type": "markdown",
   "metadata": {},
   "source": [
    "# Referências"
   ]
  },
  {
   "cell_type": "markdown",
   "metadata": {},
   "source": [
    "MCKINNEY, Wes. **Python for data analysis**. \" O'Reilly Media, Inc.\", 2013.\n",
    "\n",
    "MUELLER, John Paul; MASSARON, Luca. **Python for data science for dummies**. John Wiley & Sons, 2019.\n",
    "\n",
    "YIM, Aldrin; CHUNG, Claire; YU, Allen. **Matplotlib for Python Developers: Effective techniques for data visualization with Python**. Packt Publishing Ltd, 2018."
   ]
  }
 ],
 "metadata": {
  "kernelspec": {
   "display_name": "moda",
   "language": "python",
   "name": "python3"
  },
  "language_info": {
   "codemirror_mode": {
    "name": "ipython",
    "version": 3
   },
   "file_extension": ".py",
   "mimetype": "text/x-python",
   "name": "python",
   "nbconvert_exporter": "python",
   "pygments_lexer": "ipython3",
   "version": "3.9.17"
  }
 },
 "nbformat": 4,
 "nbformat_minor": 2
}
